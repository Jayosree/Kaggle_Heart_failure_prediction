{
 "cells": [
  {
   "cell_type": "markdown",
   "id": "32b95f84",
   "metadata": {},
   "source": [
    "Cardiovascular diseases (CVDs) are the number 1 cause of death globally, taking an estimated 17.9 million lives each year, \n",
    "which accounts for 31% of all deaths worlwide. Heart failure is a common event caused by CVDs. \n",
    "This dataset contains 12 features that can be used to predict mortality by heart failure.\n",
    "\n",
    "Here, task is to create a machine learning model which can predict the mortality by heart faliure based on some heath conditions.\n",
    "\n",
    "Data dictionary :\n",
    "The meaning of each column in the data as below\n",
    "\n",
    "age : age\n",
    "anaemia : Decrease of red blood cells or hemoglobin (boolean)\n",
    "creatinine_phosphokinase : Level of the CPK enzyme in the blood (mcg/L)\n",
    "diabetes : If the patient has diabetes (boolean)\n",
    "ejection_fraction : Percentage of blood leaving the heart at each contraction (percentage)\n",
    "high_blood_pressure : If the patient has hypertension (boolean)\n",
    "platelets : Platelets in the blood (kiloplatelets/mL)\n",
    "serum_creatinine : Level of serum creatinine in the blood (mg/dL)\n",
    "serum_sodium : Level of serum sodium in the blood (mEq/L)\n",
    "sex : Woman or man (binary)\n",
    "smoking : If the patient smokes or not (boolean)\n",
    "time : Follow-up period (days)\n",
    "DEATH_EVENT : If the patient deceased during the follow-up period (boolean) ---> Target Variable\n",
    "\n",
    "\n",
    "Data source : https://www.kaggle.com/"
   ]
  },
  {
   "cell_type": "code",
   "execution_count": 259,
   "id": "6291bd0a",
   "metadata": {},
   "outputs": [],
   "source": [
    "import pandas as pd\n",
    "import numpy as np"
   ]
  },
  {
   "cell_type": "code",
   "execution_count": 260,
   "id": "24147fd2",
   "metadata": {},
   "outputs": [
    {
     "data": {
      "text/html": [
       "<div>\n",
       "<style scoped>\n",
       "    .dataframe tbody tr th:only-of-type {\n",
       "        vertical-align: middle;\n",
       "    }\n",
       "\n",
       "    .dataframe tbody tr th {\n",
       "        vertical-align: top;\n",
       "    }\n",
       "\n",
       "    .dataframe thead th {\n",
       "        text-align: right;\n",
       "    }\n",
       "</style>\n",
       "<table border=\"1\" class=\"dataframe\">\n",
       "  <thead>\n",
       "    <tr style=\"text-align: right;\">\n",
       "      <th></th>\n",
       "      <th>age</th>\n",
       "      <th>anaemia</th>\n",
       "      <th>creatinine_phosphokinase</th>\n",
       "      <th>diabetes</th>\n",
       "      <th>ejection_fraction</th>\n",
       "      <th>high_blood_pressure</th>\n",
       "      <th>platelets</th>\n",
       "      <th>serum_creatinine</th>\n",
       "      <th>serum_sodium</th>\n",
       "      <th>sex</th>\n",
       "      <th>smoking</th>\n",
       "      <th>time</th>\n",
       "      <th>DEATH_EVENT</th>\n",
       "    </tr>\n",
       "  </thead>\n",
       "  <tbody>\n",
       "    <tr>\n",
       "      <th>0</th>\n",
       "      <td>75.0</td>\n",
       "      <td>0</td>\n",
       "      <td>582</td>\n",
       "      <td>0</td>\n",
       "      <td>20</td>\n",
       "      <td>1</td>\n",
       "      <td>265000.00</td>\n",
       "      <td>1.9</td>\n",
       "      <td>130</td>\n",
       "      <td>1</td>\n",
       "      <td>0</td>\n",
       "      <td>4</td>\n",
       "      <td>1</td>\n",
       "    </tr>\n",
       "    <tr>\n",
       "      <th>1</th>\n",
       "      <td>55.0</td>\n",
       "      <td>0</td>\n",
       "      <td>7861</td>\n",
       "      <td>0</td>\n",
       "      <td>38</td>\n",
       "      <td>0</td>\n",
       "      <td>263358.03</td>\n",
       "      <td>1.1</td>\n",
       "      <td>136</td>\n",
       "      <td>1</td>\n",
       "      <td>0</td>\n",
       "      <td>6</td>\n",
       "      <td>1</td>\n",
       "    </tr>\n",
       "    <tr>\n",
       "      <th>2</th>\n",
       "      <td>65.0</td>\n",
       "      <td>0</td>\n",
       "      <td>146</td>\n",
       "      <td>0</td>\n",
       "      <td>20</td>\n",
       "      <td>0</td>\n",
       "      <td>162000.00</td>\n",
       "      <td>1.3</td>\n",
       "      <td>129</td>\n",
       "      <td>1</td>\n",
       "      <td>1</td>\n",
       "      <td>7</td>\n",
       "      <td>1</td>\n",
       "    </tr>\n",
       "    <tr>\n",
       "      <th>3</th>\n",
       "      <td>50.0</td>\n",
       "      <td>1</td>\n",
       "      <td>111</td>\n",
       "      <td>0</td>\n",
       "      <td>20</td>\n",
       "      <td>0</td>\n",
       "      <td>210000.00</td>\n",
       "      <td>1.9</td>\n",
       "      <td>137</td>\n",
       "      <td>1</td>\n",
       "      <td>0</td>\n",
       "      <td>7</td>\n",
       "      <td>1</td>\n",
       "    </tr>\n",
       "    <tr>\n",
       "      <th>4</th>\n",
       "      <td>65.0</td>\n",
       "      <td>1</td>\n",
       "      <td>160</td>\n",
       "      <td>1</td>\n",
       "      <td>20</td>\n",
       "      <td>0</td>\n",
       "      <td>327000.00</td>\n",
       "      <td>2.7</td>\n",
       "      <td>116</td>\n",
       "      <td>0</td>\n",
       "      <td>0</td>\n",
       "      <td>8</td>\n",
       "      <td>1</td>\n",
       "    </tr>\n",
       "  </tbody>\n",
       "</table>\n",
       "</div>"
      ],
      "text/plain": [
       "    age  anaemia  creatinine_phosphokinase  diabetes  ejection_fraction  \\\n",
       "0  75.0        0                       582         0                 20   \n",
       "1  55.0        0                      7861         0                 38   \n",
       "2  65.0        0                       146         0                 20   \n",
       "3  50.0        1                       111         0                 20   \n",
       "4  65.0        1                       160         1                 20   \n",
       "\n",
       "   high_blood_pressure  platelets  serum_creatinine  serum_sodium  sex  \\\n",
       "0                    1  265000.00               1.9           130    1   \n",
       "1                    0  263358.03               1.1           136    1   \n",
       "2                    0  162000.00               1.3           129    1   \n",
       "3                    0  210000.00               1.9           137    1   \n",
       "4                    0  327000.00               2.7           116    0   \n",
       "\n",
       "   smoking  time  DEATH_EVENT  \n",
       "0        0     4            1  \n",
       "1        0     6            1  \n",
       "2        1     7            1  \n",
       "3        0     7            1  \n",
       "4        0     8            1  "
      ]
     },
     "execution_count": 260,
     "metadata": {},
     "output_type": "execute_result"
    }
   ],
   "source": [
    "data=pd.read_csv('C:\\\\Users\\\\Jaysree\\\\OneDrive\\\\kaggle\\\\heart_failure_clinical_records_dataset.csv')\n",
    "data.head()"
   ]
  },
  {
   "cell_type": "code",
   "execution_count": 261,
   "id": "c54855ac",
   "metadata": {},
   "outputs": [
    {
     "data": {
      "text/plain": [
       "Index(['age', 'anaemia', 'creatinine_phosphokinase', 'diabetes',\n",
       "       'ejection_fraction', 'high_blood_pressure', 'platelets',\n",
       "       'serum_creatinine', 'serum_sodium', 'sex', 'smoking', 'time',\n",
       "       'DEATH_EVENT'],\n",
       "      dtype='object')"
      ]
     },
     "execution_count": 261,
     "metadata": {},
     "output_type": "execute_result"
    }
   ],
   "source": [
    "data.columns"
   ]
  },
  {
   "cell_type": "code",
   "execution_count": 262,
   "id": "072a44b3",
   "metadata": {},
   "outputs": [
    {
     "name": "stdout",
     "output_type": "stream",
     "text": [
      "<class 'pandas.core.frame.DataFrame'>\n",
      "RangeIndex: 299 entries, 0 to 298\n",
      "Data columns (total 13 columns):\n",
      " #   Column                    Non-Null Count  Dtype  \n",
      "---  ------                    --------------  -----  \n",
      " 0   age                       299 non-null    float64\n",
      " 1   anaemia                   299 non-null    int64  \n",
      " 2   creatinine_phosphokinase  299 non-null    int64  \n",
      " 3   diabetes                  299 non-null    int64  \n",
      " 4   ejection_fraction         299 non-null    int64  \n",
      " 5   high_blood_pressure       299 non-null    int64  \n",
      " 6   platelets                 299 non-null    float64\n",
      " 7   serum_creatinine          299 non-null    float64\n",
      " 8   serum_sodium              299 non-null    int64  \n",
      " 9   sex                       299 non-null    int64  \n",
      " 10  smoking                   299 non-null    int64  \n",
      " 11  time                      299 non-null    int64  \n",
      " 12  DEATH_EVENT               299 non-null    int64  \n",
      "dtypes: float64(3), int64(10)\n",
      "memory usage: 30.5 KB\n"
     ]
    }
   ],
   "source": [
    "data.info()\n",
    "# 299 entries\n",
    "# 12 columns\n",
    "# no missing values in any column"
   ]
  },
  {
   "cell_type": "code",
   "execution_count": 263,
   "id": "7e633cb9",
   "metadata": {
    "scrolled": false
   },
   "outputs": [
    {
     "data": {
      "text/plain": [
       "age                          47\n",
       "anaemia                       2\n",
       "creatinine_phosphokinase    208\n",
       "diabetes                      2\n",
       "ejection_fraction            17\n",
       "high_blood_pressure           2\n",
       "platelets                   176\n",
       "serum_creatinine             40\n",
       "serum_sodium                 27\n",
       "sex                           2\n",
       "smoking                       2\n",
       "time                        148\n",
       "DEATH_EVENT                   2\n",
       "dtype: int64"
      ]
     },
     "execution_count": 263,
     "metadata": {},
     "output_type": "execute_result"
    }
   ],
   "source": [
    "data.nunique()"
   ]
  },
  {
   "cell_type": "code",
   "execution_count": 264,
   "id": "6b66d9ca",
   "metadata": {},
   "outputs": [
    {
     "name": "stdout",
     "output_type": "stream",
     "text": [
      "anaemia\n",
      "[0 1]\n",
      "\n",
      "\n",
      "diabetes\n",
      "[0 1]\n",
      "\n",
      "\n",
      "high_blood_pressure\n",
      "[1 0]\n",
      "\n",
      "\n",
      "sex\n",
      "[1 0]\n",
      "\n",
      "\n",
      "smoking\n",
      "[0 1]\n",
      "\n",
      "\n",
      "DEATH_EVENT\n",
      "[1 0]\n"
     ]
    }
   ],
   "source": [
    "# print(data['age'].unique()) - continuous\n",
    "print('anaemia')\n",
    "print(data['anaemia'].unique()) #categorical\n",
    "\n",
    "# print(data['creatinine_phosphokinase'].unique()) - continuous\n",
    "print('\\n')\n",
    "print('diabetes')\n",
    "print(data['diabetes'].unique()) #categorical\n",
    "\n",
    "# print('ejection_fraction')\n",
    "# print(data['ejection_fraction'].unique()) -continuous\n",
    "print('\\n')\n",
    "print('high_blood_pressure')\n",
    "print(data['high_blood_pressure'].unique()) #categorical\n",
    "# print('\\n')\n",
    "# print(data['platelets'].unique()) -continuous\n",
    "# print('\\n')\n",
    "# print(data['serum_creatinine'].unique()) -continuous\n",
    "\n",
    "# print(data['serum_sodium'].unique()) - continuous\n",
    "print('\\n')\n",
    "print('sex')\n",
    "print(data['sex'].unique())  #categorical\n",
    "\n",
    "print('\\n')\n",
    "print('smoking')\n",
    "print(data['smoking'].unique()) #categorical\n",
    "# print('\\n')\n",
    "print('\\n')\n",
    "# print(data['time'].unique()) - continuous\n",
    "print('DEATH_EVENT')\n",
    "print(data['DEATH_EVENT'].unique())  #categorical"
   ]
  },
  {
   "cell_type": "code",
   "execution_count": 363,
   "id": "cf7f6aed",
   "metadata": {},
   "outputs": [
    {
     "name": "stdout",
     "output_type": "stream",
     "text": [
      "categorical_features :  ['anaemia', 'diabetes', 'high_blood_pressure', 'sex', 'smoking']\n",
      "continuous_features :  ['age', 'creatinine_phosphokinase', 'ejection_fraction', 'platelets', 'serum_creatinine', 'serum_sodium', 'time']\n",
      "targer variable :  DEATH_EVENT\n"
     ]
    }
   ],
   "source": [
    "categorical_features= ['anaemia', 'diabetes','high_blood_pressure', 'sex', 'smoking']\n",
    "print('categorical_features : ', categorical_features)\n",
    "continuous_features=['age',  'creatinine_phosphokinase', \n",
    "       'ejection_fraction', 'platelets',\n",
    "       'serum_creatinine', 'serum_sodium',  'time']\n",
    "print('continuous_features : ', continuous_features)\n",
    "target_variable='DEATH_EVENT'\n",
    "print('targer variable : ', target_variable)"
   ]
  },
  {
   "cell_type": "code",
   "execution_count": 364,
   "id": "54f39b7d",
   "metadata": {},
   "outputs": [
    {
     "data": {
      "text/html": [
       "<div>\n",
       "<style scoped>\n",
       "    .dataframe tbody tr th:only-of-type {\n",
       "        vertical-align: middle;\n",
       "    }\n",
       "\n",
       "    .dataframe tbody tr th {\n",
       "        vertical-align: top;\n",
       "    }\n",
       "\n",
       "    .dataframe thead th {\n",
       "        text-align: right;\n",
       "    }\n",
       "</style>\n",
       "<table border=\"1\" class=\"dataframe\">\n",
       "  <thead>\n",
       "    <tr style=\"text-align: right;\">\n",
       "      <th></th>\n",
       "      <th>count</th>\n",
       "      <th>mean</th>\n",
       "      <th>std</th>\n",
       "      <th>min</th>\n",
       "      <th>25%</th>\n",
       "      <th>50%</th>\n",
       "      <th>75%</th>\n",
       "      <th>max</th>\n",
       "    </tr>\n",
       "  </thead>\n",
       "  <tbody>\n",
       "    <tr>\n",
       "      <th>age</th>\n",
       "      <td>299.0</td>\n",
       "      <td>60.833893</td>\n",
       "      <td>11.894809</td>\n",
       "      <td>40.0</td>\n",
       "      <td>51.0</td>\n",
       "      <td>60.0</td>\n",
       "      <td>70.0</td>\n",
       "      <td>95.0</td>\n",
       "    </tr>\n",
       "    <tr>\n",
       "      <th>anaemia</th>\n",
       "      <td>299.0</td>\n",
       "      <td>0.431438</td>\n",
       "      <td>0.496107</td>\n",
       "      <td>0.0</td>\n",
       "      <td>0.0</td>\n",
       "      <td>0.0</td>\n",
       "      <td>1.0</td>\n",
       "      <td>1.0</td>\n",
       "    </tr>\n",
       "    <tr>\n",
       "      <th>creatinine_phosphokinase</th>\n",
       "      <td>299.0</td>\n",
       "      <td>417.889632</td>\n",
       "      <td>368.110910</td>\n",
       "      <td>67.6</td>\n",
       "      <td>116.5</td>\n",
       "      <td>250.0</td>\n",
       "      <td>582.0</td>\n",
       "      <td>1203.8</td>\n",
       "    </tr>\n",
       "    <tr>\n",
       "      <th>diabetes</th>\n",
       "      <td>299.0</td>\n",
       "      <td>0.418060</td>\n",
       "      <td>0.494067</td>\n",
       "      <td>0.0</td>\n",
       "      <td>0.0</td>\n",
       "      <td>0.0</td>\n",
       "      <td>1.0</td>\n",
       "      <td>1.0</td>\n",
       "    </tr>\n",
       "    <tr>\n",
       "      <th>ejection_fraction</th>\n",
       "      <td>299.0</td>\n",
       "      <td>38.411371</td>\n",
       "      <td>10.834385</td>\n",
       "      <td>25.0</td>\n",
       "      <td>30.0</td>\n",
       "      <td>38.0</td>\n",
       "      <td>45.0</td>\n",
       "      <td>60.0</td>\n",
       "    </tr>\n",
       "    <tr>\n",
       "      <th>high_blood_pressure</th>\n",
       "      <td>299.0</td>\n",
       "      <td>0.351171</td>\n",
       "      <td>0.478136</td>\n",
       "      <td>0.0</td>\n",
       "      <td>0.0</td>\n",
       "      <td>0.0</td>\n",
       "      <td>1.0</td>\n",
       "      <td>1.0</td>\n",
       "    </tr>\n",
       "    <tr>\n",
       "      <th>platelets</th>\n",
       "      <td>299.0</td>\n",
       "      <td>258093.480769</td>\n",
       "      <td>67300.036880</td>\n",
       "      <td>153000.0</td>\n",
       "      <td>212500.0</td>\n",
       "      <td>262000.0</td>\n",
       "      <td>303500.0</td>\n",
       "      <td>374600.0</td>\n",
       "    </tr>\n",
       "    <tr>\n",
       "      <th>serum_creatinine</th>\n",
       "      <td>299.0</td>\n",
       "      <td>1.239866</td>\n",
       "      <td>0.417866</td>\n",
       "      <td>0.8</td>\n",
       "      <td>0.9</td>\n",
       "      <td>1.1</td>\n",
       "      <td>1.4</td>\n",
       "      <td>2.1</td>\n",
       "    </tr>\n",
       "    <tr>\n",
       "      <th>serum_sodium</th>\n",
       "      <td>299.0</td>\n",
       "      <td>136.775920</td>\n",
       "      <td>3.015167</td>\n",
       "      <td>132.0</td>\n",
       "      <td>134.0</td>\n",
       "      <td>137.0</td>\n",
       "      <td>140.0</td>\n",
       "      <td>141.2</td>\n",
       "    </tr>\n",
       "    <tr>\n",
       "      <th>sex</th>\n",
       "      <td>299.0</td>\n",
       "      <td>0.648829</td>\n",
       "      <td>0.478136</td>\n",
       "      <td>0.0</td>\n",
       "      <td>0.0</td>\n",
       "      <td>1.0</td>\n",
       "      <td>1.0</td>\n",
       "      <td>1.0</td>\n",
       "    </tr>\n",
       "    <tr>\n",
       "      <th>smoking</th>\n",
       "      <td>299.0</td>\n",
       "      <td>0.321070</td>\n",
       "      <td>0.467670</td>\n",
       "      <td>0.0</td>\n",
       "      <td>0.0</td>\n",
       "      <td>0.0</td>\n",
       "      <td>1.0</td>\n",
       "      <td>1.0</td>\n",
       "    </tr>\n",
       "    <tr>\n",
       "      <th>time</th>\n",
       "      <td>299.0</td>\n",
       "      <td>130.260870</td>\n",
       "      <td>77.614208</td>\n",
       "      <td>4.0</td>\n",
       "      <td>73.0</td>\n",
       "      <td>115.0</td>\n",
       "      <td>203.0</td>\n",
       "      <td>285.0</td>\n",
       "    </tr>\n",
       "    <tr>\n",
       "      <th>DEATH_EVENT</th>\n",
       "      <td>299.0</td>\n",
       "      <td>0.321070</td>\n",
       "      <td>0.467670</td>\n",
       "      <td>0.0</td>\n",
       "      <td>0.0</td>\n",
       "      <td>0.0</td>\n",
       "      <td>1.0</td>\n",
       "      <td>1.0</td>\n",
       "    </tr>\n",
       "  </tbody>\n",
       "</table>\n",
       "</div>"
      ],
      "text/plain": [
       "                          count           mean           std       min  \\\n",
       "age                       299.0      60.833893     11.894809      40.0   \n",
       "anaemia                   299.0       0.431438      0.496107       0.0   \n",
       "creatinine_phosphokinase  299.0     417.889632    368.110910      67.6   \n",
       "diabetes                  299.0       0.418060      0.494067       0.0   \n",
       "ejection_fraction         299.0      38.411371     10.834385      25.0   \n",
       "high_blood_pressure       299.0       0.351171      0.478136       0.0   \n",
       "platelets                 299.0  258093.480769  67300.036880  153000.0   \n",
       "serum_creatinine          299.0       1.239866      0.417866       0.8   \n",
       "serum_sodium              299.0     136.775920      3.015167     132.0   \n",
       "sex                       299.0       0.648829      0.478136       0.0   \n",
       "smoking                   299.0       0.321070      0.467670       0.0   \n",
       "time                      299.0     130.260870     77.614208       4.0   \n",
       "DEATH_EVENT               299.0       0.321070      0.467670       0.0   \n",
       "\n",
       "                               25%       50%       75%       max  \n",
       "age                           51.0      60.0      70.0      95.0  \n",
       "anaemia                        0.0       0.0       1.0       1.0  \n",
       "creatinine_phosphokinase     116.5     250.0     582.0    1203.8  \n",
       "diabetes                       0.0       0.0       1.0       1.0  \n",
       "ejection_fraction             30.0      38.0      45.0      60.0  \n",
       "high_blood_pressure            0.0       0.0       1.0       1.0  \n",
       "platelets                 212500.0  262000.0  303500.0  374600.0  \n",
       "serum_creatinine               0.9       1.1       1.4       2.1  \n",
       "serum_sodium                 134.0     137.0     140.0     141.2  \n",
       "sex                            0.0       1.0       1.0       1.0  \n",
       "smoking                        0.0       0.0       1.0       1.0  \n",
       "time                          73.0     115.0     203.0     285.0  \n",
       "DEATH_EVENT                    0.0       0.0       1.0       1.0  "
      ]
     },
     "execution_count": 364,
     "metadata": {},
     "output_type": "execute_result"
    }
   ],
   "source": [
    "# summary statistics for numerical variables\n",
    "data.describe().T\n",
    "\n",
    "# average age is around 60 years, with min 40 myears and maximum 95 years\n",
    "\n",
    "# # creatinine_phosphokinase (some enzyme present in blood and measured in mcg/L which is Micrograms per litre)\n",
    "# average of this is 581 mcg/L with minimum being 23.0 and max being 7861.0\n",
    "\n",
    "# ejection_fraction (percentage of blood leaving the heart at each contraction)\n",
    "# average percentage is 38% with min being 14% and max being 80%\n",
    "\n",
    "# platelets (platelets in blood (kiloplatelets/ML))\n",
    "# average being 263358.029264 with min being 25100.0 and max being 850000.0 kiloplatelets\n",
    "\n",
    "# serum_creatinine (level of serum_creatinine in blood (milligrams (mg) per deciliter (dL)))\n",
    "# average being 1.393880 with min being 0.5 and max being 9.4 kiloplatelets\n",
    "\n",
    "# serum_sodium (level of serum sodium in the blood (mEg/L))\n",
    "# average being 136.625418 with min being 113.0 and max being 148.0 kiloplatelets\n",
    "\n",
    "# time(follow-up period) (days)\n",
    "# average being 130 days with min 4 days and max 285 days\n"
   ]
  },
  {
   "cell_type": "markdown",
   "id": "42bf53df",
   "metadata": {},
   "source": [
    "# univariate analysis - categorical variable"
   ]
  },
  {
   "cell_type": "code",
   "execution_count": 365,
   "id": "87a34bdd",
   "metadata": {},
   "outputs": [],
   "source": [
    "# as the target variable is categorical will look into that first\n",
    "import matplotlib.pyplot as plt\n",
    "%matplotlib inline"
   ]
  },
  {
   "cell_type": "code",
   "execution_count": 366,
   "id": "55c6bd07",
   "metadata": {
    "scrolled": true
   },
   "outputs": [
    {
     "data": {
      "text/plain": [
       "<AxesSubplot:xlabel='DEATH_EVENT'>"
      ]
     },
     "execution_count": 366,
     "metadata": {},
     "output_type": "execute_result"
    },
    {
     "data": {
      "image/png": "[encoded data removed]",
      "text/plain": [
       "<Figure size 432x288 with 1 Axes>"
      ]
     },
     "metadata": {
      "needs_background": "light"
     },
     "output_type": "display_data"
    }
   ],
   "source": [
    "GroupedData= data.groupby('DEATH_EVENT').size()\n",
    "GroupedData.plot(kind='bar')"
   ]
  },
  {
   "cell_type": "markdown",
   "id": "e26c4ddb",
   "metadata": {},
   "source": [
    "# univariate analysis of all categorical variables"
   ]
  },
  {
   "cell_type": "code",
   "execution_count": 367,
   "id": "7a5b32f5",
   "metadata": {},
   "outputs": [
    {
     "data": {
      "image/png": "[encoded data removed]",
      "text/plain": [
       "<Figure size 3600x432 with 5 Axes>"
      ]
     },
     "metadata": {
      "needs_background": "light"
     },
     "output_type": "display_data"
    }
   ],
   "source": [
    "def PlotBarCharts(inpdata, colstoplot):\n",
    "    %matplotlib inline\n",
    "    \n",
    "    import matplotlib.pyplot as plt\n",
    "    \n",
    "    #generating subplots\n",
    "    fig, subplot=plt.subplots(nrows=1,ncols=len(colstoplot), figsize=(50,6))\n",
    "    fig.suptitle('Bar charts of: '+ str(colstoplot))\n",
    "    \n",
    "    for colName,plotNumber in zip(colstoplot,range(len(colstoplot))):\n",
    "        inpdata.groupby(colName).size().plot(kind='bar',color=['red','grey'], ax=subplot[plotNumber])\n",
    "        \n",
    "        \n",
    "PlotBarCharts(inpdata=data, colstoplot= ['anaemia', 'diabetes','high_blood_pressure', 'sex', 'smoking'])"
   ]
  },
  {
   "cell_type": "code",
   "execution_count": 368,
   "id": "e75cceab",
   "metadata": {},
   "outputs": [
    {
     "data": {
      "image/png": "[encoded data removed]",
      "text/plain": [
       "<Figure size 720x1440 with 5 Axes>"
      ]
     },
     "metadata": {
      "needs_background": "light"
     },
     "output_type": "display_data"
    }
   ],
   "source": [
    "import matplotlib.pyplot as plt\n",
    "fig, PlotCanvas=plt.subplots(nrows=len(categorical_features), ncols=1, figsize=(10,20))\n",
    "\n",
    "# Creating Grouped bar plots for each categorical predictor against the Target Variable \"Loan_Status\"\n",
    "for CategoricalCol , i in zip(categorical_features, range(len(categorical_features))):\n",
    "    CrossTabResult=pd.crosstab(index=data[CategoricalCol], columns=data['DEATH_EVENT'])\n",
    "    CrossTabResult.plot.bar(color=['red','grey'], ax=PlotCanvas[i])\n",
    "        # Set title for each subplot\n",
    "#     PlotCanvas[i].set_title(f'{CategoricalCol} vs DEATH_EVENT')\n",
    "\n",
    "plt.tight_layout()\n",
    "# plt.show()"
   ]
  },
  {
   "cell_type": "markdown",
   "id": "d71410fe",
   "metadata": {},
   "source": [
    "# univariate analysis for all continuous variables"
   ]
  },
  {
   "cell_type": "code",
   "execution_count": 369,
   "id": "141d7f7c",
   "metadata": {
    "scrolled": true
   },
   "outputs": [
    {
     "data": {
      "text/plain": [
       "array([[<AxesSubplot:title={'center':'age'}>,\n",
       "        <AxesSubplot:title={'center':'creatinine_phosphokinase'}>,\n",
       "        <AxesSubplot:title={'center':'ejection_fraction'}>],\n",
       "       [<AxesSubplot:title={'center':'platelets'}>,\n",
       "        <AxesSubplot:title={'center':'serum_creatinine'}>,\n",
       "        <AxesSubplot:title={'center':'serum_sodium'}>],\n",
       "       [<AxesSubplot:title={'center':'time'}>, <AxesSubplot:>,\n",
       "        <AxesSubplot:>]], dtype=object)"
      ]
     },
     "execution_count": 369,
     "metadata": {},
     "output_type": "execute_result"
    },
    {
     "data": {
      "image/png": "[encoded data removed]",
      "text/plain": [
       "<Figure size 1296x720 with 9 Axes>"
      ]
     },
     "metadata": {
      "needs_background": "light"
     },
     "output_type": "display_data"
    }
   ],
   "source": [
    "data.hist(['age',  'creatinine_phosphokinase', \n",
    "       'ejection_fraction', 'platelets',\n",
    "       'serum_creatinine', 'serum_sodium',  'time'], figsize=(18,10))\n"
   ]
  },
  {
   "cell_type": "markdown",
   "id": "946a3408",
   "metadata": {},
   "source": [
    "### all columns selected but creatinine_phosphokinase, serum_creatinine are right skewed\n",
    "### outlier treatment needs to be done"
   ]
  },
  {
   "cell_type": "markdown",
   "id": "168a2eb2",
   "metadata": {},
   "source": [
    "# detecting outliers in continuous variables"
   ]
  },
  {
   "cell_type": "markdown",
   "id": "81a240d3",
   "metadata": {},
   "source": [
    "#### creating a user defined function to detect outliers in all continuous predictors using IQR method"
   ]
  },
  {
   "cell_type": "code",
   "execution_count": 370,
   "id": "6caadc7f",
   "metadata": {},
   "outputs": [],
   "source": [
    "import pandas as pd\n",
    "import numpy as np\n",
    "\n",
    "def detect_outliers_iqr(df):\n",
    "    outliers = {}\n",
    "    outliers_count = {}\n",
    "    \n",
    "    for column in df.columns:\n",
    "        if pd.api.types.is_numeric_dtype(df[column]):\n",
    "            data = df[column]\n",
    "            outliers[column] = []\n",
    "            outliers_count[column] = 0 \n",
    "            \n",
    "            data = data.dropna()  # Drop NaN values\n",
    "                \n",
    "            data = sorted(data)\n",
    "            q1 = np.percentile(data, 25)\n",
    "            q3 = np.percentile(data, 75)\n",
    "            iqr = q3 - q1\n",
    "            \n",
    "            lower_bound = q1 - (1.5 * iqr)\n",
    "            upper_bound = q3 + (1.5 * iqr)\n",
    "            \n",
    "            for value in data:\n",
    "                if value < lower_bound or value > upper_bound:\n",
    "                    outliers[column].append(value)\n",
    "                    outliers_count[column] += 1   # Increment count for each outlier\n",
    "    return outliers,outliers_count"
   ]
  },
  {
   "cell_type": "code",
   "execution_count": 371,
   "id": "67d7cda5",
   "metadata": {
    "scrolled": true
   },
   "outputs": [
    {
     "name": "stdout",
     "output_type": "stream",
     "text": [
      "Outliers:\n",
      "{'age': [], 'creatinine_phosphokinase': [], 'ejection_fraction': [], 'platelets': [], 'serum_creatinine': [], 'serum_sodium': [], 'time': []}\n",
      "\n",
      "Outliers Count:\n",
      "{'age': 0, 'creatinine_phosphokinase': 0, 'ejection_fraction': 0, 'platelets': 0, 'serum_creatinine': 0, 'serum_sodium': 0, 'time': 0}\n"
     ]
    }
   ],
   "source": [
    "outliers, outliers_count = detect_outliers_iqr(data[continuous_features])\n",
    "print(\"Outliers:\")\n",
    "print(outliers)\n",
    "print(\"\\nOutliers Count:\")\n",
    "print(outliers_count)"
   ]
  },
  {
   "cell_type": "code",
   "execution_count": 372,
   "id": "c86d68cf",
   "metadata": {},
   "outputs": [
    {
     "name": "stdout",
     "output_type": "stream",
     "text": [
      "columns without outliers :  {'age': 0, 'creatinine_phosphokinase': 0, 'ejection_fraction': 0, 'platelets': 0, 'serum_creatinine': 0, 'serum_sodium': 0, 'time': 0}\n"
     ]
    }
   ],
   "source": [
    "# Create a new dictionary containing column names and outlier counts where count is not equal to 0\n",
    "# this process is called dictionary comprehension \n",
    "# (reference link : https://www.geeksforgeeks.org/python-dictionary-comprehension/)\n",
    "columns_without_outliers = {column: count for column, count in outliers_count.items() if count == 0}\n",
    "\n",
    "print('columns without outliers : ',columns_without_outliers)\n",
    "# do not need to treat these columns"
   ]
  },
  {
   "cell_type": "code",
   "execution_count": 373,
   "id": "56402054",
   "metadata": {},
   "outputs": [
    {
     "data": {
      "text/plain": [
       "<AxesSubplot:>"
      ]
     },
     "execution_count": 373,
     "metadata": {},
     "output_type": "execute_result"
    },
    {
     "data": {
      "image/png": "[encoded data removed]",
      "text/plain": [
       "<Figure size 432x288 with 1 Axes>"
      ]
     },
     "metadata": {
      "needs_background": "light"
     },
     "output_type": "display_data"
    }
   ],
   "source": [
    "data.boxplot(column='age', vert=False)"
   ]
  },
  {
   "cell_type": "code",
   "execution_count": 374,
   "id": "5f9f7634",
   "metadata": {
    "scrolled": true
   },
   "outputs": [
    {
     "data": {
      "text/plain": [
       "<AxesSubplot:>"
      ]
     },
     "execution_count": 374,
     "metadata": {},
     "output_type": "execute_result"
    },
    {
     "data": {
      "image/png": "[encoded data removed]",
      "text/plain": [
       "<Figure size 432x288 with 1 Axes>"
      ]
     },
     "metadata": {
      "needs_background": "light"
     },
     "output_type": "display_data"
    }
   ],
   "source": [
    "data.boxplot(column='time', vert=False)"
   ]
  },
  {
   "cell_type": "markdown",
   "id": "66ad4e0a",
   "metadata": {},
   "source": [
    "#### do not have outliers in two predictors i.e., age, time. can use it as it is. But, need to treat the rest"
   ]
  },
  {
   "cell_type": "markdown",
   "id": "b739400b",
   "metadata": {},
   "source": [
    "# treating outliers of the continuous predictors"
   ]
  },
  {
   "cell_type": "code",
   "execution_count": 375,
   "id": "89172bd9",
   "metadata": {},
   "outputs": [
    {
     "name": "stdout",
     "output_type": "stream",
     "text": [
      "columns with outliers :  {}\n"
     ]
    }
   ],
   "source": [
    "# Create a new dictionary containing column names and outlier counts where count is not equal to 0\n",
    "columns_with_outliers = {column: count for column, count in outliers_count.items() if count != 0}\n",
    "\n",
    "print('columns with outliers : ',columns_with_outliers)"
   ]
  },
  {
   "cell_type": "code",
   "execution_count": 376,
   "id": "29daf655",
   "metadata": {
    "scrolled": true
   },
   "outputs": [
    {
     "data": {
      "text/html": [
       "<div>\n",
       "<style scoped>\n",
       "    .dataframe tbody tr th:only-of-type {\n",
       "        vertical-align: middle;\n",
       "    }\n",
       "\n",
       "    .dataframe tbody tr th {\n",
       "        vertical-align: top;\n",
       "    }\n",
       "\n",
       "    .dataframe thead th {\n",
       "        text-align: right;\n",
       "    }\n",
       "</style>\n",
       "<table border=\"1\" class=\"dataframe\">\n",
       "  <thead>\n",
       "    <tr style=\"text-align: right;\">\n",
       "      <th></th>\n",
       "      <th>creatinine_phosphokinase</th>\n",
       "      <th>ejection_fraction</th>\n",
       "      <th>platelets</th>\n",
       "      <th>serum_creatinine</th>\n",
       "      <th>serum_sodium</th>\n",
       "    </tr>\n",
       "  </thead>\n",
       "  <tbody>\n",
       "    <tr>\n",
       "      <th>0</th>\n",
       "      <td>582.0</td>\n",
       "      <td>25.0</td>\n",
       "      <td>265000.00</td>\n",
       "      <td>1.9</td>\n",
       "      <td>132.0</td>\n",
       "    </tr>\n",
       "    <tr>\n",
       "      <th>1</th>\n",
       "      <td>1203.8</td>\n",
       "      <td>38.0</td>\n",
       "      <td>263358.03</td>\n",
       "      <td>1.1</td>\n",
       "      <td>136.0</td>\n",
       "    </tr>\n",
       "    <tr>\n",
       "      <th>2</th>\n",
       "      <td>146.0</td>\n",
       "      <td>25.0</td>\n",
       "      <td>162000.00</td>\n",
       "      <td>1.3</td>\n",
       "      <td>132.0</td>\n",
       "    </tr>\n",
       "    <tr>\n",
       "      <th>3</th>\n",
       "      <td>111.0</td>\n",
       "      <td>25.0</td>\n",
       "      <td>210000.00</td>\n",
       "      <td>1.9</td>\n",
       "      <td>137.0</td>\n",
       "    </tr>\n",
       "    <tr>\n",
       "      <th>4</th>\n",
       "      <td>160.0</td>\n",
       "      <td>25.0</td>\n",
       "      <td>327000.00</td>\n",
       "      <td>2.1</td>\n",
       "      <td>132.0</td>\n",
       "    </tr>\n",
       "  </tbody>\n",
       "</table>\n",
       "</div>"
      ],
      "text/plain": [
       "   creatinine_phosphokinase  ejection_fraction  platelets  serum_creatinine  \\\n",
       "0                     582.0               25.0  265000.00               1.9   \n",
       "1                    1203.8               38.0  263358.03               1.1   \n",
       "2                     146.0               25.0  162000.00               1.3   \n",
       "3                     111.0               25.0  210000.00               1.9   \n",
       "4                     160.0               25.0  327000.00               2.1   \n",
       "\n",
       "   serum_sodium  \n",
       "0         132.0  \n",
       "1         136.0  \n",
       "2         132.0  \n",
       "3         137.0  \n",
       "4         132.0  "
      ]
     },
     "execution_count": 376,
     "metadata": {},
     "output_type": "execute_result"
    }
   ],
   "source": [
    "outliers_to_treat=['creatinine_phosphokinase','ejection_fraction','platelets','serum_creatinine',\n",
    "                                'serum_sodium']\n",
    "outliers_to_treat=pd.DataFrame(data[outliers_to_treat])\n",
    "outliers_to_treat.head()"
   ]
  },
  {
   "cell_type": "markdown",
   "id": "b3b6161c",
   "metadata": {},
   "source": [
    "#### creating a new dataframe to have the updated values and not to disturn the original value"
   ]
  },
  {
   "cell_type": "code",
   "execution_count": 377,
   "id": "a532538f",
   "metadata": {
    "scrolled": true
   },
   "outputs": [
    {
     "data": {
      "text/html": [
       "<div>\n",
       "<style scoped>\n",
       "    .dataframe tbody tr th:only-of-type {\n",
       "        vertical-align: middle;\n",
       "    }\n",
       "\n",
       "    .dataframe tbody tr th {\n",
       "        vertical-align: top;\n",
       "    }\n",
       "\n",
       "    .dataframe thead th {\n",
       "        text-align: right;\n",
       "    }\n",
       "</style>\n",
       "<table border=\"1\" class=\"dataframe\">\n",
       "  <thead>\n",
       "    <tr style=\"text-align: right;\">\n",
       "      <th></th>\n",
       "      <th>age</th>\n",
       "      <th>anaemia</th>\n",
       "      <th>creatinine_phosphokinase</th>\n",
       "      <th>diabetes</th>\n",
       "      <th>ejection_fraction</th>\n",
       "      <th>high_blood_pressure</th>\n",
       "      <th>platelets</th>\n",
       "      <th>serum_creatinine</th>\n",
       "      <th>serum_sodium</th>\n",
       "      <th>sex</th>\n",
       "      <th>smoking</th>\n",
       "      <th>time</th>\n",
       "      <th>DEATH_EVENT</th>\n",
       "    </tr>\n",
       "  </thead>\n",
       "  <tbody>\n",
       "    <tr>\n",
       "      <th>0</th>\n",
       "      <td>75.0</td>\n",
       "      <td>0</td>\n",
       "      <td>582.0</td>\n",
       "      <td>0</td>\n",
       "      <td>25.0</td>\n",
       "      <td>1</td>\n",
       "      <td>265000.00</td>\n",
       "      <td>1.9</td>\n",
       "      <td>132.0</td>\n",
       "      <td>1</td>\n",
       "      <td>0</td>\n",
       "      <td>4</td>\n",
       "      <td>1</td>\n",
       "    </tr>\n",
       "    <tr>\n",
       "      <th>1</th>\n",
       "      <td>55.0</td>\n",
       "      <td>0</td>\n",
       "      <td>1203.8</td>\n",
       "      <td>0</td>\n",
       "      <td>38.0</td>\n",
       "      <td>0</td>\n",
       "      <td>263358.03</td>\n",
       "      <td>1.1</td>\n",
       "      <td>136.0</td>\n",
       "      <td>1</td>\n",
       "      <td>0</td>\n",
       "      <td>6</td>\n",
       "      <td>1</td>\n",
       "    </tr>\n",
       "    <tr>\n",
       "      <th>2</th>\n",
       "      <td>65.0</td>\n",
       "      <td>0</td>\n",
       "      <td>146.0</td>\n",
       "      <td>0</td>\n",
       "      <td>25.0</td>\n",
       "      <td>0</td>\n",
       "      <td>162000.00</td>\n",
       "      <td>1.3</td>\n",
       "      <td>132.0</td>\n",
       "      <td>1</td>\n",
       "      <td>1</td>\n",
       "      <td>7</td>\n",
       "      <td>1</td>\n",
       "    </tr>\n",
       "    <tr>\n",
       "      <th>3</th>\n",
       "      <td>50.0</td>\n",
       "      <td>1</td>\n",
       "      <td>111.0</td>\n",
       "      <td>0</td>\n",
       "      <td>25.0</td>\n",
       "      <td>0</td>\n",
       "      <td>210000.00</td>\n",
       "      <td>1.9</td>\n",
       "      <td>137.0</td>\n",
       "      <td>1</td>\n",
       "      <td>0</td>\n",
       "      <td>7</td>\n",
       "      <td>1</td>\n",
       "    </tr>\n",
       "    <tr>\n",
       "      <th>4</th>\n",
       "      <td>65.0</td>\n",
       "      <td>1</td>\n",
       "      <td>160.0</td>\n",
       "      <td>1</td>\n",
       "      <td>25.0</td>\n",
       "      <td>0</td>\n",
       "      <td>327000.00</td>\n",
       "      <td>2.1</td>\n",
       "      <td>132.0</td>\n",
       "      <td>0</td>\n",
       "      <td>0</td>\n",
       "      <td>8</td>\n",
       "      <td>1</td>\n",
       "    </tr>\n",
       "  </tbody>\n",
       "</table>\n",
       "</div>"
      ],
      "text/plain": [
       "    age  anaemia  creatinine_phosphokinase  diabetes  ejection_fraction  \\\n",
       "0  75.0        0                     582.0         0               25.0   \n",
       "1  55.0        0                    1203.8         0               38.0   \n",
       "2  65.0        0                     146.0         0               25.0   \n",
       "3  50.0        1                     111.0         0               25.0   \n",
       "4  65.0        1                     160.0         1               25.0   \n",
       "\n",
       "   high_blood_pressure  platelets  serum_creatinine  serum_sodium  sex  \\\n",
       "0                    1  265000.00               1.9         132.0    1   \n",
       "1                    0  263358.03               1.1         136.0    1   \n",
       "2                    0  162000.00               1.3         132.0    1   \n",
       "3                    0  210000.00               1.9         137.0    1   \n",
       "4                    0  327000.00               2.1         132.0    0   \n",
       "\n",
       "   smoking  time  DEATH_EVENT  \n",
       "0        0     4            1  \n",
       "1        0     6            1  \n",
       "2        1     7            1  \n",
       "3        0     7            1  \n",
       "4        0     8            1  "
      ]
     },
     "execution_count": 377,
     "metadata": {},
     "output_type": "execute_result"
    }
   ],
   "source": [
    "updated_data=data\n",
    "updated_data.head()"
   ]
  },
  {
   "cell_type": "markdown",
   "id": "ff4239de",
   "metadata": {},
   "source": [
    "#### creating a user defined funtion to treat the outliers using capping and flooring method"
   ]
  },
  {
   "cell_type": "code",
   "execution_count": 378,
   "id": "d0d7b952",
   "metadata": {},
   "outputs": [],
   "source": [
    "def outlier_treatment(df):\n",
    "    new = {}  # Initialize a dictionary to store outlier-treated values for each column\n",
    "    for column in df.columns:\n",
    "        if pd.api.types.is_numeric_dtype(df[column]):\n",
    "            data = df[column]\n",
    "            new[column] = []\n",
    "            \n",
    "            data = data.dropna()  # Drop NaN values\n",
    "            \n",
    "            tenth_percentile = np.percentile(data, 10)\n",
    "            ninetieth_percentile = np.percentile(data, 90)\n",
    "            \n",
    "            for value in data:\n",
    "                if value < tenth_percentile:\n",
    "                    value = tenth_percentile\n",
    "                    new[column].append(value)\n",
    "                elif value > ninetieth_percentile:\n",
    "                    value = ninetieth_percentile\n",
    "                    new[column].append(value)\n",
    "                elif value >= tenth_percentile and value <= ninetieth_percentile:\n",
    "                    new[column].append(value)\n",
    "    \n",
    "    # Create a DataFrame from the new dictionary and return it\n",
    "    return pd.DataFrame(new)"
   ]
  },
  {
   "cell_type": "code",
   "execution_count": 379,
   "id": "a91a6f9a",
   "metadata": {
    "scrolled": false
   },
   "outputs": [
    {
     "name": "stdout",
     "output_type": "stream",
     "text": [
      "Index(['creatinine_phosphokinase', 'ejection_fraction', 'platelets',\n",
      "       'serum_creatinine', 'serum_sodium'],\n",
      "      dtype='object')\n",
      "   creatinine_phosphokinase  ejection_fraction  platelets  serum_creatinine  \\\n",
      "0                    582.00               25.0  265000.00               1.9   \n",
      "1                   1202.36               38.0  263358.03               1.1   \n",
      "2                    146.00               25.0  162000.00               1.3   \n",
      "3                    111.00               25.0  210000.00               1.9   \n",
      "4                    160.00               25.0  327000.00               2.1   \n",
      "\n",
      "   serum_sodium  \n",
      "0         132.0  \n",
      "1         136.0  \n",
      "2         132.0  \n",
      "3         137.0  \n",
      "4         132.0  \n"
     ]
    }
   ],
   "source": [
    "post_treatment_data=outlier_treatment(outliers_to_treat)\n",
    "print(post_treatment_data.columns)\n",
    "print(post_treatment_data.head())"
   ]
  },
  {
   "cell_type": "markdown",
   "id": "e919319a",
   "metadata": {},
   "source": [
    "#### replacing the values in the updated dataset after treating outliers"
   ]
  },
  {
   "cell_type": "code",
   "execution_count": 380,
   "id": "4cec592a",
   "metadata": {},
   "outputs": [],
   "source": [
    "updated_data[['creatinine_phosphokinase', 'ejection_fraction', 'platelets',\n",
    "       'serum_creatinine', 'serum_sodium']]=post_treatment_data[['creatinine_phosphokinase', 'ejection_fraction', 'platelets',\n",
    "       'serum_creatinine', 'serum_sodium']]"
   ]
  },
  {
   "cell_type": "code",
   "execution_count": 381,
   "id": "2a44d66d",
   "metadata": {},
   "outputs": [
    {
     "name": "stdout",
     "output_type": "stream",
     "text": [
      "Outliers:\n",
      "{'age': [], 'creatinine_phosphokinase': [], 'ejection_fraction': [], 'platelets': [], 'serum_creatinine': [], 'serum_sodium': [], 'time': []}\n",
      "\n",
      "Outliers Count:\n",
      "{'age': 0, 'creatinine_phosphokinase': 0, 'ejection_fraction': 0, 'platelets': 0, 'serum_creatinine': 0, 'serum_sodium': 0, 'time': 0}\n"
     ]
    }
   ],
   "source": [
    "outliers, outliers_count = detect_outliers_iqr(updated_data[continuous_features])\n",
    "print(\"Outliers:\")\n",
    "print(outliers)\n",
    "print(\"\\nOutliers Count:\")\n",
    "print(outliers_count)"
   ]
  },
  {
   "cell_type": "markdown",
   "id": "6df5ee19",
   "metadata": {},
   "source": [
    "#### we do not have outliers or any missing values in any of the continuous predictors anymore"
   ]
  },
  {
   "cell_type": "markdown",
   "id": "05bc0755",
   "metadata": {},
   "source": [
    "# Making categorical variables ML model ready"
   ]
  },
  {
   "cell_type": "code",
   "execution_count": 382,
   "id": "251e4dfa",
   "metadata": {},
   "outputs": [
    {
     "data": {
      "text/plain": [
       "Index(['age', 'anaemia', 'creatinine_phosphokinase', 'diabetes',\n",
       "       'ejection_fraction', 'high_blood_pressure', 'platelets',\n",
       "       'serum_creatinine', 'serum_sodium', 'sex', 'smoking', 'time',\n",
       "       'DEATH_EVENT'],\n",
       "      dtype='object')"
      ]
     },
     "execution_count": 382,
     "metadata": {},
     "output_type": "execute_result"
    }
   ],
   "source": [
    "data.columns"
   ]
  },
  {
   "cell_type": "code",
   "execution_count": 383,
   "id": "863670b4",
   "metadata": {},
   "outputs": [
    {
     "data": {
      "text/plain": [
       "{'anaemia': array([0, 1], dtype=int64),\n",
       " 'diabetes': array([0, 1], dtype=int64),\n",
       " 'high_blood_pressure': array([1, 0], dtype=int64),\n",
       " 'sex': array([1, 0], dtype=int64),\n",
       " 'smoking': array([0, 1], dtype=int64)}"
      ]
     },
     "execution_count": 383,
     "metadata": {},
     "output_type": "execute_result"
    }
   ],
   "source": [
    "unique_values = {col: updated_data[col].unique() for col in categorical_features}\n",
    "unique_values"
   ]
  },
  {
   "cell_type": "markdown",
   "id": "59fc7fd7",
   "metadata": {},
   "source": [
    "#### as all the categorical values are having 0 or 1 as their values, we do not need to treat anything here"
   ]
  },
  {
   "cell_type": "markdown",
   "id": "1178ce15",
   "metadata": {},
   "source": [
    "# bivariate analysis"
   ]
  },
  {
   "cell_type": "code",
   "execution_count": 384,
   "id": "04448a82",
   "metadata": {},
   "outputs": [
    {
     "data": {
      "text/plain": [
       "['age',\n",
       " 'creatinine_phosphokinase',\n",
       " 'ejection_fraction',\n",
       " 'platelets',\n",
       " 'serum_creatinine',\n",
       " 'serum_sodium',\n",
       " 'time']"
      ]
     },
     "execution_count": 384,
     "metadata": {},
     "output_type": "execute_result"
    }
   ],
   "source": [
    "continuous_features"
   ]
  },
  {
   "cell_type": "code",
   "execution_count": 385,
   "id": "90101a4f",
   "metadata": {},
   "outputs": [
    {
     "data": {
      "text/plain": [
       "array([1, 0], dtype=int64)"
      ]
     },
     "execution_count": 385,
     "metadata": {},
     "output_type": "execute_result"
    }
   ],
   "source": [
    "data['DEATH_EVENT'].unique()"
   ]
  },
  {
   "cell_type": "markdown",
   "id": "693df3f1",
   "metadata": {},
   "source": [
    "### relationship exploration (categorical target variable vs continuous predictors [box plot])"
   ]
  },
  {
   "cell_type": "code",
   "execution_count": 386,
   "id": "e6e05876",
   "metadata": {},
   "outputs": [],
   "source": [
    "import matplotlib.pyplot as plt"
   ]
  },
  {
   "cell_type": "code",
   "execution_count": 387,
   "id": "e7b8ea14",
   "metadata": {
    "scrolled": true
   },
   "outputs": [
    {
     "data": {
      "image/png": "[encoded data removed]",
      "text/plain": [
       "<Figure size 1296x360 with 7 Axes>"
      ]
     },
     "metadata": {
      "needs_background": "light"
     },
     "output_type": "display_data"
    }
   ],
   "source": [
    "# Box plots for Categorical Target Variable \"Rating\" and continuous predictors\n",
    "\n",
    "import matplotlib.pyplot as plt\n",
    "fig, PlotCanvas=plt.subplots(nrows=1, ncols=len(continuous_features), figsize=(18,5))\n",
    "\n",
    "# Creating box plots for each continuous predictor against the Target Variable \"Rating\"\n",
    "for PredictorCol , i in zip(continuous_features, range(len(continuous_features))):\n",
    "    updated_data.boxplot(column=PredictorCol, by='DEATH_EVENT', figsize=(5,5), vert=True, ax=PlotCanvas[i])"
   ]
  },
  {
   "cell_type": "code",
   "execution_count": 388,
   "id": "e4576716",
   "metadata": {},
   "outputs": [
    {
     "data": {
      "text/plain": [
       "'DEATH_EVENT'"
      ]
     },
     "execution_count": 388,
     "metadata": {},
     "output_type": "execute_result"
    }
   ],
   "source": [
    "target_variable"
   ]
  },
  {
   "cell_type": "markdown",
   "id": "413e5720",
   "metadata": {},
   "source": [
    "# ANOVA TEST"
   ]
  },
  {
   "cell_type": "code",
   "execution_count": 389,
   "id": "0346c459",
   "metadata": {},
   "outputs": [],
   "source": [
    "def functionAnova(inpdata,target_variable,continuous_predictor_list):\n",
    "    from scipy.stats import f_oneway\n",
    "    \n",
    "    #creating empty list of final selected preditor\n",
    "    SelectedPredictor = []\n",
    "    NotSelectedPredictor=[]\n",
    "    \n",
    "    print('### ANOVA RESULTS ###  \\n')\n",
    "    \n",
    "    for predictor in continuous_predictor_list:\n",
    "        categorygrouplist= inpdata.groupby(target_variable)[predictor].apply(list)\n",
    "        AnovaResults=f_oneway(*categorygrouplist)\n",
    "        \n",
    "        if (AnovaResults[1]<0.05):\n",
    "            print(predictor, ' is correlated with ',target_variable, '|P-value:', AnovaResults[1])\n",
    "            SelectedPredictor.append(predictor)\n",
    "        \n",
    "        else:\n",
    "            print(predictor, ' is not correlated with ', target_variable, '|P-value:', AnovaResults[1])\n",
    "            NotSelectedPredictor.append(predictor)\n",
    "            \n",
    "    print('\\nSelected :', SelectedPredictor)\n",
    "    print('Not selected :', NotSelectedPredictor)\n",
    "    #return (SelectedPredictor, NotSelectedPredictor)"
   ]
  },
  {
   "cell_type": "code",
   "execution_count": 390,
   "id": "147d7d88",
   "metadata": {},
   "outputs": [
    {
     "name": "stdout",
     "output_type": "stream",
     "text": [
      "### ANOVA RESULTS ###  \n",
      "\n",
      "age  is correlated with  DEATH_EVENT |P-value: 8.916762946533291e-06\n",
      "creatinine_phosphokinase  is not correlated with  DEATH_EVENT |P-value: 0.9144256223994778\n",
      "ejection_fraction  is correlated with  DEATH_EVENT |P-value: 1.5980908360921803e-05\n",
      "platelets  is not correlated with  DEATH_EVENT |P-value: 0.5240952326787505\n",
      "serum_creatinine  is correlated with  DEATH_EVENT |P-value: 1.6450679843062555e-12\n",
      "serum_sodium  is correlated with  DEATH_EVENT |P-value: 0.00015395542346623568\n",
      "time  is correlated with  DEATH_EVENT |P-value: 9.122223384926417e-23\n",
      "\n",
      "Selected : ['age', 'ejection_fraction', 'serum_creatinine', 'serum_sodium', 'time']\n",
      "Not selected : ['creatinine_phosphokinase', 'platelets']\n"
     ]
    }
   ],
   "source": [
    "functionAnova(inpdata=updated_data, target_variable='DEATH_EVENT',continuous_predictor_list=continuous_features)\n"
   ]
  },
  {
   "cell_type": "code",
   "execution_count": 391,
   "id": "e33b07ab",
   "metadata": {
    "scrolled": true
   },
   "outputs": [
    {
     "data": {
      "text/html": [
       "<div>\n",
       "<style scoped>\n",
       "    .dataframe tbody tr th:only-of-type {\n",
       "        vertical-align: middle;\n",
       "    }\n",
       "\n",
       "    .dataframe tbody tr th {\n",
       "        vertical-align: top;\n",
       "    }\n",
       "\n",
       "    .dataframe thead th {\n",
       "        text-align: right;\n",
       "    }\n",
       "</style>\n",
       "<table border=\"1\" class=\"dataframe\">\n",
       "  <thead>\n",
       "    <tr style=\"text-align: right;\">\n",
       "      <th></th>\n",
       "      <th>age</th>\n",
       "      <th>ejection_fraction</th>\n",
       "      <th>serum_creatinine</th>\n",
       "      <th>serum_sodium</th>\n",
       "      <th>time</th>\n",
       "    </tr>\n",
       "  </thead>\n",
       "  <tbody>\n",
       "    <tr>\n",
       "      <th>0</th>\n",
       "      <td>75.0</td>\n",
       "      <td>25.0</td>\n",
       "      <td>1.9</td>\n",
       "      <td>132.0</td>\n",
       "      <td>4</td>\n",
       "    </tr>\n",
       "    <tr>\n",
       "      <th>1</th>\n",
       "      <td>55.0</td>\n",
       "      <td>38.0</td>\n",
       "      <td>1.1</td>\n",
       "      <td>136.0</td>\n",
       "      <td>6</td>\n",
       "    </tr>\n",
       "    <tr>\n",
       "      <th>2</th>\n",
       "      <td>65.0</td>\n",
       "      <td>25.0</td>\n",
       "      <td>1.3</td>\n",
       "      <td>132.0</td>\n",
       "      <td>7</td>\n",
       "    </tr>\n",
       "    <tr>\n",
       "      <th>3</th>\n",
       "      <td>50.0</td>\n",
       "      <td>25.0</td>\n",
       "      <td>1.9</td>\n",
       "      <td>137.0</td>\n",
       "      <td>7</td>\n",
       "    </tr>\n",
       "    <tr>\n",
       "      <th>4</th>\n",
       "      <td>65.0</td>\n",
       "      <td>25.0</td>\n",
       "      <td>2.1</td>\n",
       "      <td>132.0</td>\n",
       "      <td>8</td>\n",
       "    </tr>\n",
       "  </tbody>\n",
       "</table>\n",
       "</div>"
      ],
      "text/plain": [
       "    age  ejection_fraction  serum_creatinine  serum_sodium  time\n",
       "0  75.0               25.0               1.9         132.0     4\n",
       "1  55.0               38.0               1.1         136.0     6\n",
       "2  65.0               25.0               1.3         132.0     7\n",
       "3  50.0               25.0               1.9         137.0     7\n",
       "4  65.0               25.0               2.1         132.0     8"
      ]
     },
     "execution_count": 391,
     "metadata": {},
     "output_type": "execute_result"
    }
   ],
   "source": [
    "selected_continuous_predictors=pd.DataFrame(updated_data[['age', 'ejection_fraction', 'serum_creatinine', 'serum_sodium', 'time']])\n",
    "selected_continuous_predictors.head()"
   ]
  },
  {
   "cell_type": "code",
   "execution_count": 392,
   "id": "3631f48d",
   "metadata": {},
   "outputs": [],
   "source": [
    "def chi2testfunction(inpdata,target_variable,categoricalcolslist):\n",
    "    selected_predictors=[]\n",
    "    not_selected_predictors=[]\n",
    "    \n",
    "    for predictor in categoricalcolslist:\n",
    "        from scipy.stats import chi2_contingency\n",
    "        crosstab_result=pd.crosstab(index=inpdata[predictor], columns=target_variable)\n",
    "        chi2_result=chi2_contingency(crosstab_result)\n",
    "        \n",
    "        if chi2_result[1]<0.05:\n",
    "            print(predictor, ' is correlated with ', target_variable, '| P-value : ', chi2_result[1])\n",
    "            selected_predictors.append(predictor)\n",
    "        else:\n",
    "            print(predictor, ' is not correlated with ', target_variable, '| P-value : ', chi2_result[1])\n",
    "            not_selected_predictors.append(predictor)\n",
    "            \n",
    "    print('\\nselected : ', selected_predictors)\n",
    "    print('not selected : ', not_selected_predictors)\n",
    "    "
   ]
  },
  {
   "cell_type": "code",
   "execution_count": 393,
   "id": "207af87d",
   "metadata": {},
   "outputs": [
    {
     "name": "stdout",
     "output_type": "stream",
     "text": [
      "anaemia  is not correlated with  DEATH_EVENT | P-value :  1.0\n",
      "diabetes  is not correlated with  DEATH_EVENT | P-value :  1.0\n",
      "high_blood_pressure  is not correlated with  DEATH_EVENT | P-value :  1.0\n",
      "sex  is not correlated with  DEATH_EVENT | P-value :  1.0\n",
      "smoking  is not correlated with  DEATH_EVENT | P-value :  1.0\n",
      "\n",
      "selected :  []\n",
      "not selected :  ['anaemia', 'diabetes', 'high_blood_pressure', 'sex', 'smoking']\n"
     ]
    }
   ],
   "source": [
    "chi2testfunction(inpdata=updated_data,target_variable=target_variable,categoricalcolslist=categorical_features)"
   ]
  },
  {
   "cell_type": "markdown",
   "id": "3b82b3e5",
   "metadata": {},
   "source": [
    "we have only final continuous predictors as predictors as all the categorical predictors are not having \n",
    "any relation with the target variable."
   ]
  },
  {
   "cell_type": "code",
   "execution_count": 394,
   "id": "fe543f12",
   "metadata": {},
   "outputs": [
    {
     "data": {
      "text/plain": [
       "['age', 'ejection_fraction', 'serum_creatinine', 'serum_sodium', 'time']"
      ]
     },
     "execution_count": 394,
     "metadata": {},
     "output_type": "execute_result"
    }
   ],
   "source": [
    "final_predictors=['age', 'ejection_fraction', 'serum_creatinine', 'serum_sodium', 'time']\n",
    "final_predictors"
   ]
  },
  {
   "cell_type": "markdown",
   "id": "bdf24ad4",
   "metadata": {},
   "source": [
    "# splitting the data into Training and testing sample"
   ]
  },
  {
   "cell_type": "code",
   "execution_count": 395,
   "id": "e4b47d98",
   "metadata": {},
   "outputs": [],
   "source": [
    "x=updated_data[final_predictors].values\n",
    "y=updated_data[target_variable].values"
   ]
  },
  {
   "cell_type": "code",
   "execution_count": null,
   "id": "60f33b98",
   "metadata": {},
   "outputs": [],
   "source": []
  },
  {
   "cell_type": "markdown",
   "id": "2a851360",
   "metadata": {},
   "source": [
    " #### splitting the data into training and testing set"
   ]
  },
  {
   "cell_type": "code",
   "execution_count": 396,
   "id": "89e358a7",
   "metadata": {},
   "outputs": [
    {
     "name": "stdout",
     "output_type": "stream",
     "text": [
      "(90,)\n"
     ]
    }
   ],
   "source": [
    "from sklearn.model_selection import train_test_split\n",
    "x_train,x_test,y_train,y_test=train_test_split(x,y,test_size=0.3, random_state=101)\n",
    "\n",
    "print(y_test.shape)"
   ]
  },
  {
   "cell_type": "markdown",
   "id": "51c49d5e",
   "metadata": {},
   "source": [
    "# standardization/normalization of data"
   ]
  },
  {
   "cell_type": "code",
   "execution_count": 397,
   "id": "62d5f31a",
   "metadata": {},
   "outputs": [
    {
     "name": "stdout",
     "output_type": "stream",
     "text": [
      "[[0.63636364 0.         0.84615385 0.         0.        ]\n",
      " [0.27272727 0.37142857 0.23076923 0.44247788 0.00711744]\n",
      " [0.45454545 0.         0.38461538 0.         0.01067616]\n",
      " ...\n",
      " [0.09090909 1.         0.         0.66371681 0.97508897]\n",
      " [0.09090909 0.37142857 0.46153846 0.88495575 0.98220641]\n",
      " [0.18181818 0.57142857 0.61538462 0.44247788 1.        ]]\n"
     ]
    }
   ],
   "source": [
    "from sklearn.preprocessing import StandardScaler, MinMaxScaler\n",
    "\n",
    "# standard_PredictorScalar=StandardScaler()\n",
    "minmax_PredictorScalar = MinMaxScaler()\n",
    "\n",
    "# standard_PredictorScalarFit=standard_PredictorScalar.fit(x)\n",
    "minmax_PredictorScalarFit= minmax_PredictorScalar.fit(x)\n",
    "# having more accuracy in minmax so choosing that one\n",
    "x=minmax_PredictorScalarFit.transform(x)\n",
    "print(x)"
   ]
  },
  {
   "cell_type": "code",
   "execution_count": 398,
   "id": "de4be0e2",
   "metadata": {},
   "outputs": [
    {
     "name": "stdout",
     "output_type": "stream",
     "text": [
      "(209, 5)\n",
      "(209,)\n",
      "(90, 5)\n",
      "(90,)\n"
     ]
    },
    {
     "data": {
      "text/plain": [
       "array([[0.45454545, 0.71428571, 0.15384615, 0.88495575, 0.08896797],\n",
       "       [0.27272727, 0.37142857, 0.23076923, 0.44247788, 0.00711744],\n",
       "       [0.41818182, 1.        , 0.38461538, 1.        , 0.36654804],\n",
       "       ...,\n",
       "       [0.45454545, 1.        , 0.        , 0.88495575, 0.26690391],\n",
       "       [0.09090909, 0.28571429, 0.15384615, 1.        , 0.20284698],\n",
       "       [0.4       , 0.        , 0.07692308, 0.88495575, 0.02135231]])"
      ]
     },
     "execution_count": 398,
     "metadata": {},
     "output_type": "execute_result"
    }
   ],
   "source": [
    "from sklearn.model_selection import train_test_split\n",
    "x_train,x_test,y_train,y_test= train_test_split(x,y,test_size=0.3, random_state=101)\n",
    "\n",
    "print(x_train.shape)\n",
    "print(y_train.shape)\n",
    "print(x_test.shape)\n",
    "print(y_test.shape)\n",
    "x_train"
   ]
  },
  {
   "cell_type": "markdown",
   "id": "73e6931e",
   "metadata": {},
   "source": [
    "# logistic regression"
   ]
  },
  {
   "cell_type": "code",
   "execution_count": 399,
   "id": "67acd1fb",
   "metadata": {},
   "outputs": [],
   "source": [
    "import pandas as pd\n",
    "from sklearn.linear_model import LogisticRegression"
   ]
  },
  {
   "cell_type": "code",
   "execution_count": 400,
   "id": "6915dca5",
   "metadata": {
    "scrolled": true
   },
   "outputs": [
    {
     "name": "stdout",
     "output_type": "stream",
     "text": [
      "LogisticRegression(C=1, penalty='l1', solver='saga')\n",
      "              precision    recall  f1-score   support\n",
      "\n",
      "           0       0.91      0.94      0.92        62\n",
      "           1       0.85      0.79      0.81        28\n",
      "\n",
      "    accuracy                           0.89        90\n",
      "   macro avg       0.88      0.86      0.87        90\n",
      "weighted avg       0.89      0.89      0.89        90\n",
      "\n",
      "[[58  4]\n",
      " [ 6 22]]\n"
     ]
    }
   ],
   "source": [
    "# choose parameter penalty=l1 and c=1\n",
    "logistic_regression_model= LogisticRegression(C=1,penalty='l1', solver='saga')\n",
    "print(logistic_regression_model)\n",
    "\n",
    "# creating the model on training data\n",
    "logistic_regression=logistic_regression_model.fit(x_train,y_train)\n",
    "logistic_regression_prediction=logistic_regression.predict(x_test)\n",
    "\n",
    "# measuring accuracy\n",
    "from sklearn import metrics\n",
    "print(metrics.classification_report(y_test,logistic_regression_prediction))\n",
    "print(metrics.confusion_matrix(y_test,logistic_regression_prediction))"
   ]
  },
  {
   "cell_type": "code",
   "execution_count": 401,
   "id": "41057c70",
   "metadata": {},
   "outputs": [
    {
     "name": "stdout",
     "output_type": "stream",
     "text": [
      "Accuracy of the model on Testing Sample Data: 0.89\n",
      "\n",
      "Accuracy values for 10-fold Cross Validation:\n",
      " [0.70300334 0.80542986 0.87037037 0.79365079 0.93121693 0.89858793\n",
      " 0.85341615 0.89333333 0.648      0.56298381]\n",
      "\n",
      "Final Average Accuracy of the logistic_regression model: 0.8\n"
     ]
    }
   ],
   "source": [
    "# from sklearn.linear_model import LogisticRegression\n",
    "# Printing the Overall Accuracy of the model\n",
    "F1_Score=metrics.f1_score(y_test, logistic_regression_prediction, average='weighted')\n",
    "print('Accuracy of the model on Testing Sample Data:', round(F1_Score,2))\n",
    "\n",
    "# Importing cross validation function from sklearn\n",
    "from sklearn.model_selection import cross_val_score\n",
    "\n",
    "# Running 10-Fold Cross validation on a given algorithm\n",
    "# Passing full data X and y because the K-fold will split the data and automatically choose train/test\n",
    "logistic_regression_Accuracy_Values=cross_val_score(logistic_regression, x , y, cv=10, scoring='f1_weighted')\n",
    "print('\\nAccuracy values for 10-fold Cross Validation:\\n',logistic_regression_Accuracy_Values)\n",
    "print('\\nFinal Average Accuracy of the logistic_regression model:', round(logistic_regression_Accuracy_Values.mean(),2))"
   ]
  },
  {
   "cell_type": "code",
   "execution_count": 402,
   "id": "66b24c06",
   "metadata": {},
   "outputs": [
    {
     "name": "stdout",
     "output_type": "stream",
     "text": [
      "Fitting 5 folds for each of 60 candidates, totalling 300 fits\n",
      "[CV 1/5] END ..........C=0.001, penalty=l1, solver=liblinear; total time=   0.0s\n",
      "[CV 2/5] END ..........C=0.001, penalty=l1, solver=liblinear; total time=   0.0s\n",
      "[CV 3/5] END ..........C=0.001, penalty=l1, solver=liblinear; total time=   0.0s\n",
      "[CV 4/5] END ..........C=0.001, penalty=l1, solver=liblinear; total time=   0.0s\n",
      "[CV 5/5] END ..........C=0.001, penalty=l1, solver=liblinear; total time=   0.0s\n",
      "[CV 1/5] END ..........C=0.001, penalty=l1, solver=newton-cg; total time=   0.0s\n",
      "[CV 2/5] END ..........C=0.001, penalty=l1, solver=newton-cg; total time=   0.0s\n",
      "[CV 3/5] END ..........C=0.001, penalty=l1, solver=newton-cg; total time=   0.0s\n",
      "[CV 4/5] END ..........C=0.001, penalty=l1, solver=newton-cg; total time=   0.0s\n",
      "[CV 5/5] END ..........C=0.001, penalty=l1, solver=newton-cg; total time=   0.0s\n",
      "[CV 1/5] END ..............C=0.001, penalty=l1, solver=lbfgs; total time=   0.0s\n",
      "[CV 2/5] END ..............C=0.001, penalty=l1, solver=lbfgs; total time=   0.0s\n",
      "[CV 3/5] END ..............C=0.001, penalty=l1, solver=lbfgs; total time=   0.0s\n",
      "[CV 4/5] END ..............C=0.001, penalty=l1, solver=lbfgs; total time=   0.0s\n",
      "[CV 5/5] END ..............C=0.001, penalty=l1, solver=lbfgs; total time=   0.0s\n",
      "[CV 1/5] END ................C=0.001, penalty=l1, solver=sag; total time=   0.0s\n",
      "[CV 2/5] END ................C=0.001, penalty=l1, solver=sag; total time=   0.0s\n",
      "[CV 3/5] END ................C=0.001, penalty=l1, solver=sag; total time=   0.0s\n",
      "[CV 4/5] END ................C=0.001, penalty=l1, solver=sag; total time=   0.0s\n",
      "[CV 5/5] END ................C=0.001, penalty=l1, solver=sag; total time=   0.0s\n",
      "[CV 1/5] END ...............C=0.001, penalty=l1, solver=saga; total time=   0.0s\n",
      "[CV 2/5] END ...............C=0.001, penalty=l1, solver=saga; total time=   0.0s\n",
      "[CV 3/5] END ...............C=0.001, penalty=l1, solver=saga; total time=   0.0s\n",
      "[CV 4/5] END ...............C=0.001, penalty=l1, solver=saga; total time=   0.0s\n",
      "[CV 5/5] END ...............C=0.001, penalty=l1, solver=saga; total time=   0.0s\n",
      "[CV 1/5] END ..........C=0.001, penalty=l2, solver=liblinear; total time=   0.0s\n",
      "[CV 2/5] END ..........C=0.001, penalty=l2, solver=liblinear; total time=   0.0s\n",
      "[CV 3/5] END ..........C=0.001, penalty=l2, solver=liblinear; total time=   0.0s\n",
      "[CV 4/5] END ..........C=0.001, penalty=l2, solver=liblinear; total time=   0.0s\n",
      "[CV 5/5] END ..........C=0.001, penalty=l2, solver=liblinear; total time=   0.0s\n",
      "[CV 1/5] END ..........C=0.001, penalty=l2, solver=newton-cg; total time=   0.0s\n",
      "[CV 2/5] END ..........C=0.001, penalty=l2, solver=newton-cg; total time=   0.0s\n",
      "[CV 3/5] END ..........C=0.001, penalty=l2, solver=newton-cg; total time=   0.0s\n",
      "[CV 4/5] END ..........C=0.001, penalty=l2, solver=newton-cg; total time=   0.0s\n",
      "[CV 5/5] END ..........C=0.001, penalty=l2, solver=newton-cg; total time=   0.0s\n",
      "[CV 1/5] END ..............C=0.001, penalty=l2, solver=lbfgs; total time=   0.0s\n",
      "[CV 2/5] END ..............C=0.001, penalty=l2, solver=lbfgs; total time=   0.0s\n",
      "[CV 3/5] END ..............C=0.001, penalty=l2, solver=lbfgs; total time=   0.0s\n",
      "[CV 4/5] END ..............C=0.001, penalty=l2, solver=lbfgs; total time=   0.0s\n",
      "[CV 5/5] END ..............C=0.001, penalty=l2, solver=lbfgs; total time=   0.0s\n",
      "[CV 1/5] END ................C=0.001, penalty=l2, solver=sag; total time=   0.0s\n",
      "[CV 2/5] END ................C=0.001, penalty=l2, solver=sag; total time=   0.0s\n",
      "[CV 3/5] END ................C=0.001, penalty=l2, solver=sag; total time=   0.0s\n",
      "[CV 4/5] END ................C=0.001, penalty=l2, solver=sag; total time=   0.0s\n",
      "[CV 5/5] END ................C=0.001, penalty=l2, solver=sag; total time=   0.0s\n",
      "[CV 1/5] END ...............C=0.001, penalty=l2, solver=saga; total time=   0.0s\n",
      "[CV 2/5] END ...............C=0.001, penalty=l2, solver=saga; total time=   0.0s\n",
      "[CV 3/5] END ...............C=0.001, penalty=l2, solver=saga; total time=   0.0s\n",
      "[CV 4/5] END ...............C=0.001, penalty=l2, solver=saga; total time=   0.0s\n",
      "[CV 5/5] END ...............C=0.001, penalty=l2, solver=saga; total time=   0.0s\n",
      "[CV 1/5] END ...........C=0.01, penalty=l1, solver=liblinear; total time=   0.0s\n",
      "[CV 2/5] END ...........C=0.01, penalty=l1, solver=liblinear; total time=   0.0s\n",
      "[CV 3/5] END ...........C=0.01, penalty=l1, solver=liblinear; total time=   0.0s\n",
      "[CV 4/5] END ...........C=0.01, penalty=l1, solver=liblinear; total time=   0.0s\n",
      "[CV 5/5] END ...........C=0.01, penalty=l1, solver=liblinear; total time=   0.0s\n",
      "[CV 1/5] END ...........C=0.01, penalty=l1, solver=newton-cg; total time=   0.0s\n",
      "[CV 2/5] END ...........C=0.01, penalty=l1, solver=newton-cg; total time=   0.0s\n",
      "[CV 3/5] END ...........C=0.01, penalty=l1, solver=newton-cg; total time=   0.0s\n",
      "[CV 4/5] END ...........C=0.01, penalty=l1, solver=newton-cg; total time=   0.0s\n",
      "[CV 5/5] END ...........C=0.01, penalty=l1, solver=newton-cg; total time=   0.0s\n",
      "[CV 1/5] END ...............C=0.01, penalty=l1, solver=lbfgs; total time=   0.0s\n",
      "[CV 2/5] END ...............C=0.01, penalty=l1, solver=lbfgs; total time=   0.0s\n",
      "[CV 3/5] END ...............C=0.01, penalty=l1, solver=lbfgs; total time=   0.0s\n",
      "[CV 4/5] END ...............C=0.01, penalty=l1, solver=lbfgs; total time=   0.0s\n",
      "[CV 5/5] END ...............C=0.01, penalty=l1, solver=lbfgs; total time=   0.0s\n",
      "[CV 1/5] END .................C=0.01, penalty=l1, solver=sag; total time=   0.0s\n",
      "[CV 2/5] END .................C=0.01, penalty=l1, solver=sag; total time=   0.0s\n",
      "[CV 3/5] END .................C=0.01, penalty=l1, solver=sag; total time=   0.0s\n",
      "[CV 4/5] END .................C=0.01, penalty=l1, solver=sag; total time=   0.0s\n",
      "[CV 5/5] END .................C=0.01, penalty=l1, solver=sag; total time=   0.0s\n",
      "[CV 1/5] END ................C=0.01, penalty=l1, solver=saga; total time=   0.0s\n",
      "[CV 2/5] END ................C=0.01, penalty=l1, solver=saga; total time=   0.0s\n",
      "[CV 3/5] END ................C=0.01, penalty=l1, solver=saga; total time=   0.0s\n",
      "[CV 4/5] END ................C=0.01, penalty=l1, solver=saga; total time=   0.0s\n",
      "[CV 5/5] END ................C=0.01, penalty=l1, solver=saga; total time=   0.0s\n",
      "[CV 1/5] END ...........C=0.01, penalty=l2, solver=liblinear; total time=   0.0s\n",
      "[CV 2/5] END ...........C=0.01, penalty=l2, solver=liblinear; total time=   0.0s\n",
      "[CV 3/5] END ...........C=0.01, penalty=l2, solver=liblinear; total time=   0.0s\n",
      "[CV 4/5] END ...........C=0.01, penalty=l2, solver=liblinear; total time=   0.0s\n",
      "[CV 5/5] END ...........C=0.01, penalty=l2, solver=liblinear; total time=   0.0s\n",
      "[CV 1/5] END ...........C=0.01, penalty=l2, solver=newton-cg; total time=   0.0s\n",
      "[CV 2/5] END ...........C=0.01, penalty=l2, solver=newton-cg; total time=   0.0s\n",
      "[CV 3/5] END ...........C=0.01, penalty=l2, solver=newton-cg; total time=   0.0s\n",
      "[CV 4/5] END ...........C=0.01, penalty=l2, solver=newton-cg; total time=   0.0s\n",
      "[CV 5/5] END ...........C=0.01, penalty=l2, solver=newton-cg; total time=   0.0s\n",
      "[CV 1/5] END ...............C=0.01, penalty=l2, solver=lbfgs; total time=   0.0s\n",
      "[CV 2/5] END ...............C=0.01, penalty=l2, solver=lbfgs; total time=   0.0s\n",
      "[CV 3/5] END ...............C=0.01, penalty=l2, solver=lbfgs; total time=   0.0s\n",
      "[CV 4/5] END ...............C=0.01, penalty=l2, solver=lbfgs; total time=   0.0s\n",
      "[CV 5/5] END ...............C=0.01, penalty=l2, solver=lbfgs; total time=   0.0s"
     ]
    },
    {
     "name": "stderr",
     "output_type": "stream",
     "text": [
      "C:\\Users\\Jaysree\\anaconda3\\lib\\site-packages\\sklearn\\model_selection\\_validation.py:610: FitFailedWarning: Estimator fit failed. The score on this train-test partition for these parameters will be set to nan. Details: \n",
      "Traceback (most recent call last):\n",
      "  File \"C:\\Users\\Jaysree\\anaconda3\\lib\\site-packages\\sklearn\\model_selection\\_validation.py\", line 593, in _fit_and_score\n",
      "    estimator.fit(X_train, y_train, **fit_params)\n",
      "  File \"C:\\Users\\Jaysree\\anaconda3\\lib\\site-packages\\sklearn\\linear_model\\_logistic.py\", line 1306, in fit\n",
      "    solver = _check_solver(self.solver, self.penalty, self.dual)\n",
      "  File \"C:\\Users\\Jaysree\\anaconda3\\lib\\site-packages\\sklearn\\linear_model\\_logistic.py\", line 443, in _check_solver\n",
      "    raise ValueError(\"Solver %s supports only 'l2' or 'none' penalties, \"\n",
      "ValueError: Solver newton-cg supports only 'l2' or 'none' penalties, got l1 penalty.\n",
      "\n",
      "  warnings.warn(\"Estimator fit failed. The score on this train-test\"\n",
      "C:\\Users\\Jaysree\\anaconda3\\lib\\site-packages\\sklearn\\model_selection\\_validation.py:610: FitFailedWarning: Estimator fit failed. The score on this train-test partition for these parameters will be set to nan. Details: \n",
      "Traceback (most recent call last):\n",
      "  File \"C:\\Users\\Jaysree\\anaconda3\\lib\\site-packages\\sklearn\\model_selection\\_validation.py\", line 593, in _fit_and_score\n",
      "    estimator.fit(X_train, y_train, **fit_params)\n",
      "  File \"C:\\Users\\Jaysree\\anaconda3\\lib\\site-packages\\sklearn\\linear_model\\_logistic.py\", line 1306, in fit\n",
      "    solver = _check_solver(self.solver, self.penalty, self.dual)\n",
      "  File \"C:\\Users\\Jaysree\\anaconda3\\lib\\site-packages\\sklearn\\linear_model\\_logistic.py\", line 443, in _check_solver\n",
      "    raise ValueError(\"Solver %s supports only 'l2' or 'none' penalties, \"\n",
      "ValueError: Solver newton-cg supports only 'l2' or 'none' penalties, got l1 penalty.\n",
      "\n",
      "  warnings.warn(\"Estimator fit failed. The score on this train-test\"\n",
      "C:\\Users\\Jaysree\\anaconda3\\lib\\site-packages\\sklearn\\model_selection\\_validation.py:610: FitFailedWarning: Estimator fit failed. The score on this train-test partition for these parameters will be set to nan. Details: \n",
      "Traceback (most recent call last):\n",
      "  File \"C:\\Users\\Jaysree\\anaconda3\\lib\\site-packages\\sklearn\\model_selection\\_validation.py\", line 593, in _fit_and_score\n",
      "    estimator.fit(X_train, y_train, **fit_params)\n",
      "  File \"C:\\Users\\Jaysree\\anaconda3\\lib\\site-packages\\sklearn\\linear_model\\_logistic.py\", line 1306, in fit\n",
      "    solver = _check_solver(self.solver, self.penalty, self.dual)\n",
      "  File \"C:\\Users\\Jaysree\\anaconda3\\lib\\site-packages\\sklearn\\linear_model\\_logistic.py\", line 443, in _check_solver\n",
      "    raise ValueError(\"Solver %s supports only 'l2' or 'none' penalties, \"\n",
      "ValueError: Solver newton-cg supports only 'l2' or 'none' penalties, got l1 penalty.\n",
      "\n",
      "  warnings.warn(\"Estimator fit failed. The score on this train-test\"\n",
      "C:\\Users\\Jaysree\\anaconda3\\lib\\site-packages\\sklearn\\model_selection\\_validation.py:610: FitFailedWarning: Estimator fit failed. The score on this train-test partition for these parameters will be set to nan. Details: \n",
      "Traceback (most recent call last):\n",
      "  File \"C:\\Users\\Jaysree\\anaconda3\\lib\\site-packages\\sklearn\\model_selection\\_validation.py\", line 593, in _fit_and_score\n",
      "    estimator.fit(X_train, y_train, **fit_params)\n",
      "  File \"C:\\Users\\Jaysree\\anaconda3\\lib\\site-packages\\sklearn\\linear_model\\_logistic.py\", line 1306, in fit\n",
      "    solver = _check_solver(self.solver, self.penalty, self.dual)\n",
      "  File \"C:\\Users\\Jaysree\\anaconda3\\lib\\site-packages\\sklearn\\linear_model\\_logistic.py\", line 443, in _check_solver\n",
      "    raise ValueError(\"Solver %s supports only 'l2' or 'none' penalties, \"\n",
      "ValueError: Solver newton-cg supports only 'l2' or 'none' penalties, got l1 penalty.\n",
      "\n",
      "  warnings.warn(\"Estimator fit failed. The score on this train-test\"\n",
      "C:\\Users\\Jaysree\\anaconda3\\lib\\site-packages\\sklearn\\model_selection\\_validation.py:610: FitFailedWarning: Estimator fit failed. The score on this train-test partition for these parameters will be set to nan. Details: \n",
      "Traceback (most recent call last):\n",
      "  File \"C:\\Users\\Jaysree\\anaconda3\\lib\\site-packages\\sklearn\\model_selection\\_validation.py\", line 593, in _fit_and_score\n",
      "    estimator.fit(X_train, y_train, **fit_params)\n",
      "  File \"C:\\Users\\Jaysree\\anaconda3\\lib\\site-packages\\sklearn\\linear_model\\_logistic.py\", line 1306, in fit\n",
      "    solver = _check_solver(self.solver, self.penalty, self.dual)\n",
      "  File \"C:\\Users\\Jaysree\\anaconda3\\lib\\site-packages\\sklearn\\linear_model\\_logistic.py\", line 443, in _check_solver\n",
      "    raise ValueError(\"Solver %s supports only 'l2' or 'none' penalties, \"\n",
      "ValueError: Solver newton-cg supports only 'l2' or 'none' penalties, got l1 penalty.\n",
      "\n",
      "  warnings.warn(\"Estimator fit failed. The score on this train-test\"\n",
      "C:\\Users\\Jaysree\\anaconda3\\lib\\site-packages\\sklearn\\model_selection\\_validation.py:610: FitFailedWarning: Estimator fit failed. The score on this train-test partition for these parameters will be set to nan. Details: \n",
      "Traceback (most recent call last):\n",
      "  File \"C:\\Users\\Jaysree\\anaconda3\\lib\\site-packages\\sklearn\\model_selection\\_validation.py\", line 593, in _fit_and_score\n",
      "    estimator.fit(X_train, y_train, **fit_params)\n",
      "  File \"C:\\Users\\Jaysree\\anaconda3\\lib\\site-packages\\sklearn\\linear_model\\_logistic.py\", line 1306, in fit\n",
      "    solver = _check_solver(self.solver, self.penalty, self.dual)\n",
      "  File \"C:\\Users\\Jaysree\\anaconda3\\lib\\site-packages\\sklearn\\linear_model\\_logistic.py\", line 443, in _check_solver\n",
      "    raise ValueError(\"Solver %s supports only 'l2' or 'none' penalties, \"\n",
      "ValueError: Solver lbfgs supports only 'l2' or 'none' penalties, got l1 penalty.\n",
      "\n",
      "  warnings.warn(\"Estimator fit failed. The score on this train-test\"\n",
      "C:\\Users\\Jaysree\\anaconda3\\lib\\site-packages\\sklearn\\model_selection\\_validation.py:610: FitFailedWarning: Estimator fit failed. The score on this train-test partition for these parameters will be set to nan. Details: \n",
      "Traceback (most recent call last):\n",
      "  File \"C:\\Users\\Jaysree\\anaconda3\\lib\\site-packages\\sklearn\\model_selection\\_validation.py\", line 593, in _fit_and_score\n",
      "    estimator.fit(X_train, y_train, **fit_params)\n",
      "  File \"C:\\Users\\Jaysree\\anaconda3\\lib\\site-packages\\sklearn\\linear_model\\_logistic.py\", line 1306, in fit\n",
      "    solver = _check_solver(self.solver, self.penalty, self.dual)\n",
      "  File \"C:\\Users\\Jaysree\\anaconda3\\lib\\site-packages\\sklearn\\linear_model\\_logistic.py\", line 443, in _check_solver\n",
      "    raise ValueError(\"Solver %s supports only 'l2' or 'none' penalties, \"\n",
      "ValueError: Solver lbfgs supports only 'l2' or 'none' penalties, got l1 penalty.\n",
      "\n",
      "  warnings.warn(\"Estimator fit failed. The score on this train-test\"\n",
      "C:\\Users\\Jaysree\\anaconda3\\lib\\site-packages\\sklearn\\model_selection\\_validation.py:610: FitFailedWarning: Estimator fit failed. The score on this train-test partition for these parameters will be set to nan. Details: \n",
      "Traceback (most recent call last):\n",
      "  File \"C:\\Users\\Jaysree\\anaconda3\\lib\\site-packages\\sklearn\\model_selection\\_validation.py\", line 593, in _fit_and_score\n",
      "    estimator.fit(X_train, y_train, **fit_params)\n",
      "  File \"C:\\Users\\Jaysree\\anaconda3\\lib\\site-packages\\sklearn\\linear_model\\_logistic.py\", line 1306, in fit\n",
      "    solver = _check_solver(self.solver, self.penalty, self.dual)\n",
      "  File \"C:\\Users\\Jaysree\\anaconda3\\lib\\site-packages\\sklearn\\linear_model\\_logistic.py\", line 443, in _check_solver\n",
      "    raise ValueError(\"Solver %s supports only 'l2' or 'none' penalties, \"\n",
      "ValueError: Solver lbfgs supports only 'l2' or 'none' penalties, got l1 penalty.\n",
      "\n",
      "  warnings.warn(\"Estimator fit failed. The score on this train-test\"\n",
      "C:\\Users\\Jaysree\\anaconda3\\lib\\site-packages\\sklearn\\model_selection\\_validation.py:610: FitFailedWarning: Estimator fit failed. The score on this train-test partition for these parameters will be set to nan. Details: \n",
      "Traceback (most recent call last):\n",
      "  File \"C:\\Users\\Jaysree\\anaconda3\\lib\\site-packages\\sklearn\\model_selection\\_validation.py\", line 593, in _fit_and_score\n",
      "    estimator.fit(X_train, y_train, **fit_params)\n",
      "  File \"C:\\Users\\Jaysree\\anaconda3\\lib\\site-packages\\sklearn\\linear_model\\_logistic.py\", line 1306, in fit\n",
      "    solver = _check_solver(self.solver, self.penalty, self.dual)\n",
      "  File \"C:\\Users\\Jaysree\\anaconda3\\lib\\site-packages\\sklearn\\linear_model\\_logistic.py\", line 443, in _check_solver\n",
      "    raise ValueError(\"Solver %s supports only 'l2' or 'none' penalties, \"\n",
      "ValueError: Solver lbfgs supports only 'l2' or 'none' penalties, got l1 penalty.\n",
      "\n",
      "  warnings.warn(\"Estimator fit failed. The score on this train-test\"\n",
      "C:\\Users\\Jaysree\\anaconda3\\lib\\site-packages\\sklearn\\model_selection\\_validation.py:610: FitFailedWarning: Estimator fit failed. The score on this train-test partition for these parameters will be set to nan. Details: \n",
      "Traceback (most recent call last):\n",
      "  File \"C:\\Users\\Jaysree\\anaconda3\\lib\\site-packages\\sklearn\\model_selection\\_validation.py\", line 593, in _fit_and_score\n",
      "    estimator.fit(X_train, y_train, **fit_params)\n",
      "  File \"C:\\Users\\Jaysree\\anaconda3\\lib\\site-packages\\sklearn\\linear_model\\_logistic.py\", line 1306, in fit\n",
      "    solver = _check_solver(self.solver, self.penalty, self.dual)\n",
      "  File \"C:\\Users\\Jaysree\\anaconda3\\lib\\site-packages\\sklearn\\linear_model\\_logistic.py\", line 443, in _check_solver\n",
      "    raise ValueError(\"Solver %s supports only 'l2' or 'none' penalties, \"\n",
      "ValueError: Solver lbfgs supports only 'l2' or 'none' penalties, got l1 penalty.\n",
      "\n",
      "  warnings.warn(\"Estimator fit failed. The score on this train-test\"\n",
      "C:\\Users\\Jaysree\\anaconda3\\lib\\site-packages\\sklearn\\model_selection\\_validation.py:610: FitFailedWarning: Estimator fit failed. The score on this train-test partition for these parameters will be set to nan. Details: \n",
      "Traceback (most recent call last):\n",
      "  File \"C:\\Users\\Jaysree\\anaconda3\\lib\\site-packages\\sklearn\\model_selection\\_validation.py\", line 593, in _fit_and_score\n",
      "    estimator.fit(X_train, y_train, **fit_params)\n",
      "  File \"C:\\Users\\Jaysree\\anaconda3\\lib\\site-packages\\sklearn\\linear_model\\_logistic.py\", line 1306, in fit\n",
      "    solver = _check_solver(self.solver, self.penalty, self.dual)\n",
      "  File \"C:\\Users\\Jaysree\\anaconda3\\lib\\site-packages\\sklearn\\linear_model\\_logistic.py\", line 443, in _check_solver\n",
      "    raise ValueError(\"Solver %s supports only 'l2' or 'none' penalties, \"\n",
      "ValueError: Solver sag supports only 'l2' or 'none' penalties, got l1 penalty.\n",
      "\n",
      "  warnings.warn(\"Estimator fit failed. The score on this train-test\"\n",
      "C:\\Users\\Jaysree\\anaconda3\\lib\\site-packages\\sklearn\\model_selection\\_validation.py:610: FitFailedWarning: Estimator fit failed. The score on this train-test partition for these parameters will be set to nan. Details: \n",
      "Traceback (most recent call last):\n",
      "  File \"C:\\Users\\Jaysree\\anaconda3\\lib\\site-packages\\sklearn\\model_selection\\_validation.py\", line 593, in _fit_and_score\n",
      "    estimator.fit(X_train, y_train, **fit_params)\n",
      "  File \"C:\\Users\\Jaysree\\anaconda3\\lib\\site-packages\\sklearn\\linear_model\\_logistic.py\", line 1306, in fit\n",
      "    solver = _check_solver(self.solver, self.penalty, self.dual)\n",
      "  File \"C:\\Users\\Jaysree\\anaconda3\\lib\\site-packages\\sklearn\\linear_model\\_logistic.py\", line 443, in _check_solver\n",
      "    raise ValueError(\"Solver %s supports only 'l2' or 'none' penalties, \"\n",
      "ValueError: Solver sag supports only 'l2' or 'none' penalties, got l1 penalty.\n",
      "\n",
      "  warnings.warn(\"Estimator fit failed. The score on this train-test\"\n",
      "C:\\Users\\Jaysree\\anaconda3\\lib\\site-packages\\sklearn\\model_selection\\_validation.py:610: FitFailedWarning: Estimator fit failed. The score on this train-test partition for these parameters will be set to nan. Details: \n",
      "Traceback (most recent call last):\n",
      "  File \"C:\\Users\\Jaysree\\anaconda3\\lib\\site-packages\\sklearn\\model_selection\\_validation.py\", line 593, in _fit_and_score\n",
      "    estimator.fit(X_train, y_train, **fit_params)\n",
      "  File \"C:\\Users\\Jaysree\\anaconda3\\lib\\site-packages\\sklearn\\linear_model\\_logistic.py\", line 1306, in fit\n",
      "    solver = _check_solver(self.solver, self.penalty, self.dual)\n",
      "  File \"C:\\Users\\Jaysree\\anaconda3\\lib\\site-packages\\sklearn\\linear_model\\_logistic.py\", line 443, in _check_solver\n",
      "    raise ValueError(\"Solver %s supports only 'l2' or 'none' penalties, \"\n",
      "ValueError: Solver sag supports only 'l2' or 'none' penalties, got l1 penalty.\n",
      "\n",
      "  warnings.warn(\"Estimator fit failed. The score on this train-test\"\n",
      "C:\\Users\\Jaysree\\anaconda3\\lib\\site-packages\\sklearn\\model_selection\\_validation.py:610: FitFailedWarning: Estimator fit failed. The score on this train-test partition for these parameters will be set to nan. Details: \n",
      "Traceback (most recent call last):\n",
      "  File \"C:\\Users\\Jaysree\\anaconda3\\lib\\site-packages\\sklearn\\model_selection\\_validation.py\", line 593, in _fit_and_score\n",
      "    estimator.fit(X_train, y_train, **fit_params)\n",
      "  File \"C:\\Users\\Jaysree\\anaconda3\\lib\\site-packages\\sklearn\\linear_model\\_logistic.py\", line 1306, in fit\n",
      "    solver = _check_solver(self.solver, self.penalty, self.dual)\n",
      "  File \"C:\\Users\\Jaysree\\anaconda3\\lib\\site-packages\\sklearn\\linear_model\\_logistic.py\", line 443, in _check_solver\n",
      "    raise ValueError(\"Solver %s supports only 'l2' or 'none' penalties, \"\n",
      "ValueError: Solver sag supports only 'l2' or 'none' penalties, got l1 penalty.\n",
      "\n",
      "  warnings.warn(\"Estimator fit failed. The score on this train-test\"\n",
      "C:\\Users\\Jaysree\\anaconda3\\lib\\site-packages\\sklearn\\model_selection\\_validation.py:610: FitFailedWarning: Estimator fit failed. The score on this train-test partition for these parameters will be set to nan. Details: \n",
      "Traceback (most recent call last):\n",
      "  File \"C:\\Users\\Jaysree\\anaconda3\\lib\\site-packages\\sklearn\\model_selection\\_validation.py\", line 593, in _fit_and_score\n",
      "    estimator.fit(X_train, y_train, **fit_params)\n",
      "  File \"C:\\Users\\Jaysree\\anaconda3\\lib\\site-packages\\sklearn\\linear_model\\_logistic.py\", line 1306, in fit\n",
      "    solver = _check_solver(self.solver, self.penalty, self.dual)\n",
      "  File \"C:\\Users\\Jaysree\\anaconda3\\lib\\site-packages\\sklearn\\linear_model\\_logistic.py\", line 443, in _check_solver\n",
      "    raise ValueError(\"Solver %s supports only 'l2' or 'none' penalties, \"\n",
      "ValueError: Solver sag supports only 'l2' or 'none' penalties, got l1 penalty.\n",
      "\n",
      "  warnings.warn(\"Estimator fit failed. The score on this train-test\"\n",
      "C:\\Users\\Jaysree\\anaconda3\\lib\\site-packages\\sklearn\\model_selection\\_validation.py:610: FitFailedWarning: Estimator fit failed. The score on this train-test partition for these parameters will be set to nan. Details: \n",
      "Traceback (most recent call last):\n",
      "  File \"C:\\Users\\Jaysree\\anaconda3\\lib\\site-packages\\sklearn\\model_selection\\_validation.py\", line 593, in _fit_and_score\n",
      "    estimator.fit(X_train, y_train, **fit_params)\n",
      "  File \"C:\\Users\\Jaysree\\anaconda3\\lib\\site-packages\\sklearn\\linear_model\\_logistic.py\", line 1306, in fit\n",
      "    solver = _check_solver(self.solver, self.penalty, self.dual)\n",
      "  File \"C:\\Users\\Jaysree\\anaconda3\\lib\\site-packages\\sklearn\\linear_model\\_logistic.py\", line 443, in _check_solver\n",
      "    raise ValueError(\"Solver %s supports only 'l2' or 'none' penalties, \"\n",
      "ValueError: Solver newton-cg supports only 'l2' or 'none' penalties, got l1 penalty.\n",
      "\n",
      "  warnings.warn(\"Estimator fit failed. The score on this train-test\"\n",
      "C:\\Users\\Jaysree\\anaconda3\\lib\\site-packages\\sklearn\\model_selection\\_validation.py:610: FitFailedWarning: Estimator fit failed. The score on this train-test partition for these parameters will be set to nan. Details: \n",
      "Traceback (most recent call last):\n",
      "  File \"C:\\Users\\Jaysree\\anaconda3\\lib\\site-packages\\sklearn\\model_selection\\_validation.py\", line 593, in _fit_and_score\n",
      "    estimator.fit(X_train, y_train, **fit_params)\n",
      "  File \"C:\\Users\\Jaysree\\anaconda3\\lib\\site-packages\\sklearn\\linear_model\\_logistic.py\", line 1306, in fit\n",
      "    solver = _check_solver(self.solver, self.penalty, self.dual)\n",
      "  File \"C:\\Users\\Jaysree\\anaconda3\\lib\\site-packages\\sklearn\\linear_model\\_logistic.py\", line 443, in _check_solver\n",
      "    raise ValueError(\"Solver %s supports only 'l2' or 'none' penalties, \"\n",
      "ValueError: Solver newton-cg supports only 'l2' or 'none' penalties, got l1 penalty.\n",
      "\n",
      "  warnings.warn(\"Estimator fit failed. The score on this train-test\"\n",
      "C:\\Users\\Jaysree\\anaconda3\\lib\\site-packages\\sklearn\\model_selection\\_validation.py:610: FitFailedWarning: Estimator fit failed. The score on this train-test partition for these parameters will be set to nan. Details: \n",
      "Traceback (most recent call last):\n",
      "  File \"C:\\Users\\Jaysree\\anaconda3\\lib\\site-packages\\sklearn\\model_selection\\_validation.py\", line 593, in _fit_and_score\n",
      "    estimator.fit(X_train, y_train, **fit_params)\n",
      "  File \"C:\\Users\\Jaysree\\anaconda3\\lib\\site-packages\\sklearn\\linear_model\\_logistic.py\", line 1306, in fit\n",
      "    solver = _check_solver(self.solver, self.penalty, self.dual)\n",
      "  File \"C:\\Users\\Jaysree\\anaconda3\\lib\\site-packages\\sklearn\\linear_model\\_logistic.py\", line 443, in _check_solver\n",
      "    raise ValueError(\"Solver %s supports only 'l2' or 'none' penalties, \"\n",
      "ValueError: Solver newton-cg supports only 'l2' or 'none' penalties, got l1 penalty.\n",
      "\n",
      "  warnings.warn(\"Estimator fit failed. The score on this train-test\"\n",
      "C:\\Users\\Jaysree\\anaconda3\\lib\\site-packages\\sklearn\\model_selection\\_validation.py:610: FitFailedWarning: Estimator fit failed. The score on this train-test partition for these parameters will be set to nan. Details: \n",
      "Traceback (most recent call last):\n",
      "  File \"C:\\Users\\Jaysree\\anaconda3\\lib\\site-packages\\sklearn\\model_selection\\_validation.py\", line 593, in _fit_and_score\n",
      "    estimator.fit(X_train, y_train, **fit_params)\n",
      "  File \"C:\\Users\\Jaysree\\anaconda3\\lib\\site-packages\\sklearn\\linear_model\\_logistic.py\", line 1306, in fit\n",
      "    solver = _check_solver(self.solver, self.penalty, self.dual)\n",
      "  File \"C:\\Users\\Jaysree\\anaconda3\\lib\\site-packages\\sklearn\\linear_model\\_logistic.py\", line 443, in _check_solver\n",
      "    raise ValueError(\"Solver %s supports only 'l2' or 'none' penalties, \"\n",
      "ValueError: Solver newton-cg supports only 'l2' or 'none' penalties, got l1 penalty.\n",
      "\n",
      "  warnings.warn(\"Estimator fit failed. The score on this train-test\"\n",
      "C:\\Users\\Jaysree\\anaconda3\\lib\\site-packages\\sklearn\\model_selection\\_validation.py:610: FitFailedWarning: Estimator fit failed. The score on this train-test partition for these parameters will be set to nan. Details: \n",
      "Traceback (most recent call last):\n",
      "  File \"C:\\Users\\Jaysree\\anaconda3\\lib\\site-packages\\sklearn\\model_selection\\_validation.py\", line 593, in _fit_and_score\n",
      "    estimator.fit(X_train, y_train, **fit_params)\n",
      "  File \"C:\\Users\\Jaysree\\anaconda3\\lib\\site-packages\\sklearn\\linear_model\\_logistic.py\", line 1306, in fit\n",
      "    solver = _check_solver(self.solver, self.penalty, self.dual)\n",
      "  File \"C:\\Users\\Jaysree\\anaconda3\\lib\\site-packages\\sklearn\\linear_model\\_logistic.py\", line 443, in _check_solver\n",
      "    raise ValueError(\"Solver %s supports only 'l2' or 'none' penalties, \"\n",
      "ValueError: Solver newton-cg supports only 'l2' or 'none' penalties, got l1 penalty.\n",
      "\n",
      "  warnings.warn(\"Estimator fit failed. The score on this train-test\"\n",
      "C:\\Users\\Jaysree\\anaconda3\\lib\\site-packages\\sklearn\\model_selection\\_validation.py:610: FitFailedWarning: Estimator fit failed. The score on this train-test partition for these parameters will be set to nan. Details: \n",
      "Traceback (most recent call last):\n",
      "  File \"C:\\Users\\Jaysree\\anaconda3\\lib\\site-packages\\sklearn\\model_selection\\_validation.py\", line 593, in _fit_and_score\n",
      "    estimator.fit(X_train, y_train, **fit_params)\n",
      "  File \"C:\\Users\\Jaysree\\anaconda3\\lib\\site-packages\\sklearn\\linear_model\\_logistic.py\", line 1306, in fit\n",
      "    solver = _check_solver(self.solver, self.penalty, self.dual)\n",
      "  File \"C:\\Users\\Jaysree\\anaconda3\\lib\\site-packages\\sklearn\\linear_model\\_logistic.py\", line 443, in _check_solver\n",
      "    raise ValueError(\"Solver %s supports only 'l2' or 'none' penalties, \"\n",
      "ValueError: Solver lbfgs supports only 'l2' or 'none' penalties, got l1 penalty.\n",
      "\n",
      "  warnings.warn(\"Estimator fit failed. The score on this train-test\"\n",
      "C:\\Users\\Jaysree\\anaconda3\\lib\\site-packages\\sklearn\\model_selection\\_validation.py:610: FitFailedWarning: Estimator fit failed. The score on this train-test partition for these parameters will be set to nan. Details: \n",
      "Traceback (most recent call last):\n",
      "  File \"C:\\Users\\Jaysree\\anaconda3\\lib\\site-packages\\sklearn\\model_selection\\_validation.py\", line 593, in _fit_and_score\n",
      "    estimator.fit(X_train, y_train, **fit_params)\n",
      "  File \"C:\\Users\\Jaysree\\anaconda3\\lib\\site-packages\\sklearn\\linear_model\\_logistic.py\", line 1306, in fit\n",
      "    solver = _check_solver(self.solver, self.penalty, self.dual)\n",
      "  File \"C:\\Users\\Jaysree\\anaconda3\\lib\\site-packages\\sklearn\\linear_model\\_logistic.py\", line 443, in _check_solver\n",
      "    raise ValueError(\"Solver %s supports only 'l2' or 'none' penalties, \"\n",
      "ValueError: Solver lbfgs supports only 'l2' or 'none' penalties, got l1 penalty.\n",
      "\n",
      "  warnings.warn(\"Estimator fit failed. The score on this train-test\"\n",
      "C:\\Users\\Jaysree\\anaconda3\\lib\\site-packages\\sklearn\\model_selection\\_validation.py:610: FitFailedWarning: Estimator fit failed. The score on this train-test partition for these parameters will be set to nan. Details: \n",
      "Traceback (most recent call last):\n",
      "  File \"C:\\Users\\Jaysree\\anaconda3\\lib\\site-packages\\sklearn\\model_selection\\_validation.py\", line 593, in _fit_and_score\n",
      "    estimator.fit(X_train, y_train, **fit_params)\n",
      "  File \"C:\\Users\\Jaysree\\anaconda3\\lib\\site-packages\\sklearn\\linear_model\\_logistic.py\", line 1306, in fit\n",
      "    solver = _check_solver(self.solver, self.penalty, self.dual)\n",
      "  File \"C:\\Users\\Jaysree\\anaconda3\\lib\\site-packages\\sklearn\\linear_model\\_logistic.py\", line 443, in _check_solver\n",
      "    raise ValueError(\"Solver %s supports only 'l2' or 'none' penalties, \"\n",
      "ValueError: Solver lbfgs supports only 'l2' or 'none' penalties, got l1 penalty.\n",
      "\n",
      "  warnings.warn(\"Estimator fit failed. The score on this train-test\"\n",
      "C:\\Users\\Jaysree\\anaconda3\\lib\\site-packages\\sklearn\\model_selection\\_validation.py:610: FitFailedWarning: Estimator fit failed. The score on this train-test partition for these parameters will be set to nan. Details: \n",
      "Traceback (most recent call last):\n",
      "  File \"C:\\Users\\Jaysree\\anaconda3\\lib\\site-packages\\sklearn\\model_selection\\_validation.py\", line 593, in _fit_and_score\n",
      "    estimator.fit(X_train, y_train, **fit_params)\n",
      "  File \"C:\\Users\\Jaysree\\anaconda3\\lib\\site-packages\\sklearn\\linear_model\\_logistic.py\", line 1306, in fit\n",
      "    solver = _check_solver(self.solver, self.penalty, self.dual)\n",
      "  File \"C:\\Users\\Jaysree\\anaconda3\\lib\\site-packages\\sklearn\\linear_model\\_logistic.py\", line 443, in _check_solver\n",
      "    raise ValueError(\"Solver %s supports only 'l2' or 'none' penalties, \"\n",
      "ValueError: Solver lbfgs supports only 'l2' or 'none' penalties, got l1 penalty.\n",
      "\n",
      "  warnings.warn(\"Estimator fit failed. The score on this train-test\"\n",
      "C:\\Users\\Jaysree\\anaconda3\\lib\\site-packages\\sklearn\\model_selection\\_validation.py:610: FitFailedWarning: Estimator fit failed. The score on this train-test partition for these parameters will be set to nan. Details: \n",
      "Traceback (most recent call last):\n",
      "  File \"C:\\Users\\Jaysree\\anaconda3\\lib\\site-packages\\sklearn\\model_selection\\_validation.py\", line 593, in _fit_and_score\n",
      "    estimator.fit(X_train, y_train, **fit_params)\n",
      "  File \"C:\\Users\\Jaysree\\anaconda3\\lib\\site-packages\\sklearn\\linear_model\\_logistic.py\", line 1306, in fit\n",
      "    solver = _check_solver(self.solver, self.penalty, self.dual)\n",
      "  File \"C:\\Users\\Jaysree\\anaconda3\\lib\\site-packages\\sklearn\\linear_model\\_logistic.py\", line 443, in _check_solver\n",
      "    raise ValueError(\"Solver %s supports only 'l2' or 'none' penalties, \"\n",
      "ValueError: Solver lbfgs supports only 'l2' or 'none' penalties, got l1 penalty.\n",
      "\n",
      "  warnings.warn(\"Estimator fit failed. The score on this train-test\"\n",
      "C:\\Users\\Jaysree\\anaconda3\\lib\\site-packages\\sklearn\\model_selection\\_validation.py:610: FitFailedWarning: Estimator fit failed. The score on this train-test partition for these parameters will be set to nan. Details: \n",
      "Traceback (most recent call last):\n",
      "  File \"C:\\Users\\Jaysree\\anaconda3\\lib\\site-packages\\sklearn\\model_selection\\_validation.py\", line 593, in _fit_and_score\n",
      "    estimator.fit(X_train, y_train, **fit_params)\n",
      "  File \"C:\\Users\\Jaysree\\anaconda3\\lib\\site-packages\\sklearn\\linear_model\\_logistic.py\", line 1306, in fit\n",
      "    solver = _check_solver(self.solver, self.penalty, self.dual)\n",
      "  File \"C:\\Users\\Jaysree\\anaconda3\\lib\\site-packages\\sklearn\\linear_model\\_logistic.py\", line 443, in _check_solver\n",
      "    raise ValueError(\"Solver %s supports only 'l2' or 'none' penalties, \"\n",
      "ValueError: Solver sag supports only 'l2' or 'none' penalties, got l1 penalty.\n",
      "\n",
      "  warnings.warn(\"Estimator fit failed. The score on this train-test\"\n",
      "C:\\Users\\Jaysree\\anaconda3\\lib\\site-packages\\sklearn\\model_selection\\_validation.py:610: FitFailedWarning: Estimator fit failed. The score on this train-test partition for these parameters will be set to nan. Details: \n",
      "Traceback (most recent call last):\n",
      "  File \"C:\\Users\\Jaysree\\anaconda3\\lib\\site-packages\\sklearn\\model_selection\\_validation.py\", line 593, in _fit_and_score\n",
      "    estimator.fit(X_train, y_train, **fit_params)\n",
      "  File \"C:\\Users\\Jaysree\\anaconda3\\lib\\site-packages\\sklearn\\linear_model\\_logistic.py\", line 1306, in fit\n",
      "    solver = _check_solver(self.solver, self.penalty, self.dual)\n",
      "  File \"C:\\Users\\Jaysree\\anaconda3\\lib\\site-packages\\sklearn\\linear_model\\_logistic.py\", line 443, in _check_solver\n",
      "    raise ValueError(\"Solver %s supports only 'l2' or 'none' penalties, \"\n",
      "ValueError: Solver sag supports only 'l2' or 'none' penalties, got l1 penalty.\n",
      "\n",
      "  warnings.warn(\"Estimator fit failed. The score on this train-test\"\n",
      "C:\\Users\\Jaysree\\anaconda3\\lib\\site-packages\\sklearn\\model_selection\\_validation.py:610: FitFailedWarning: Estimator fit failed. The score on this train-test partition for these parameters will be set to nan. Details: \n",
      "Traceback (most recent call last):\n",
      "  File \"C:\\Users\\Jaysree\\anaconda3\\lib\\site-packages\\sklearn\\model_selection\\_validation.py\", line 593, in _fit_and_score\n",
      "    estimator.fit(X_train, y_train, **fit_params)\n",
      "  File \"C:\\Users\\Jaysree\\anaconda3\\lib\\site-packages\\sklearn\\linear_model\\_logistic.py\", line 1306, in fit\n",
      "    solver = _check_solver(self.solver, self.penalty, self.dual)\n",
      "  File \"C:\\Users\\Jaysree\\anaconda3\\lib\\site-packages\\sklearn\\linear_model\\_logistic.py\", line 443, in _check_solver\n",
      "    raise ValueError(\"Solver %s supports only 'l2' or 'none' penalties, \"\n",
      "ValueError: Solver sag supports only 'l2' or 'none' penalties, got l1 penalty.\n",
      "\n",
      "  warnings.warn(\"Estimator fit failed. The score on this train-test\"\n",
      "C:\\Users\\Jaysree\\anaconda3\\lib\\site-packages\\sklearn\\model_selection\\_validation.py:610: FitFailedWarning: Estimator fit failed. The score on this train-test partition for these parameters will be set to nan. Details: \n",
      "Traceback (most recent call last):\n",
      "  File \"C:\\Users\\Jaysree\\anaconda3\\lib\\site-packages\\sklearn\\model_selection\\_validation.py\", line 593, in _fit_and_score\n",
      "    estimator.fit(X_train, y_train, **fit_params)\n",
      "  File \"C:\\Users\\Jaysree\\anaconda3\\lib\\site-packages\\sklearn\\linear_model\\_logistic.py\", line 1306, in fit\n",
      "    solver = _check_solver(self.solver, self.penalty, self.dual)\n",
      "  File \"C:\\Users\\Jaysree\\anaconda3\\lib\\site-packages\\sklearn\\linear_model\\_logistic.py\", line 443, in _check_solver\n",
      "    raise ValueError(\"Solver %s supports only 'l2' or 'none' penalties, \"\n",
      "ValueError: Solver sag supports only 'l2' or 'none' penalties, got l1 penalty.\n",
      "\n",
      "  warnings.warn(\"Estimator fit failed. The score on this train-test\"\n",
      "C:\\Users\\Jaysree\\anaconda3\\lib\\site-packages\\sklearn\\model_selection\\_validation.py:610: FitFailedWarning: Estimator fit failed. The score on this train-test partition for these parameters will be set to nan. Details: \n",
      "Traceback (most recent call last):\n",
      "  File \"C:\\Users\\Jaysree\\anaconda3\\lib\\site-packages\\sklearn\\model_selection\\_validation.py\", line 593, in _fit_and_score\n",
      "    estimator.fit(X_train, y_train, **fit_params)\n",
      "  File \"C:\\Users\\Jaysree\\anaconda3\\lib\\site-packages\\sklearn\\linear_model\\_logistic.py\", line 1306, in fit\n",
      "    solver = _check_solver(self.solver, self.penalty, self.dual)\n",
      "  File \"C:\\Users\\Jaysree\\anaconda3\\lib\\site-packages\\sklearn\\linear_model\\_logistic.py\", line 443, in _check_solver\n",
      "    raise ValueError(\"Solver %s supports only 'l2' or 'none' penalties, \"\n",
      "ValueError: Solver sag supports only 'l2' or 'none' penalties, got l1 penalty.\n",
      "\n",
      "  warnings.warn(\"Estimator fit failed. The score on this train-test\"\n"
     ]
    },
    {
     "name": "stdout",
     "output_type": "stream",
     "text": [
      "\n",
      "[CV 1/5] END .................C=0.01, penalty=l2, solver=sag; total time=   0.0s\n",
      "[CV 2/5] END .................C=0.01, penalty=l2, solver=sag; total time=   0.0s\n",
      "[CV 3/5] END .................C=0.01, penalty=l2, solver=sag; total time=   0.0s\n",
      "[CV 4/5] END .................C=0.01, penalty=l2, solver=sag; total time=   0.0s\n",
      "[CV 5/5] END .................C=0.01, penalty=l2, solver=sag; total time=   0.0s\n",
      "[CV 1/5] END ................C=0.01, penalty=l2, solver=saga; total time=   0.0s\n",
      "[CV 2/5] END ................C=0.01, penalty=l2, solver=saga; total time=   0.0s\n",
      "[CV 3/5] END ................C=0.01, penalty=l2, solver=saga; total time=   0.0s\n",
      "[CV 4/5] END ................C=0.01, penalty=l2, solver=saga; total time=   0.0s\n",
      "[CV 5/5] END ................C=0.01, penalty=l2, solver=saga; total time=   0.0s\n",
      "[CV 1/5] END ............C=0.1, penalty=l1, solver=liblinear; total time=   0.0s\n",
      "[CV 2/5] END ............C=0.1, penalty=l1, solver=liblinear; total time=   0.0s\n",
      "[CV 3/5] END ............C=0.1, penalty=l1, solver=liblinear; total time=   0.0s\n",
      "[CV 4/5] END ............C=0.1, penalty=l1, solver=liblinear; total time=   0.0s\n",
      "[CV 5/5] END ............C=0.1, penalty=l1, solver=liblinear; total time=   0.0s\n",
      "[CV 1/5] END ............C=0.1, penalty=l1, solver=newton-cg; total time=   0.0s\n",
      "[CV 2/5] END ............C=0.1, penalty=l1, solver=newton-cg; total time=   0.0s\n",
      "[CV 3/5] END ............C=0.1, penalty=l1, solver=newton-cg; total time=   0.0s\n",
      "[CV 4/5] END ............C=0.1, penalty=l1, solver=newton-cg; total time=   0.0s\n",
      "[CV 5/5] END ............C=0.1, penalty=l1, solver=newton-cg; total time=   0.0s\n",
      "[CV 1/5] END ................C=0.1, penalty=l1, solver=lbfgs; total time=   0.0s\n",
      "[CV 2/5] END ................C=0.1, penalty=l1, solver=lbfgs; total time=   0.0s\n",
      "[CV 3/5] END ................C=0.1, penalty=l1, solver=lbfgs; total time=   0.0s\n",
      "[CV 4/5] END ................C=0.1, penalty=l1, solver=lbfgs; total time=   0.0s\n",
      "[CV 5/5] END ................C=0.1, penalty=l1, solver=lbfgs; total time=   0.0s\n",
      "[CV 1/5] END ..................C=0.1, penalty=l1, solver=sag; total time=   0.0s\n",
      "[CV 2/5] END ..................C=0.1, penalty=l1, solver=sag; total time=   0.0s\n",
      "[CV 3/5] END ..................C=0.1, penalty=l1, solver=sag; total time=   0.0s\n",
      "[CV 4/5] END ..................C=0.1, penalty=l1, solver=sag; total time=   0.0s\n",
      "[CV 5/5] END ..................C=0.1, penalty=l1, solver=sag; total time=   0.0s\n",
      "[CV 1/5] END .................C=0.1, penalty=l1, solver=saga; total time=   0.0s\n",
      "[CV 2/5] END .................C=0.1, penalty=l1, solver=saga; total time=   0.0s\n",
      "[CV 3/5] END .................C=0.1, penalty=l1, solver=saga; total time=   0.0s\n",
      "[CV 4/5] END .................C=0.1, penalty=l1, solver=saga; total time=   0.0s\n",
      "[CV 5/5] END .................C=0.1, penalty=l1, solver=saga; total time=   0.0s\n",
      "[CV 1/5] END ............C=0.1, penalty=l2, solver=liblinear; total time=   0.0s\n",
      "[CV 2/5] END ............C=0.1, penalty=l2, solver=liblinear; total time=   0.0s\n",
      "[CV 3/5] END ............C=0.1, penalty=l2, solver=liblinear; total time=   0.0s\n",
      "[CV 4/5] END ............C=0.1, penalty=l2, solver=liblinear; total time=   0.0s\n",
      "[CV 5/5] END ............C=0.1, penalty=l2, solver=liblinear; total time=   0.0s\n",
      "[CV 1/5] END ............C=0.1, penalty=l2, solver=newton-cg; total time=   0.0s\n",
      "[CV 2/5] END ............C=0.1, penalty=l2, solver=newton-cg; total time=   0.0s\n",
      "[CV 3/5] END ............C=0.1, penalty=l2, solver=newton-cg; total time=   0.0s\n",
      "[CV 4/5] END ............C=0.1, penalty=l2, solver=newton-cg; total time=   0.0s\n",
      "[CV 5/5] END ............C=0.1, penalty=l2, solver=newton-cg; total time=   0.0s\n",
      "[CV 1/5] END ................C=0.1, penalty=l2, solver=lbfgs; total time=   0.0s\n",
      "[CV 2/5] END ................C=0.1, penalty=l2, solver=lbfgs; total time=   0.0s\n",
      "[CV 3/5] END ................C=0.1, penalty=l2, solver=lbfgs; total time=   0.0s\n",
      "[CV 4/5] END ................C=0.1, penalty=l2, solver=lbfgs; total time=   0.0s\n",
      "[CV 5/5] END ................C=0.1, penalty=l2, solver=lbfgs; total time=   0.0s\n",
      "[CV 1/5] END ..................C=0.1, penalty=l2, solver=sag; total time=   0.0s\n",
      "[CV 2/5] END ..................C=0.1, penalty=l2, solver=sag; total time=   0.0s\n",
      "[CV 3/5] END ..................C=0.1, penalty=l2, solver=sag; total time=   0.0s\n",
      "[CV 4/5] END ..................C=0.1, penalty=l2, solver=sag; total time=   0.0s\n",
      "[CV 5/5] END ..................C=0.1, penalty=l2, solver=sag; total time=   0.0s\n",
      "[CV 1/5] END .................C=0.1, penalty=l2, solver=saga; total time=   0.0s\n",
      "[CV 2/5] END .................C=0.1, penalty=l2, solver=saga; total time=   0.0s\n",
      "[CV 3/5] END .................C=0.1, penalty=l2, solver=saga; total time=   0.0s\n",
      "[CV 4/5] END .................C=0.1, penalty=l2, solver=saga; total time=   0.0s\n",
      "[CV 5/5] END .................C=0.1, penalty=l2, solver=saga; total time=   0.0s\n",
      "[CV 1/5] END ..............C=1, penalty=l1, solver=liblinear; total time=   0.0s\n",
      "[CV 2/5] END ..............C=1, penalty=l1, solver=liblinear; total time=   0.0s\n",
      "[CV 3/5] END ..............C=1, penalty=l1, solver=liblinear; total time=   0.0s\n",
      "[CV 4/5] END ..............C=1, penalty=l1, solver=liblinear; total time=   0.0s\n",
      "[CV 5/5] END ..............C=1, penalty=l1, solver=liblinear; total time=   0.0s\n",
      "[CV 1/5] END ..............C=1, penalty=l1, solver=newton-cg; total time=   0.0s\n",
      "[CV 2/5] END ..............C=1, penalty=l1, solver=newton-cg; total time=   0.0s\n",
      "[CV 3/5] END ..............C=1, penalty=l1, solver=newton-cg; total time=   0.0s\n",
      "[CV 4/5] END ..............C=1, penalty=l1, solver=newton-cg; total time=   0.0s\n",
      "[CV 5/5] END ..............C=1, penalty=l1, solver=newton-cg; total time=   0.0s\n",
      "[CV 1/5] END ..................C=1, penalty=l1, solver=lbfgs; total time=   0.0s\n",
      "[CV 2/5] END ..................C=1, penalty=l1, solver=lbfgs; total time=   0.0s\n",
      "[CV 3/5] END ..................C=1, penalty=l1, solver=lbfgs; total time=   0.0s\n",
      "[CV 4/5] END ..................C=1, penalty=l1, solver=lbfgs; total time=   0.0s\n",
      "[CV 5/5] END ..................C=1, penalty=l1, solver=lbfgs; total time=   0.0s\n",
      "[CV 1/5] END ....................C=1, penalty=l1, solver=sag; total time=   0.0s\n",
      "[CV 2/5] END ....................C=1, penalty=l1, solver=sag; total time=   0.0s\n",
      "[CV 3/5] END ....................C=1, penalty=l1, solver=sag; total time=   0.0s\n",
      "[CV 4/5] END ....................C=1, penalty=l1, solver=sag; total time=   0.0s\n",
      "[CV 5/5] END ....................C=1, penalty=l1, solver=sag; total time=   0.0s\n",
      "[CV 1/5] END ...................C=1, penalty=l1, solver=saga; total time=   0.0s\n",
      "[CV 2/5] END ...................C=1, penalty=l1, solver=saga; total time=   0.0s\n",
      "[CV 3/5] END ...................C=1, penalty=l1, solver=saga; total time=   0.0s\n",
      "[CV 4/5] END ...................C=1, penalty=l1, solver=saga; total time=   0.0s\n",
      "[CV 5/5] END ...................C=1, penalty=l1, solver=saga; total time=   0.0s\n",
      "[CV 1/5] END ..............C=1, penalty=l2, solver=liblinear; total time=   0.0s\n",
      "[CV 2/5] END ..............C=1, penalty=l2, solver=liblinear; total time=   0.0s\n",
      "[CV 3/5] END ..............C=1, penalty=l2, solver=liblinear; total time=   0.0s\n",
      "[CV 4/5] END ..............C=1, penalty=l2, solver=liblinear; total time=   0.0s\n",
      "[CV 5/5] END ..............C=1, penalty=l2, solver=liblinear; total time=   0.0s\n",
      "[CV 1/5] END ..............C=1, penalty=l2, solver=newton-cg; total time=   0.0s\n",
      "[CV 2/5] END ..............C=1, penalty=l2, solver=newton-cg; total time=   0.0s\n",
      "[CV 3/5] END ..............C=1, penalty=l2, solver=newton-cg; total time=   0.0s\n",
      "[CV 4/5] END ..............C=1, penalty=l2, solver=newton-cg; total time=   0.0s\n"
     ]
    },
    {
     "name": "stderr",
     "output_type": "stream",
     "text": [
      "C:\\Users\\Jaysree\\anaconda3\\lib\\site-packages\\sklearn\\model_selection\\_validation.py:610: FitFailedWarning: Estimator fit failed. The score on this train-test partition for these parameters will be set to nan. Details: \n",
      "Traceback (most recent call last):\n",
      "  File \"C:\\Users\\Jaysree\\anaconda3\\lib\\site-packages\\sklearn\\model_selection\\_validation.py\", line 593, in _fit_and_score\n",
      "    estimator.fit(X_train, y_train, **fit_params)\n",
      "  File \"C:\\Users\\Jaysree\\anaconda3\\lib\\site-packages\\sklearn\\linear_model\\_logistic.py\", line 1306, in fit\n",
      "    solver = _check_solver(self.solver, self.penalty, self.dual)\n",
      "  File \"C:\\Users\\Jaysree\\anaconda3\\lib\\site-packages\\sklearn\\linear_model\\_logistic.py\", line 443, in _check_solver\n",
      "    raise ValueError(\"Solver %s supports only 'l2' or 'none' penalties, \"\n",
      "ValueError: Solver newton-cg supports only 'l2' or 'none' penalties, got l1 penalty.\n",
      "\n",
      "  warnings.warn(\"Estimator fit failed. The score on this train-test\"\n",
      "C:\\Users\\Jaysree\\anaconda3\\lib\\site-packages\\sklearn\\model_selection\\_validation.py:610: FitFailedWarning: Estimator fit failed. The score on this train-test partition for these parameters will be set to nan. Details: \n",
      "Traceback (most recent call last):\n",
      "  File \"C:\\Users\\Jaysree\\anaconda3\\lib\\site-packages\\sklearn\\model_selection\\_validation.py\", line 593, in _fit_and_score\n",
      "    estimator.fit(X_train, y_train, **fit_params)\n",
      "  File \"C:\\Users\\Jaysree\\anaconda3\\lib\\site-packages\\sklearn\\linear_model\\_logistic.py\", line 1306, in fit\n",
      "    solver = _check_solver(self.solver, self.penalty, self.dual)\n",
      "  File \"C:\\Users\\Jaysree\\anaconda3\\lib\\site-packages\\sklearn\\linear_model\\_logistic.py\", line 443, in _check_solver\n",
      "    raise ValueError(\"Solver %s supports only 'l2' or 'none' penalties, \"\n",
      "ValueError: Solver newton-cg supports only 'l2' or 'none' penalties, got l1 penalty.\n",
      "\n",
      "  warnings.warn(\"Estimator fit failed. The score on this train-test\"\n",
      "C:\\Users\\Jaysree\\anaconda3\\lib\\site-packages\\sklearn\\model_selection\\_validation.py:610: FitFailedWarning: Estimator fit failed. The score on this train-test partition for these parameters will be set to nan. Details: \n",
      "Traceback (most recent call last):\n",
      "  File \"C:\\Users\\Jaysree\\anaconda3\\lib\\site-packages\\sklearn\\model_selection\\_validation.py\", line 593, in _fit_and_score\n",
      "    estimator.fit(X_train, y_train, **fit_params)\n",
      "  File \"C:\\Users\\Jaysree\\anaconda3\\lib\\site-packages\\sklearn\\linear_model\\_logistic.py\", line 1306, in fit\n",
      "    solver = _check_solver(self.solver, self.penalty, self.dual)\n",
      "  File \"C:\\Users\\Jaysree\\anaconda3\\lib\\site-packages\\sklearn\\linear_model\\_logistic.py\", line 443, in _check_solver\n",
      "    raise ValueError(\"Solver %s supports only 'l2' or 'none' penalties, \"\n",
      "ValueError: Solver newton-cg supports only 'l2' or 'none' penalties, got l1 penalty.\n",
      "\n",
      "  warnings.warn(\"Estimator fit failed. The score on this train-test\"\n",
      "C:\\Users\\Jaysree\\anaconda3\\lib\\site-packages\\sklearn\\model_selection\\_validation.py:610: FitFailedWarning: Estimator fit failed. The score on this train-test partition for these parameters will be set to nan. Details: \n",
      "Traceback (most recent call last):\n",
      "  File \"C:\\Users\\Jaysree\\anaconda3\\lib\\site-packages\\sklearn\\model_selection\\_validation.py\", line 593, in _fit_and_score\n",
      "    estimator.fit(X_train, y_train, **fit_params)\n",
      "  File \"C:\\Users\\Jaysree\\anaconda3\\lib\\site-packages\\sklearn\\linear_model\\_logistic.py\", line 1306, in fit\n",
      "    solver = _check_solver(self.solver, self.penalty, self.dual)\n",
      "  File \"C:\\Users\\Jaysree\\anaconda3\\lib\\site-packages\\sklearn\\linear_model\\_logistic.py\", line 443, in _check_solver\n",
      "    raise ValueError(\"Solver %s supports only 'l2' or 'none' penalties, \"\n",
      "ValueError: Solver newton-cg supports only 'l2' or 'none' penalties, got l1 penalty.\n",
      "\n",
      "  warnings.warn(\"Estimator fit failed. The score on this train-test\"\n",
      "C:\\Users\\Jaysree\\anaconda3\\lib\\site-packages\\sklearn\\model_selection\\_validation.py:610: FitFailedWarning: Estimator fit failed. The score on this train-test partition for these parameters will be set to nan. Details: \n",
      "Traceback (most recent call last):\n",
      "  File \"C:\\Users\\Jaysree\\anaconda3\\lib\\site-packages\\sklearn\\model_selection\\_validation.py\", line 593, in _fit_and_score\n",
      "    estimator.fit(X_train, y_train, **fit_params)\n",
      "  File \"C:\\Users\\Jaysree\\anaconda3\\lib\\site-packages\\sklearn\\linear_model\\_logistic.py\", line 1306, in fit\n",
      "    solver = _check_solver(self.solver, self.penalty, self.dual)\n",
      "  File \"C:\\Users\\Jaysree\\anaconda3\\lib\\site-packages\\sklearn\\linear_model\\_logistic.py\", line 443, in _check_solver\n",
      "    raise ValueError(\"Solver %s supports only 'l2' or 'none' penalties, \"\n",
      "ValueError: Solver newton-cg supports only 'l2' or 'none' penalties, got l1 penalty.\n",
      "\n",
      "  warnings.warn(\"Estimator fit failed. The score on this train-test\"\n",
      "C:\\Users\\Jaysree\\anaconda3\\lib\\site-packages\\sklearn\\model_selection\\_validation.py:610: FitFailedWarning: Estimator fit failed. The score on this train-test partition for these parameters will be set to nan. Details: \n",
      "Traceback (most recent call last):\n",
      "  File \"C:\\Users\\Jaysree\\anaconda3\\lib\\site-packages\\sklearn\\model_selection\\_validation.py\", line 593, in _fit_and_score\n",
      "    estimator.fit(X_train, y_train, **fit_params)\n",
      "  File \"C:\\Users\\Jaysree\\anaconda3\\lib\\site-packages\\sklearn\\linear_model\\_logistic.py\", line 1306, in fit\n",
      "    solver = _check_solver(self.solver, self.penalty, self.dual)\n",
      "  File \"C:\\Users\\Jaysree\\anaconda3\\lib\\site-packages\\sklearn\\linear_model\\_logistic.py\", line 443, in _check_solver\n",
      "    raise ValueError(\"Solver %s supports only 'l2' or 'none' penalties, \"\n",
      "ValueError: Solver lbfgs supports only 'l2' or 'none' penalties, got l1 penalty.\n",
      "\n",
      "  warnings.warn(\"Estimator fit failed. The score on this train-test\"\n",
      "C:\\Users\\Jaysree\\anaconda3\\lib\\site-packages\\sklearn\\model_selection\\_validation.py:610: FitFailedWarning: Estimator fit failed. The score on this train-test partition for these parameters will be set to nan. Details: \n",
      "Traceback (most recent call last):\n",
      "  File \"C:\\Users\\Jaysree\\anaconda3\\lib\\site-packages\\sklearn\\model_selection\\_validation.py\", line 593, in _fit_and_score\n",
      "    estimator.fit(X_train, y_train, **fit_params)\n",
      "  File \"C:\\Users\\Jaysree\\anaconda3\\lib\\site-packages\\sklearn\\linear_model\\_logistic.py\", line 1306, in fit\n",
      "    solver = _check_solver(self.solver, self.penalty, self.dual)\n",
      "  File \"C:\\Users\\Jaysree\\anaconda3\\lib\\site-packages\\sklearn\\linear_model\\_logistic.py\", line 443, in _check_solver\n",
      "    raise ValueError(\"Solver %s supports only 'l2' or 'none' penalties, \"\n",
      "ValueError: Solver lbfgs supports only 'l2' or 'none' penalties, got l1 penalty.\n",
      "\n",
      "  warnings.warn(\"Estimator fit failed. The score on this train-test\"\n",
      "C:\\Users\\Jaysree\\anaconda3\\lib\\site-packages\\sklearn\\model_selection\\_validation.py:610: FitFailedWarning: Estimator fit failed. The score on this train-test partition for these parameters will be set to nan. Details: \n",
      "Traceback (most recent call last):\n",
      "  File \"C:\\Users\\Jaysree\\anaconda3\\lib\\site-packages\\sklearn\\model_selection\\_validation.py\", line 593, in _fit_and_score\n",
      "    estimator.fit(X_train, y_train, **fit_params)\n",
      "  File \"C:\\Users\\Jaysree\\anaconda3\\lib\\site-packages\\sklearn\\linear_model\\_logistic.py\", line 1306, in fit\n",
      "    solver = _check_solver(self.solver, self.penalty, self.dual)\n",
      "  File \"C:\\Users\\Jaysree\\anaconda3\\lib\\site-packages\\sklearn\\linear_model\\_logistic.py\", line 443, in _check_solver\n",
      "    raise ValueError(\"Solver %s supports only 'l2' or 'none' penalties, \"\n",
      "ValueError: Solver lbfgs supports only 'l2' or 'none' penalties, got l1 penalty.\n",
      "\n",
      "  warnings.warn(\"Estimator fit failed. The score on this train-test\"\n",
      "C:\\Users\\Jaysree\\anaconda3\\lib\\site-packages\\sklearn\\model_selection\\_validation.py:610: FitFailedWarning: Estimator fit failed. The score on this train-test partition for these parameters will be set to nan. Details: \n",
      "Traceback (most recent call last):\n",
      "  File \"C:\\Users\\Jaysree\\anaconda3\\lib\\site-packages\\sklearn\\model_selection\\_validation.py\", line 593, in _fit_and_score\n",
      "    estimator.fit(X_train, y_train, **fit_params)\n",
      "  File \"C:\\Users\\Jaysree\\anaconda3\\lib\\site-packages\\sklearn\\linear_model\\_logistic.py\", line 1306, in fit\n",
      "    solver = _check_solver(self.solver, self.penalty, self.dual)\n",
      "  File \"C:\\Users\\Jaysree\\anaconda3\\lib\\site-packages\\sklearn\\linear_model\\_logistic.py\", line 443, in _check_solver\n",
      "    raise ValueError(\"Solver %s supports only 'l2' or 'none' penalties, \"\n",
      "ValueError: Solver lbfgs supports only 'l2' or 'none' penalties, got l1 penalty.\n",
      "\n",
      "  warnings.warn(\"Estimator fit failed. The score on this train-test\"\n",
      "C:\\Users\\Jaysree\\anaconda3\\lib\\site-packages\\sklearn\\model_selection\\_validation.py:610: FitFailedWarning: Estimator fit failed. The score on this train-test partition for these parameters will be set to nan. Details: \n",
      "Traceback (most recent call last):\n",
      "  File \"C:\\Users\\Jaysree\\anaconda3\\lib\\site-packages\\sklearn\\model_selection\\_validation.py\", line 593, in _fit_and_score\n",
      "    estimator.fit(X_train, y_train, **fit_params)\n",
      "  File \"C:\\Users\\Jaysree\\anaconda3\\lib\\site-packages\\sklearn\\linear_model\\_logistic.py\", line 1306, in fit\n",
      "    solver = _check_solver(self.solver, self.penalty, self.dual)\n",
      "  File \"C:\\Users\\Jaysree\\anaconda3\\lib\\site-packages\\sklearn\\linear_model\\_logistic.py\", line 443, in _check_solver\n",
      "    raise ValueError(\"Solver %s supports only 'l2' or 'none' penalties, \"\n",
      "ValueError: Solver lbfgs supports only 'l2' or 'none' penalties, got l1 penalty.\n",
      "\n",
      "  warnings.warn(\"Estimator fit failed. The score on this train-test\"\n",
      "C:\\Users\\Jaysree\\anaconda3\\lib\\site-packages\\sklearn\\model_selection\\_validation.py:610: FitFailedWarning: Estimator fit failed. The score on this train-test partition for these parameters will be set to nan. Details: \n",
      "Traceback (most recent call last):\n",
      "  File \"C:\\Users\\Jaysree\\anaconda3\\lib\\site-packages\\sklearn\\model_selection\\_validation.py\", line 593, in _fit_and_score\n",
      "    estimator.fit(X_train, y_train, **fit_params)\n",
      "  File \"C:\\Users\\Jaysree\\anaconda3\\lib\\site-packages\\sklearn\\linear_model\\_logistic.py\", line 1306, in fit\n",
      "    solver = _check_solver(self.solver, self.penalty, self.dual)\n",
      "  File \"C:\\Users\\Jaysree\\anaconda3\\lib\\site-packages\\sklearn\\linear_model\\_logistic.py\", line 443, in _check_solver\n",
      "    raise ValueError(\"Solver %s supports only 'l2' or 'none' penalties, \"\n",
      "ValueError: Solver sag supports only 'l2' or 'none' penalties, got l1 penalty.\n",
      "\n",
      "  warnings.warn(\"Estimator fit failed. The score on this train-test\"\n",
      "C:\\Users\\Jaysree\\anaconda3\\lib\\site-packages\\sklearn\\model_selection\\_validation.py:610: FitFailedWarning: Estimator fit failed. The score on this train-test partition for these parameters will be set to nan. Details: \n",
      "Traceback (most recent call last):\n",
      "  File \"C:\\Users\\Jaysree\\anaconda3\\lib\\site-packages\\sklearn\\model_selection\\_validation.py\", line 593, in _fit_and_score\n",
      "    estimator.fit(X_train, y_train, **fit_params)\n",
      "  File \"C:\\Users\\Jaysree\\anaconda3\\lib\\site-packages\\sklearn\\linear_model\\_logistic.py\", line 1306, in fit\n",
      "    solver = _check_solver(self.solver, self.penalty, self.dual)\n",
      "  File \"C:\\Users\\Jaysree\\anaconda3\\lib\\site-packages\\sklearn\\linear_model\\_logistic.py\", line 443, in _check_solver\n",
      "    raise ValueError(\"Solver %s supports only 'l2' or 'none' penalties, \"\n",
      "ValueError: Solver sag supports only 'l2' or 'none' penalties, got l1 penalty.\n",
      "\n",
      "  warnings.warn(\"Estimator fit failed. The score on this train-test\"\n",
      "C:\\Users\\Jaysree\\anaconda3\\lib\\site-packages\\sklearn\\model_selection\\_validation.py:610: FitFailedWarning: Estimator fit failed. The score on this train-test partition for these parameters will be set to nan. Details: \n",
      "Traceback (most recent call last):\n",
      "  File \"C:\\Users\\Jaysree\\anaconda3\\lib\\site-packages\\sklearn\\model_selection\\_validation.py\", line 593, in _fit_and_score\n",
      "    estimator.fit(X_train, y_train, **fit_params)\n",
      "  File \"C:\\Users\\Jaysree\\anaconda3\\lib\\site-packages\\sklearn\\linear_model\\_logistic.py\", line 1306, in fit\n",
      "    solver = _check_solver(self.solver, self.penalty, self.dual)\n",
      "  File \"C:\\Users\\Jaysree\\anaconda3\\lib\\site-packages\\sklearn\\linear_model\\_logistic.py\", line 443, in _check_solver\n",
      "    raise ValueError(\"Solver %s supports only 'l2' or 'none' penalties, \"\n",
      "ValueError: Solver sag supports only 'l2' or 'none' penalties, got l1 penalty.\n",
      "\n",
      "  warnings.warn(\"Estimator fit failed. The score on this train-test\"\n",
      "C:\\Users\\Jaysree\\anaconda3\\lib\\site-packages\\sklearn\\model_selection\\_validation.py:610: FitFailedWarning: Estimator fit failed. The score on this train-test partition for these parameters will be set to nan. Details: \n",
      "Traceback (most recent call last):\n",
      "  File \"C:\\Users\\Jaysree\\anaconda3\\lib\\site-packages\\sklearn\\model_selection\\_validation.py\", line 593, in _fit_and_score\n",
      "    estimator.fit(X_train, y_train, **fit_params)\n",
      "  File \"C:\\Users\\Jaysree\\anaconda3\\lib\\site-packages\\sklearn\\linear_model\\_logistic.py\", line 1306, in fit\n",
      "    solver = _check_solver(self.solver, self.penalty, self.dual)\n",
      "  File \"C:\\Users\\Jaysree\\anaconda3\\lib\\site-packages\\sklearn\\linear_model\\_logistic.py\", line 443, in _check_solver\n",
      "    raise ValueError(\"Solver %s supports only 'l2' or 'none' penalties, \"\n",
      "ValueError: Solver sag supports only 'l2' or 'none' penalties, got l1 penalty.\n",
      "\n",
      "  warnings.warn(\"Estimator fit failed. The score on this train-test\"\n",
      "C:\\Users\\Jaysree\\anaconda3\\lib\\site-packages\\sklearn\\model_selection\\_validation.py:610: FitFailedWarning: Estimator fit failed. The score on this train-test partition for these parameters will be set to nan. Details: \n",
      "Traceback (most recent call last):\n",
      "  File \"C:\\Users\\Jaysree\\anaconda3\\lib\\site-packages\\sklearn\\model_selection\\_validation.py\", line 593, in _fit_and_score\n",
      "    estimator.fit(X_train, y_train, **fit_params)\n",
      "  File \"C:\\Users\\Jaysree\\anaconda3\\lib\\site-packages\\sklearn\\linear_model\\_logistic.py\", line 1306, in fit\n",
      "    solver = _check_solver(self.solver, self.penalty, self.dual)\n",
      "  File \"C:\\Users\\Jaysree\\anaconda3\\lib\\site-packages\\sklearn\\linear_model\\_logistic.py\", line 443, in _check_solver\n",
      "    raise ValueError(\"Solver %s supports only 'l2' or 'none' penalties, \"\n",
      "ValueError: Solver sag supports only 'l2' or 'none' penalties, got l1 penalty.\n",
      "\n",
      "  warnings.warn(\"Estimator fit failed. The score on this train-test\"\n",
      "C:\\Users\\Jaysree\\anaconda3\\lib\\site-packages\\sklearn\\model_selection\\_validation.py:610: FitFailedWarning: Estimator fit failed. The score on this train-test partition for these parameters will be set to nan. Details: \n",
      "Traceback (most recent call last):\n",
      "  File \"C:\\Users\\Jaysree\\anaconda3\\lib\\site-packages\\sklearn\\model_selection\\_validation.py\", line 593, in _fit_and_score\n",
      "    estimator.fit(X_train, y_train, **fit_params)\n",
      "  File \"C:\\Users\\Jaysree\\anaconda3\\lib\\site-packages\\sklearn\\linear_model\\_logistic.py\", line 1306, in fit\n",
      "    solver = _check_solver(self.solver, self.penalty, self.dual)\n",
      "  File \"C:\\Users\\Jaysree\\anaconda3\\lib\\site-packages\\sklearn\\linear_model\\_logistic.py\", line 443, in _check_solver\n",
      "    raise ValueError(\"Solver %s supports only 'l2' or 'none' penalties, \"\n",
      "ValueError: Solver newton-cg supports only 'l2' or 'none' penalties, got l1 penalty.\n",
      "\n",
      "  warnings.warn(\"Estimator fit failed. The score on this train-test\"\n",
      "C:\\Users\\Jaysree\\anaconda3\\lib\\site-packages\\sklearn\\model_selection\\_validation.py:610: FitFailedWarning: Estimator fit failed. The score on this train-test partition for these parameters will be set to nan. Details: \n",
      "Traceback (most recent call last):\n",
      "  File \"C:\\Users\\Jaysree\\anaconda3\\lib\\site-packages\\sklearn\\model_selection\\_validation.py\", line 593, in _fit_and_score\n",
      "    estimator.fit(X_train, y_train, **fit_params)\n",
      "  File \"C:\\Users\\Jaysree\\anaconda3\\lib\\site-packages\\sklearn\\linear_model\\_logistic.py\", line 1306, in fit\n",
      "    solver = _check_solver(self.solver, self.penalty, self.dual)\n",
      "  File \"C:\\Users\\Jaysree\\anaconda3\\lib\\site-packages\\sklearn\\linear_model\\_logistic.py\", line 443, in _check_solver\n",
      "    raise ValueError(\"Solver %s supports only 'l2' or 'none' penalties, \"\n",
      "ValueError: Solver newton-cg supports only 'l2' or 'none' penalties, got l1 penalty.\n",
      "\n",
      "  warnings.warn(\"Estimator fit failed. The score on this train-test\"\n",
      "C:\\Users\\Jaysree\\anaconda3\\lib\\site-packages\\sklearn\\model_selection\\_validation.py:610: FitFailedWarning: Estimator fit failed. The score on this train-test partition for these parameters will be set to nan. Details: \n",
      "Traceback (most recent call last):\n",
      "  File \"C:\\Users\\Jaysree\\anaconda3\\lib\\site-packages\\sklearn\\model_selection\\_validation.py\", line 593, in _fit_and_score\n",
      "    estimator.fit(X_train, y_train, **fit_params)\n",
      "  File \"C:\\Users\\Jaysree\\anaconda3\\lib\\site-packages\\sklearn\\linear_model\\_logistic.py\", line 1306, in fit\n",
      "    solver = _check_solver(self.solver, self.penalty, self.dual)\n",
      "  File \"C:\\Users\\Jaysree\\anaconda3\\lib\\site-packages\\sklearn\\linear_model\\_logistic.py\", line 443, in _check_solver\n",
      "    raise ValueError(\"Solver %s supports only 'l2' or 'none' penalties, \"\n",
      "ValueError: Solver newton-cg supports only 'l2' or 'none' penalties, got l1 penalty.\n",
      "\n",
      "  warnings.warn(\"Estimator fit failed. The score on this train-test\"\n",
      "C:\\Users\\Jaysree\\anaconda3\\lib\\site-packages\\sklearn\\model_selection\\_validation.py:610: FitFailedWarning: Estimator fit failed. The score on this train-test partition for these parameters will be set to nan. Details: \n",
      "Traceback (most recent call last):\n",
      "  File \"C:\\Users\\Jaysree\\anaconda3\\lib\\site-packages\\sklearn\\model_selection\\_validation.py\", line 593, in _fit_and_score\n",
      "    estimator.fit(X_train, y_train, **fit_params)\n",
      "  File \"C:\\Users\\Jaysree\\anaconda3\\lib\\site-packages\\sklearn\\linear_model\\_logistic.py\", line 1306, in fit\n",
      "    solver = _check_solver(self.solver, self.penalty, self.dual)\n",
      "  File \"C:\\Users\\Jaysree\\anaconda3\\lib\\site-packages\\sklearn\\linear_model\\_logistic.py\", line 443, in _check_solver\n",
      "    raise ValueError(\"Solver %s supports only 'l2' or 'none' penalties, \"\n",
      "ValueError: Solver newton-cg supports only 'l2' or 'none' penalties, got l1 penalty.\n",
      "\n",
      "  warnings.warn(\"Estimator fit failed. The score on this train-test\"\n",
      "C:\\Users\\Jaysree\\anaconda3\\lib\\site-packages\\sklearn\\model_selection\\_validation.py:610: FitFailedWarning: Estimator fit failed. The score on this train-test partition for these parameters will be set to nan. Details: \n",
      "Traceback (most recent call last):\n",
      "  File \"C:\\Users\\Jaysree\\anaconda3\\lib\\site-packages\\sklearn\\model_selection\\_validation.py\", line 593, in _fit_and_score\n",
      "    estimator.fit(X_train, y_train, **fit_params)\n",
      "  File \"C:\\Users\\Jaysree\\anaconda3\\lib\\site-packages\\sklearn\\linear_model\\_logistic.py\", line 1306, in fit\n",
      "    solver = _check_solver(self.solver, self.penalty, self.dual)\n",
      "  File \"C:\\Users\\Jaysree\\anaconda3\\lib\\site-packages\\sklearn\\linear_model\\_logistic.py\", line 443, in _check_solver\n",
      "    raise ValueError(\"Solver %s supports only 'l2' or 'none' penalties, \"\n",
      "ValueError: Solver newton-cg supports only 'l2' or 'none' penalties, got l1 penalty.\n",
      "\n",
      "  warnings.warn(\"Estimator fit failed. The score on this train-test\"\n",
      "C:\\Users\\Jaysree\\anaconda3\\lib\\site-packages\\sklearn\\model_selection\\_validation.py:610: FitFailedWarning: Estimator fit failed. The score on this train-test partition for these parameters will be set to nan. Details: \n",
      "Traceback (most recent call last):\n",
      "  File \"C:\\Users\\Jaysree\\anaconda3\\lib\\site-packages\\sklearn\\model_selection\\_validation.py\", line 593, in _fit_and_score\n",
      "    estimator.fit(X_train, y_train, **fit_params)\n",
      "  File \"C:\\Users\\Jaysree\\anaconda3\\lib\\site-packages\\sklearn\\linear_model\\_logistic.py\", line 1306, in fit\n",
      "    solver = _check_solver(self.solver, self.penalty, self.dual)\n",
      "  File \"C:\\Users\\Jaysree\\anaconda3\\lib\\site-packages\\sklearn\\linear_model\\_logistic.py\", line 443, in _check_solver\n",
      "    raise ValueError(\"Solver %s supports only 'l2' or 'none' penalties, \"\n",
      "ValueError: Solver lbfgs supports only 'l2' or 'none' penalties, got l1 penalty.\n",
      "\n",
      "  warnings.warn(\"Estimator fit failed. The score on this train-test\"\n",
      "C:\\Users\\Jaysree\\anaconda3\\lib\\site-packages\\sklearn\\model_selection\\_validation.py:610: FitFailedWarning: Estimator fit failed. The score on this train-test partition for these parameters will be set to nan. Details: \n",
      "Traceback (most recent call last):\n",
      "  File \"C:\\Users\\Jaysree\\anaconda3\\lib\\site-packages\\sklearn\\model_selection\\_validation.py\", line 593, in _fit_and_score\n",
      "    estimator.fit(X_train, y_train, **fit_params)\n",
      "  File \"C:\\Users\\Jaysree\\anaconda3\\lib\\site-packages\\sklearn\\linear_model\\_logistic.py\", line 1306, in fit\n",
      "    solver = _check_solver(self.solver, self.penalty, self.dual)\n",
      "  File \"C:\\Users\\Jaysree\\anaconda3\\lib\\site-packages\\sklearn\\linear_model\\_logistic.py\", line 443, in _check_solver\n",
      "    raise ValueError(\"Solver %s supports only 'l2' or 'none' penalties, \"\n",
      "ValueError: Solver lbfgs supports only 'l2' or 'none' penalties, got l1 penalty.\n",
      "\n",
      "  warnings.warn(\"Estimator fit failed. The score on this train-test\"\n",
      "C:\\Users\\Jaysree\\anaconda3\\lib\\site-packages\\sklearn\\model_selection\\_validation.py:610: FitFailedWarning: Estimator fit failed. The score on this train-test partition for these parameters will be set to nan. Details: \n",
      "Traceback (most recent call last):\n",
      "  File \"C:\\Users\\Jaysree\\anaconda3\\lib\\site-packages\\sklearn\\model_selection\\_validation.py\", line 593, in _fit_and_score\n",
      "    estimator.fit(X_train, y_train, **fit_params)\n",
      "  File \"C:\\Users\\Jaysree\\anaconda3\\lib\\site-packages\\sklearn\\linear_model\\_logistic.py\", line 1306, in fit\n",
      "    solver = _check_solver(self.solver, self.penalty, self.dual)\n",
      "  File \"C:\\Users\\Jaysree\\anaconda3\\lib\\site-packages\\sklearn\\linear_model\\_logistic.py\", line 443, in _check_solver\n",
      "    raise ValueError(\"Solver %s supports only 'l2' or 'none' penalties, \"\n",
      "ValueError: Solver lbfgs supports only 'l2' or 'none' penalties, got l1 penalty.\n",
      "\n",
      "  warnings.warn(\"Estimator fit failed. The score on this train-test\"\n",
      "C:\\Users\\Jaysree\\anaconda3\\lib\\site-packages\\sklearn\\model_selection\\_validation.py:610: FitFailedWarning: Estimator fit failed. The score on this train-test partition for these parameters will be set to nan. Details: \n",
      "Traceback (most recent call last):\n",
      "  File \"C:\\Users\\Jaysree\\anaconda3\\lib\\site-packages\\sklearn\\model_selection\\_validation.py\", line 593, in _fit_and_score\n",
      "    estimator.fit(X_train, y_train, **fit_params)\n",
      "  File \"C:\\Users\\Jaysree\\anaconda3\\lib\\site-packages\\sklearn\\linear_model\\_logistic.py\", line 1306, in fit\n",
      "    solver = _check_solver(self.solver, self.penalty, self.dual)\n",
      "  File \"C:\\Users\\Jaysree\\anaconda3\\lib\\site-packages\\sklearn\\linear_model\\_logistic.py\", line 443, in _check_solver\n",
      "    raise ValueError(\"Solver %s supports only 'l2' or 'none' penalties, \"\n",
      "ValueError: Solver lbfgs supports only 'l2' or 'none' penalties, got l1 penalty.\n",
      "\n",
      "  warnings.warn(\"Estimator fit failed. The score on this train-test\"\n",
      "C:\\Users\\Jaysree\\anaconda3\\lib\\site-packages\\sklearn\\model_selection\\_validation.py:610: FitFailedWarning: Estimator fit failed. The score on this train-test partition for these parameters will be set to nan. Details: \n",
      "Traceback (most recent call last):\n",
      "  File \"C:\\Users\\Jaysree\\anaconda3\\lib\\site-packages\\sklearn\\model_selection\\_validation.py\", line 593, in _fit_and_score\n",
      "    estimator.fit(X_train, y_train, **fit_params)\n",
      "  File \"C:\\Users\\Jaysree\\anaconda3\\lib\\site-packages\\sklearn\\linear_model\\_logistic.py\", line 1306, in fit\n",
      "    solver = _check_solver(self.solver, self.penalty, self.dual)\n",
      "  File \"C:\\Users\\Jaysree\\anaconda3\\lib\\site-packages\\sklearn\\linear_model\\_logistic.py\", line 443, in _check_solver\n",
      "    raise ValueError(\"Solver %s supports only 'l2' or 'none' penalties, \"\n",
      "ValueError: Solver lbfgs supports only 'l2' or 'none' penalties, got l1 penalty.\n",
      "\n",
      "  warnings.warn(\"Estimator fit failed. The score on this train-test\"\n",
      "C:\\Users\\Jaysree\\anaconda3\\lib\\site-packages\\sklearn\\model_selection\\_validation.py:610: FitFailedWarning: Estimator fit failed. The score on this train-test partition for these parameters will be set to nan. Details: \n",
      "Traceback (most recent call last):\n",
      "  File \"C:\\Users\\Jaysree\\anaconda3\\lib\\site-packages\\sklearn\\model_selection\\_validation.py\", line 593, in _fit_and_score\n",
      "    estimator.fit(X_train, y_train, **fit_params)\n",
      "  File \"C:\\Users\\Jaysree\\anaconda3\\lib\\site-packages\\sklearn\\linear_model\\_logistic.py\", line 1306, in fit\n",
      "    solver = _check_solver(self.solver, self.penalty, self.dual)\n",
      "  File \"C:\\Users\\Jaysree\\anaconda3\\lib\\site-packages\\sklearn\\linear_model\\_logistic.py\", line 443, in _check_solver\n",
      "    raise ValueError(\"Solver %s supports only 'l2' or 'none' penalties, \"\n",
      "ValueError: Solver sag supports only 'l2' or 'none' penalties, got l1 penalty.\n",
      "\n",
      "  warnings.warn(\"Estimator fit failed. The score on this train-test\"\n",
      "C:\\Users\\Jaysree\\anaconda3\\lib\\site-packages\\sklearn\\model_selection\\_validation.py:610: FitFailedWarning: Estimator fit failed. The score on this train-test partition for these parameters will be set to nan. Details: \n",
      "Traceback (most recent call last):\n",
      "  File \"C:\\Users\\Jaysree\\anaconda3\\lib\\site-packages\\sklearn\\model_selection\\_validation.py\", line 593, in _fit_and_score\n",
      "    estimator.fit(X_train, y_train, **fit_params)\n",
      "  File \"C:\\Users\\Jaysree\\anaconda3\\lib\\site-packages\\sklearn\\linear_model\\_logistic.py\", line 1306, in fit\n",
      "    solver = _check_solver(self.solver, self.penalty, self.dual)\n",
      "  File \"C:\\Users\\Jaysree\\anaconda3\\lib\\site-packages\\sklearn\\linear_model\\_logistic.py\", line 443, in _check_solver\n",
      "    raise ValueError(\"Solver %s supports only 'l2' or 'none' penalties, \"\n",
      "ValueError: Solver sag supports only 'l2' or 'none' penalties, got l1 penalty.\n",
      "\n",
      "  warnings.warn(\"Estimator fit failed. The score on this train-test\"\n",
      "C:\\Users\\Jaysree\\anaconda3\\lib\\site-packages\\sklearn\\model_selection\\_validation.py:610: FitFailedWarning: Estimator fit failed. The score on this train-test partition for these parameters will be set to nan. Details: \n",
      "Traceback (most recent call last):\n",
      "  File \"C:\\Users\\Jaysree\\anaconda3\\lib\\site-packages\\sklearn\\model_selection\\_validation.py\", line 593, in _fit_and_score\n",
      "    estimator.fit(X_train, y_train, **fit_params)\n",
      "  File \"C:\\Users\\Jaysree\\anaconda3\\lib\\site-packages\\sklearn\\linear_model\\_logistic.py\", line 1306, in fit\n",
      "    solver = _check_solver(self.solver, self.penalty, self.dual)\n",
      "  File \"C:\\Users\\Jaysree\\anaconda3\\lib\\site-packages\\sklearn\\linear_model\\_logistic.py\", line 443, in _check_solver\n",
      "    raise ValueError(\"Solver %s supports only 'l2' or 'none' penalties, \"\n",
      "ValueError: Solver sag supports only 'l2' or 'none' penalties, got l1 penalty.\n",
      "\n",
      "  warnings.warn(\"Estimator fit failed. The score on this train-test\"\n",
      "C:\\Users\\Jaysree\\anaconda3\\lib\\site-packages\\sklearn\\model_selection\\_validation.py:610: FitFailedWarning: Estimator fit failed. The score on this train-test partition for these parameters will be set to nan. Details: \n",
      "Traceback (most recent call last):\n",
      "  File \"C:\\Users\\Jaysree\\anaconda3\\lib\\site-packages\\sklearn\\model_selection\\_validation.py\", line 593, in _fit_and_score\n",
      "    estimator.fit(X_train, y_train, **fit_params)\n",
      "  File \"C:\\Users\\Jaysree\\anaconda3\\lib\\site-packages\\sklearn\\linear_model\\_logistic.py\", line 1306, in fit\n",
      "    solver = _check_solver(self.solver, self.penalty, self.dual)\n",
      "  File \"C:\\Users\\Jaysree\\anaconda3\\lib\\site-packages\\sklearn\\linear_model\\_logistic.py\", line 443, in _check_solver\n",
      "    raise ValueError(\"Solver %s supports only 'l2' or 'none' penalties, \"\n",
      "ValueError: Solver sag supports only 'l2' or 'none' penalties, got l1 penalty.\n",
      "\n",
      "  warnings.warn(\"Estimator fit failed. The score on this train-test\"\n",
      "C:\\Users\\Jaysree\\anaconda3\\lib\\site-packages\\sklearn\\model_selection\\_validation.py:610: FitFailedWarning: Estimator fit failed. The score on this train-test partition for these parameters will be set to nan. Details: \n",
      "Traceback (most recent call last):\n",
      "  File \"C:\\Users\\Jaysree\\anaconda3\\lib\\site-packages\\sklearn\\model_selection\\_validation.py\", line 593, in _fit_and_score\n",
      "    estimator.fit(X_train, y_train, **fit_params)\n",
      "  File \"C:\\Users\\Jaysree\\anaconda3\\lib\\site-packages\\sklearn\\linear_model\\_logistic.py\", line 1306, in fit\n",
      "    solver = _check_solver(self.solver, self.penalty, self.dual)\n",
      "  File \"C:\\Users\\Jaysree\\anaconda3\\lib\\site-packages\\sklearn\\linear_model\\_logistic.py\", line 443, in _check_solver\n",
      "    raise ValueError(\"Solver %s supports only 'l2' or 'none' penalties, \"\n",
      "ValueError: Solver sag supports only 'l2' or 'none' penalties, got l1 penalty.\n",
      "\n",
      "  warnings.warn(\"Estimator fit failed. The score on this train-test\"\n"
     ]
    },
    {
     "name": "stdout",
     "output_type": "stream",
     "text": [
      "[CV 5/5] END ..............C=1, penalty=l2, solver=newton-cg; total time=   0.0s\n",
      "[CV 1/5] END ..................C=1, penalty=l2, solver=lbfgs; total time=   0.0s\n",
      "[CV 2/5] END ..................C=1, penalty=l2, solver=lbfgs; total time=   0.0s\n",
      "[CV 3/5] END ..................C=1, penalty=l2, solver=lbfgs; total time=   0.0s\n",
      "[CV 4/5] END ..................C=1, penalty=l2, solver=lbfgs; total time=   0.0s\n",
      "[CV 5/5] END ..................C=1, penalty=l2, solver=lbfgs; total time=   0.0s\n",
      "[CV 1/5] END ....................C=1, penalty=l2, solver=sag; total time=   0.0s\n",
      "[CV 2/5] END ....................C=1, penalty=l2, solver=sag; total time=   0.0s\n",
      "[CV 3/5] END ....................C=1, penalty=l2, solver=sag; total time=   0.0s\n",
      "[CV 4/5] END ....................C=1, penalty=l2, solver=sag; total time=   0.0s\n",
      "[CV 5/5] END ....................C=1, penalty=l2, solver=sag; total time=   0.0s\n",
      "[CV 1/5] END ...................C=1, penalty=l2, solver=saga; total time=   0.0s\n",
      "[CV 2/5] END ...................C=1, penalty=l2, solver=saga; total time=   0.0s\n",
      "[CV 3/5] END ...................C=1, penalty=l2, solver=saga; total time=   0.0s\n",
      "[CV 4/5] END ...................C=1, penalty=l2, solver=saga; total time=   0.0s\n",
      "[CV 5/5] END ...................C=1, penalty=l2, solver=saga; total time=   0.0s\n",
      "[CV 1/5] END .............C=10, penalty=l1, solver=liblinear; total time=   0.0s\n",
      "[CV 2/5] END .............C=10, penalty=l1, solver=liblinear; total time=   0.0s\n",
      "[CV 3/5] END .............C=10, penalty=l1, solver=liblinear; total time=   0.0s\n",
      "[CV 4/5] END .............C=10, penalty=l1, solver=liblinear; total time=   0.0s\n",
      "[CV 5/5] END .............C=10, penalty=l1, solver=liblinear; total time=   0.0s\n",
      "[CV 1/5] END .............C=10, penalty=l1, solver=newton-cg; total time=   0.0s\n",
      "[CV 2/5] END .............C=10, penalty=l1, solver=newton-cg; total time=   0.0s\n",
      "[CV 3/5] END .............C=10, penalty=l1, solver=newton-cg; total time=   0.0s\n",
      "[CV 4/5] END .............C=10, penalty=l1, solver=newton-cg; total time=   0.0s\n",
      "[CV 5/5] END .............C=10, penalty=l1, solver=newton-cg; total time=   0.0s\n",
      "[CV 1/5] END .................C=10, penalty=l1, solver=lbfgs; total time=   0.0s\n",
      "[CV 2/5] END .................C=10, penalty=l1, solver=lbfgs; total time=   0.0s\n",
      "[CV 3/5] END .................C=10, penalty=l1, solver=lbfgs; total time=   0.0s\n",
      "[CV 4/5] END .................C=10, penalty=l1, solver=lbfgs; total time=   0.0s\n",
      "[CV 5/5] END .................C=10, penalty=l1, solver=lbfgs; total time=   0.0s\n",
      "[CV 1/5] END ...................C=10, penalty=l1, solver=sag; total time=   0.0s\n",
      "[CV 2/5] END ...................C=10, penalty=l1, solver=sag; total time=   0.0s\n",
      "[CV 3/5] END ...................C=10, penalty=l1, solver=sag; total time=   0.0s\n",
      "[CV 4/5] END ...................C=10, penalty=l1, solver=sag; total time=   0.0s\n",
      "[CV 5/5] END ...................C=10, penalty=l1, solver=sag; total time=   0.0s\n",
      "[CV 1/5] END ..................C=10, penalty=l1, solver=saga; total time=   0.0s\n",
      "[CV 2/5] END ..................C=10, penalty=l1, solver=saga; total time=   0.0s\n",
      "[CV 3/5] END ..................C=10, penalty=l1, solver=saga; total time=   0.0s\n",
      "[CV 4/5] END ..................C=10, penalty=l1, solver=saga; total time=   0.0s\n",
      "[CV 5/5] END ..................C=10, penalty=l1, solver=saga; total time=   0.0s\n",
      "[CV 1/5] END .............C=10, penalty=l2, solver=liblinear; total time=   0.0s\n",
      "[CV 2/5] END .............C=10, penalty=l2, solver=liblinear; total time=   0.0s\n",
      "[CV 3/5] END .............C=10, penalty=l2, solver=liblinear; total time=   0.0s\n",
      "[CV 4/5] END .............C=10, penalty=l2, solver=liblinear; total time=   0.0s\n",
      "[CV 5/5] END .............C=10, penalty=l2, solver=liblinear; total time=   0.0s\n",
      "[CV 1/5] END .............C=10, penalty=l2, solver=newton-cg; total time=   0.0s\n",
      "[CV 2/5] END .............C=10, penalty=l2, solver=newton-cg; total time=   0.0s\n",
      "[CV 3/5] END .............C=10, penalty=l2, solver=newton-cg; total time=   0.0s\n",
      "[CV 4/5] END .............C=10, penalty=l2, solver=newton-cg; total time=   0.0s\n",
      "[CV 5/5] END .............C=10, penalty=l2, solver=newton-cg; total time=   0.0s\n",
      "[CV 1/5] END .................C=10, penalty=l2, solver=lbfgs; total time=   0.0s\n",
      "[CV 2/5] END .................C=10, penalty=l2, solver=lbfgs; total time=   0.0s\n",
      "[CV 3/5] END .................C=10, penalty=l2, solver=lbfgs; total time=   0.0s\n",
      "[CV 4/5] END .................C=10, penalty=l2, solver=lbfgs; total time=   0.0s\n",
      "[CV 5/5] END .................C=10, penalty=l2, solver=lbfgs; total time=   0.0s\n",
      "[CV 1/5] END ...................C=10, penalty=l2, solver=sag; total time=   0.0s\n",
      "[CV 2/5] END ...................C=10, penalty=l2, solver=sag; total time=   0.0s\n",
      "[CV 3/5] END ...................C=10, penalty=l2, solver=sag; total time=   0.0s\n",
      "[CV 4/5] END ...................C=10, penalty=l2, solver=sag; total time=   0.0s\n",
      "[CV 5/5] END ...................C=10, penalty=l2, solver=sag; total time=   0.0s\n",
      "[CV 1/5] END ..................C=10, penalty=l2, solver=saga; total time=   0.0s\n",
      "[CV 2/5] END ..................C=10, penalty=l2, solver=saga; total time=   0.0s\n",
      "[CV 3/5] END ..................C=10, penalty=l2, solver=saga; total time=   0.0s\n",
      "[CV 4/5] END ..................C=10, penalty=l2, solver=saga; total time=   0.0s\n",
      "[CV 5/5] END ..................C=10, penalty=l2, solver=saga; total time=   0.0s\n",
      "[CV 1/5] END ............C=100, penalty=l1, solver=liblinear; total time=   0.0s\n",
      "[CV 2/5] END ............C=100, penalty=l1, solver=liblinear; total time=   0.0s\n",
      "[CV 3/5] END ............C=100, penalty=l1, solver=liblinear; total time=   0.0s\n",
      "[CV 4/5] END ............C=100, penalty=l1, solver=liblinear; total time=   0.0s\n",
      "[CV 5/5] END ............C=100, penalty=l1, solver=liblinear; total time=   0.0s\n",
      "[CV 1/5] END ............C=100, penalty=l1, solver=newton-cg; total time=   0.0s\n",
      "[CV 2/5] END ............C=100, penalty=l1, solver=newton-cg; total time=   0.0s\n",
      "[CV 3/5] END ............C=100, penalty=l1, solver=newton-cg; total time=   0.0s\n",
      "[CV 4/5] END ............C=100, penalty=l1, solver=newton-cg; total time=   0.0s\n",
      "[CV 5/5] END ............C=100, penalty=l1, solver=newton-cg; total time=   0.0s\n",
      "[CV 1/5] END ................C=100, penalty=l1, solver=lbfgs; total time=   0.0s\n",
      "[CV 2/5] END ................C=100, penalty=l1, solver=lbfgs; total time=   0.0s\n",
      "[CV 3/5] END ................C=100, penalty=l1, solver=lbfgs; total time=   0.0s\n",
      "[CV 4/5] END ................C=100, penalty=l1, solver=lbfgs; total time=   0.0s\n",
      "[CV 5/5] END ................C=100, penalty=l1, solver=lbfgs; total time=   0.0s\n",
      "[CV 1/5] END ..................C=100, penalty=l1, solver=sag; total time=   0.0s\n",
      "[CV 2/5] END ..................C=100, penalty=l1, solver=sag; total time=   0.0s\n",
      "[CV 3/5] END ..................C=100, penalty=l1, solver=sag; total time=   0.0s\n",
      "[CV 4/5] END ..................C=100, penalty=l1, solver=sag; total time=   0.0s\n",
      "[CV 5/5] END ..................C=100, penalty=l1, solver=sag; total time=   0.0s\n",
      "[CV 1/5] END .................C=100, penalty=l1, solver=saga; total time=   0.0s\n",
      "[CV 2/5] END .................C=100, penalty=l1, solver=saga; total time=   0.0s\n",
      "[CV 3/5] END .................C=100, penalty=l1, solver=saga; total time=   0.0s\n",
      "[CV 4/5] END .................C=100, penalty=l1, solver=saga; total time=   0.0s\n"
     ]
    },
    {
     "name": "stderr",
     "output_type": "stream",
     "text": [
      "C:\\Users\\Jaysree\\anaconda3\\lib\\site-packages\\sklearn\\model_selection\\_validation.py:610: FitFailedWarning: Estimator fit failed. The score on this train-test partition for these parameters will be set to nan. Details: \n",
      "Traceback (most recent call last):\n",
      "  File \"C:\\Users\\Jaysree\\anaconda3\\lib\\site-packages\\sklearn\\model_selection\\_validation.py\", line 593, in _fit_and_score\n",
      "    estimator.fit(X_train, y_train, **fit_params)\n",
      "  File \"C:\\Users\\Jaysree\\anaconda3\\lib\\site-packages\\sklearn\\linear_model\\_logistic.py\", line 1306, in fit\n",
      "    solver = _check_solver(self.solver, self.penalty, self.dual)\n",
      "  File \"C:\\Users\\Jaysree\\anaconda3\\lib\\site-packages\\sklearn\\linear_model\\_logistic.py\", line 443, in _check_solver\n",
      "    raise ValueError(\"Solver %s supports only 'l2' or 'none' penalties, \"\n",
      "ValueError: Solver newton-cg supports only 'l2' or 'none' penalties, got l1 penalty.\n",
      "\n",
      "  warnings.warn(\"Estimator fit failed. The score on this train-test\"\n",
      "C:\\Users\\Jaysree\\anaconda3\\lib\\site-packages\\sklearn\\model_selection\\_validation.py:610: FitFailedWarning: Estimator fit failed. The score on this train-test partition for these parameters will be set to nan. Details: \n",
      "Traceback (most recent call last):\n",
      "  File \"C:\\Users\\Jaysree\\anaconda3\\lib\\site-packages\\sklearn\\model_selection\\_validation.py\", line 593, in _fit_and_score\n",
      "    estimator.fit(X_train, y_train, **fit_params)\n",
      "  File \"C:\\Users\\Jaysree\\anaconda3\\lib\\site-packages\\sklearn\\linear_model\\_logistic.py\", line 1306, in fit\n",
      "    solver = _check_solver(self.solver, self.penalty, self.dual)\n",
      "  File \"C:\\Users\\Jaysree\\anaconda3\\lib\\site-packages\\sklearn\\linear_model\\_logistic.py\", line 443, in _check_solver\n",
      "    raise ValueError(\"Solver %s supports only 'l2' or 'none' penalties, \"\n",
      "ValueError: Solver newton-cg supports only 'l2' or 'none' penalties, got l1 penalty.\n",
      "\n",
      "  warnings.warn(\"Estimator fit failed. The score on this train-test\"\n",
      "C:\\Users\\Jaysree\\anaconda3\\lib\\site-packages\\sklearn\\model_selection\\_validation.py:610: FitFailedWarning: Estimator fit failed. The score on this train-test partition for these parameters will be set to nan. Details: \n",
      "Traceback (most recent call last):\n",
      "  File \"C:\\Users\\Jaysree\\anaconda3\\lib\\site-packages\\sklearn\\model_selection\\_validation.py\", line 593, in _fit_and_score\n",
      "    estimator.fit(X_train, y_train, **fit_params)\n",
      "  File \"C:\\Users\\Jaysree\\anaconda3\\lib\\site-packages\\sklearn\\linear_model\\_logistic.py\", line 1306, in fit\n",
      "    solver = _check_solver(self.solver, self.penalty, self.dual)\n",
      "  File \"C:\\Users\\Jaysree\\anaconda3\\lib\\site-packages\\sklearn\\linear_model\\_logistic.py\", line 443, in _check_solver\n",
      "    raise ValueError(\"Solver %s supports only 'l2' or 'none' penalties, \"\n",
      "ValueError: Solver newton-cg supports only 'l2' or 'none' penalties, got l1 penalty.\n",
      "\n",
      "  warnings.warn(\"Estimator fit failed. The score on this train-test\"\n",
      "C:\\Users\\Jaysree\\anaconda3\\lib\\site-packages\\sklearn\\model_selection\\_validation.py:610: FitFailedWarning: Estimator fit failed. The score on this train-test partition for these parameters will be set to nan. Details: \n",
      "Traceback (most recent call last):\n",
      "  File \"C:\\Users\\Jaysree\\anaconda3\\lib\\site-packages\\sklearn\\model_selection\\_validation.py\", line 593, in _fit_and_score\n",
      "    estimator.fit(X_train, y_train, **fit_params)\n",
      "  File \"C:\\Users\\Jaysree\\anaconda3\\lib\\site-packages\\sklearn\\linear_model\\_logistic.py\", line 1306, in fit\n",
      "    solver = _check_solver(self.solver, self.penalty, self.dual)\n",
      "  File \"C:\\Users\\Jaysree\\anaconda3\\lib\\site-packages\\sklearn\\linear_model\\_logistic.py\", line 443, in _check_solver\n",
      "    raise ValueError(\"Solver %s supports only 'l2' or 'none' penalties, \"\n",
      "ValueError: Solver newton-cg supports only 'l2' or 'none' penalties, got l1 penalty.\n",
      "\n",
      "  warnings.warn(\"Estimator fit failed. The score on this train-test\"\n",
      "C:\\Users\\Jaysree\\anaconda3\\lib\\site-packages\\sklearn\\model_selection\\_validation.py:610: FitFailedWarning: Estimator fit failed. The score on this train-test partition for these parameters will be set to nan. Details: \n",
      "Traceback (most recent call last):\n",
      "  File \"C:\\Users\\Jaysree\\anaconda3\\lib\\site-packages\\sklearn\\model_selection\\_validation.py\", line 593, in _fit_and_score\n",
      "    estimator.fit(X_train, y_train, **fit_params)\n",
      "  File \"C:\\Users\\Jaysree\\anaconda3\\lib\\site-packages\\sklearn\\linear_model\\_logistic.py\", line 1306, in fit\n",
      "    solver = _check_solver(self.solver, self.penalty, self.dual)\n",
      "  File \"C:\\Users\\Jaysree\\anaconda3\\lib\\site-packages\\sklearn\\linear_model\\_logistic.py\", line 443, in _check_solver\n",
      "    raise ValueError(\"Solver %s supports only 'l2' or 'none' penalties, \"\n",
      "ValueError: Solver newton-cg supports only 'l2' or 'none' penalties, got l1 penalty.\n",
      "\n",
      "  warnings.warn(\"Estimator fit failed. The score on this train-test\"\n",
      "C:\\Users\\Jaysree\\anaconda3\\lib\\site-packages\\sklearn\\model_selection\\_validation.py:610: FitFailedWarning: Estimator fit failed. The score on this train-test partition for these parameters will be set to nan. Details: \n",
      "Traceback (most recent call last):\n",
      "  File \"C:\\Users\\Jaysree\\anaconda3\\lib\\site-packages\\sklearn\\model_selection\\_validation.py\", line 593, in _fit_and_score\n",
      "    estimator.fit(X_train, y_train, **fit_params)\n",
      "  File \"C:\\Users\\Jaysree\\anaconda3\\lib\\site-packages\\sklearn\\linear_model\\_logistic.py\", line 1306, in fit\n",
      "    solver = _check_solver(self.solver, self.penalty, self.dual)\n",
      "  File \"C:\\Users\\Jaysree\\anaconda3\\lib\\site-packages\\sklearn\\linear_model\\_logistic.py\", line 443, in _check_solver\n",
      "    raise ValueError(\"Solver %s supports only 'l2' or 'none' penalties, \"\n",
      "ValueError: Solver lbfgs supports only 'l2' or 'none' penalties, got l1 penalty.\n",
      "\n",
      "  warnings.warn(\"Estimator fit failed. The score on this train-test\"\n",
      "C:\\Users\\Jaysree\\anaconda3\\lib\\site-packages\\sklearn\\model_selection\\_validation.py:610: FitFailedWarning: Estimator fit failed. The score on this train-test partition for these parameters will be set to nan. Details: \n",
      "Traceback (most recent call last):\n",
      "  File \"C:\\Users\\Jaysree\\anaconda3\\lib\\site-packages\\sklearn\\model_selection\\_validation.py\", line 593, in _fit_and_score\n",
      "    estimator.fit(X_train, y_train, **fit_params)\n",
      "  File \"C:\\Users\\Jaysree\\anaconda3\\lib\\site-packages\\sklearn\\linear_model\\_logistic.py\", line 1306, in fit\n",
      "    solver = _check_solver(self.solver, self.penalty, self.dual)\n",
      "  File \"C:\\Users\\Jaysree\\anaconda3\\lib\\site-packages\\sklearn\\linear_model\\_logistic.py\", line 443, in _check_solver\n",
      "    raise ValueError(\"Solver %s supports only 'l2' or 'none' penalties, \"\n",
      "ValueError: Solver lbfgs supports only 'l2' or 'none' penalties, got l1 penalty.\n",
      "\n",
      "  warnings.warn(\"Estimator fit failed. The score on this train-test\"\n",
      "C:\\Users\\Jaysree\\anaconda3\\lib\\site-packages\\sklearn\\model_selection\\_validation.py:610: FitFailedWarning: Estimator fit failed. The score on this train-test partition for these parameters will be set to nan. Details: \n",
      "Traceback (most recent call last):\n",
      "  File \"C:\\Users\\Jaysree\\anaconda3\\lib\\site-packages\\sklearn\\model_selection\\_validation.py\", line 593, in _fit_and_score\n",
      "    estimator.fit(X_train, y_train, **fit_params)\n",
      "  File \"C:\\Users\\Jaysree\\anaconda3\\lib\\site-packages\\sklearn\\linear_model\\_logistic.py\", line 1306, in fit\n",
      "    solver = _check_solver(self.solver, self.penalty, self.dual)\n",
      "  File \"C:\\Users\\Jaysree\\anaconda3\\lib\\site-packages\\sklearn\\linear_model\\_logistic.py\", line 443, in _check_solver\n",
      "    raise ValueError(\"Solver %s supports only 'l2' or 'none' penalties, \"\n",
      "ValueError: Solver lbfgs supports only 'l2' or 'none' penalties, got l1 penalty.\n",
      "\n",
      "  warnings.warn(\"Estimator fit failed. The score on this train-test\"\n",
      "C:\\Users\\Jaysree\\anaconda3\\lib\\site-packages\\sklearn\\model_selection\\_validation.py:610: FitFailedWarning: Estimator fit failed. The score on this train-test partition for these parameters will be set to nan. Details: \n",
      "Traceback (most recent call last):\n",
      "  File \"C:\\Users\\Jaysree\\anaconda3\\lib\\site-packages\\sklearn\\model_selection\\_validation.py\", line 593, in _fit_and_score\n",
      "    estimator.fit(X_train, y_train, **fit_params)\n",
      "  File \"C:\\Users\\Jaysree\\anaconda3\\lib\\site-packages\\sklearn\\linear_model\\_logistic.py\", line 1306, in fit\n",
      "    solver = _check_solver(self.solver, self.penalty, self.dual)\n",
      "  File \"C:\\Users\\Jaysree\\anaconda3\\lib\\site-packages\\sklearn\\linear_model\\_logistic.py\", line 443, in _check_solver\n",
      "    raise ValueError(\"Solver %s supports only 'l2' or 'none' penalties, \"\n",
      "ValueError: Solver lbfgs supports only 'l2' or 'none' penalties, got l1 penalty.\n",
      "\n",
      "  warnings.warn(\"Estimator fit failed. The score on this train-test\"\n",
      "C:\\Users\\Jaysree\\anaconda3\\lib\\site-packages\\sklearn\\model_selection\\_validation.py:610: FitFailedWarning: Estimator fit failed. The score on this train-test partition for these parameters will be set to nan. Details: \n",
      "Traceback (most recent call last):\n",
      "  File \"C:\\Users\\Jaysree\\anaconda3\\lib\\site-packages\\sklearn\\model_selection\\_validation.py\", line 593, in _fit_and_score\n",
      "    estimator.fit(X_train, y_train, **fit_params)\n",
      "  File \"C:\\Users\\Jaysree\\anaconda3\\lib\\site-packages\\sklearn\\linear_model\\_logistic.py\", line 1306, in fit\n",
      "    solver = _check_solver(self.solver, self.penalty, self.dual)\n",
      "  File \"C:\\Users\\Jaysree\\anaconda3\\lib\\site-packages\\sklearn\\linear_model\\_logistic.py\", line 443, in _check_solver\n",
      "    raise ValueError(\"Solver %s supports only 'l2' or 'none' penalties, \"\n",
      "ValueError: Solver lbfgs supports only 'l2' or 'none' penalties, got l1 penalty.\n",
      "\n",
      "  warnings.warn(\"Estimator fit failed. The score on this train-test\"\n",
      "C:\\Users\\Jaysree\\anaconda3\\lib\\site-packages\\sklearn\\model_selection\\_validation.py:610: FitFailedWarning: Estimator fit failed. The score on this train-test partition for these parameters will be set to nan. Details: \n",
      "Traceback (most recent call last):\n",
      "  File \"C:\\Users\\Jaysree\\anaconda3\\lib\\site-packages\\sklearn\\model_selection\\_validation.py\", line 593, in _fit_and_score\n",
      "    estimator.fit(X_train, y_train, **fit_params)\n",
      "  File \"C:\\Users\\Jaysree\\anaconda3\\lib\\site-packages\\sklearn\\linear_model\\_logistic.py\", line 1306, in fit\n",
      "    solver = _check_solver(self.solver, self.penalty, self.dual)\n",
      "  File \"C:\\Users\\Jaysree\\anaconda3\\lib\\site-packages\\sklearn\\linear_model\\_logistic.py\", line 443, in _check_solver\n",
      "    raise ValueError(\"Solver %s supports only 'l2' or 'none' penalties, \"\n",
      "ValueError: Solver sag supports only 'l2' or 'none' penalties, got l1 penalty.\n",
      "\n",
      "  warnings.warn(\"Estimator fit failed. The score on this train-test\"\n",
      "C:\\Users\\Jaysree\\anaconda3\\lib\\site-packages\\sklearn\\model_selection\\_validation.py:610: FitFailedWarning: Estimator fit failed. The score on this train-test partition for these parameters will be set to nan. Details: \n",
      "Traceback (most recent call last):\n",
      "  File \"C:\\Users\\Jaysree\\anaconda3\\lib\\site-packages\\sklearn\\model_selection\\_validation.py\", line 593, in _fit_and_score\n",
      "    estimator.fit(X_train, y_train, **fit_params)\n",
      "  File \"C:\\Users\\Jaysree\\anaconda3\\lib\\site-packages\\sklearn\\linear_model\\_logistic.py\", line 1306, in fit\n",
      "    solver = _check_solver(self.solver, self.penalty, self.dual)\n",
      "  File \"C:\\Users\\Jaysree\\anaconda3\\lib\\site-packages\\sklearn\\linear_model\\_logistic.py\", line 443, in _check_solver\n",
      "    raise ValueError(\"Solver %s supports only 'l2' or 'none' penalties, \"\n",
      "ValueError: Solver sag supports only 'l2' or 'none' penalties, got l1 penalty.\n",
      "\n",
      "  warnings.warn(\"Estimator fit failed. The score on this train-test\"\n",
      "C:\\Users\\Jaysree\\anaconda3\\lib\\site-packages\\sklearn\\model_selection\\_validation.py:610: FitFailedWarning: Estimator fit failed. The score on this train-test partition for these parameters will be set to nan. Details: \n",
      "Traceback (most recent call last):\n",
      "  File \"C:\\Users\\Jaysree\\anaconda3\\lib\\site-packages\\sklearn\\model_selection\\_validation.py\", line 593, in _fit_and_score\n",
      "    estimator.fit(X_train, y_train, **fit_params)\n",
      "  File \"C:\\Users\\Jaysree\\anaconda3\\lib\\site-packages\\sklearn\\linear_model\\_logistic.py\", line 1306, in fit\n",
      "    solver = _check_solver(self.solver, self.penalty, self.dual)\n",
      "  File \"C:\\Users\\Jaysree\\anaconda3\\lib\\site-packages\\sklearn\\linear_model\\_logistic.py\", line 443, in _check_solver\n",
      "    raise ValueError(\"Solver %s supports only 'l2' or 'none' penalties, \"\n",
      "ValueError: Solver sag supports only 'l2' or 'none' penalties, got l1 penalty.\n",
      "\n",
      "  warnings.warn(\"Estimator fit failed. The score on this train-test\"\n",
      "C:\\Users\\Jaysree\\anaconda3\\lib\\site-packages\\sklearn\\model_selection\\_validation.py:610: FitFailedWarning: Estimator fit failed. The score on this train-test partition for these parameters will be set to nan. Details: \n",
      "Traceback (most recent call last):\n",
      "  File \"C:\\Users\\Jaysree\\anaconda3\\lib\\site-packages\\sklearn\\model_selection\\_validation.py\", line 593, in _fit_and_score\n",
      "    estimator.fit(X_train, y_train, **fit_params)\n",
      "  File \"C:\\Users\\Jaysree\\anaconda3\\lib\\site-packages\\sklearn\\linear_model\\_logistic.py\", line 1306, in fit\n",
      "    solver = _check_solver(self.solver, self.penalty, self.dual)\n",
      "  File \"C:\\Users\\Jaysree\\anaconda3\\lib\\site-packages\\sklearn\\linear_model\\_logistic.py\", line 443, in _check_solver\n",
      "    raise ValueError(\"Solver %s supports only 'l2' or 'none' penalties, \"\n",
      "ValueError: Solver sag supports only 'l2' or 'none' penalties, got l1 penalty.\n",
      "\n",
      "  warnings.warn(\"Estimator fit failed. The score on this train-test\"\n",
      "C:\\Users\\Jaysree\\anaconda3\\lib\\site-packages\\sklearn\\model_selection\\_validation.py:610: FitFailedWarning: Estimator fit failed. The score on this train-test partition for these parameters will be set to nan. Details: \n",
      "Traceback (most recent call last):\n",
      "  File \"C:\\Users\\Jaysree\\anaconda3\\lib\\site-packages\\sklearn\\model_selection\\_validation.py\", line 593, in _fit_and_score\n",
      "    estimator.fit(X_train, y_train, **fit_params)\n",
      "  File \"C:\\Users\\Jaysree\\anaconda3\\lib\\site-packages\\sklearn\\linear_model\\_logistic.py\", line 1306, in fit\n",
      "    solver = _check_solver(self.solver, self.penalty, self.dual)\n",
      "  File \"C:\\Users\\Jaysree\\anaconda3\\lib\\site-packages\\sklearn\\linear_model\\_logistic.py\", line 443, in _check_solver\n",
      "    raise ValueError(\"Solver %s supports only 'l2' or 'none' penalties, \"\n",
      "ValueError: Solver sag supports only 'l2' or 'none' penalties, got l1 penalty.\n",
      "\n",
      "  warnings.warn(\"Estimator fit failed. The score on this train-test\"\n",
      "C:\\Users\\Jaysree\\anaconda3\\lib\\site-packages\\sklearn\\model_selection\\_validation.py:610: FitFailedWarning: Estimator fit failed. The score on this train-test partition for these parameters will be set to nan. Details: \n",
      "Traceback (most recent call last):\n",
      "  File \"C:\\Users\\Jaysree\\anaconda3\\lib\\site-packages\\sklearn\\model_selection\\_validation.py\", line 593, in _fit_and_score\n",
      "    estimator.fit(X_train, y_train, **fit_params)\n",
      "  File \"C:\\Users\\Jaysree\\anaconda3\\lib\\site-packages\\sklearn\\linear_model\\_logistic.py\", line 1306, in fit\n",
      "    solver = _check_solver(self.solver, self.penalty, self.dual)\n",
      "  File \"C:\\Users\\Jaysree\\anaconda3\\lib\\site-packages\\sklearn\\linear_model\\_logistic.py\", line 443, in _check_solver\n",
      "    raise ValueError(\"Solver %s supports only 'l2' or 'none' penalties, \"\n",
      "ValueError: Solver newton-cg supports only 'l2' or 'none' penalties, got l1 penalty.\n",
      "\n",
      "  warnings.warn(\"Estimator fit failed. The score on this train-test\"\n",
      "C:\\Users\\Jaysree\\anaconda3\\lib\\site-packages\\sklearn\\model_selection\\_validation.py:610: FitFailedWarning: Estimator fit failed. The score on this train-test partition for these parameters will be set to nan. Details: \n",
      "Traceback (most recent call last):\n",
      "  File \"C:\\Users\\Jaysree\\anaconda3\\lib\\site-packages\\sklearn\\model_selection\\_validation.py\", line 593, in _fit_and_score\n",
      "    estimator.fit(X_train, y_train, **fit_params)\n",
      "  File \"C:\\Users\\Jaysree\\anaconda3\\lib\\site-packages\\sklearn\\linear_model\\_logistic.py\", line 1306, in fit\n",
      "    solver = _check_solver(self.solver, self.penalty, self.dual)\n",
      "  File \"C:\\Users\\Jaysree\\anaconda3\\lib\\site-packages\\sklearn\\linear_model\\_logistic.py\", line 443, in _check_solver\n",
      "    raise ValueError(\"Solver %s supports only 'l2' or 'none' penalties, \"\n",
      "ValueError: Solver newton-cg supports only 'l2' or 'none' penalties, got l1 penalty.\n",
      "\n",
      "  warnings.warn(\"Estimator fit failed. The score on this train-test\"\n",
      "C:\\Users\\Jaysree\\anaconda3\\lib\\site-packages\\sklearn\\model_selection\\_validation.py:610: FitFailedWarning: Estimator fit failed. The score on this train-test partition for these parameters will be set to nan. Details: \n",
      "Traceback (most recent call last):\n",
      "  File \"C:\\Users\\Jaysree\\anaconda3\\lib\\site-packages\\sklearn\\model_selection\\_validation.py\", line 593, in _fit_and_score\n",
      "    estimator.fit(X_train, y_train, **fit_params)\n",
      "  File \"C:\\Users\\Jaysree\\anaconda3\\lib\\site-packages\\sklearn\\linear_model\\_logistic.py\", line 1306, in fit\n",
      "    solver = _check_solver(self.solver, self.penalty, self.dual)\n",
      "  File \"C:\\Users\\Jaysree\\anaconda3\\lib\\site-packages\\sklearn\\linear_model\\_logistic.py\", line 443, in _check_solver\n",
      "    raise ValueError(\"Solver %s supports only 'l2' or 'none' penalties, \"\n",
      "ValueError: Solver newton-cg supports only 'l2' or 'none' penalties, got l1 penalty.\n",
      "\n",
      "  warnings.warn(\"Estimator fit failed. The score on this train-test\"\n",
      "C:\\Users\\Jaysree\\anaconda3\\lib\\site-packages\\sklearn\\model_selection\\_validation.py:610: FitFailedWarning: Estimator fit failed. The score on this train-test partition for these parameters will be set to nan. Details: \n",
      "Traceback (most recent call last):\n",
      "  File \"C:\\Users\\Jaysree\\anaconda3\\lib\\site-packages\\sklearn\\model_selection\\_validation.py\", line 593, in _fit_and_score\n",
      "    estimator.fit(X_train, y_train, **fit_params)\n",
      "  File \"C:\\Users\\Jaysree\\anaconda3\\lib\\site-packages\\sklearn\\linear_model\\_logistic.py\", line 1306, in fit\n",
      "    solver = _check_solver(self.solver, self.penalty, self.dual)\n",
      "  File \"C:\\Users\\Jaysree\\anaconda3\\lib\\site-packages\\sklearn\\linear_model\\_logistic.py\", line 443, in _check_solver\n",
      "    raise ValueError(\"Solver %s supports only 'l2' or 'none' penalties, \"\n",
      "ValueError: Solver newton-cg supports only 'l2' or 'none' penalties, got l1 penalty.\n",
      "\n",
      "  warnings.warn(\"Estimator fit failed. The score on this train-test\"\n",
      "C:\\Users\\Jaysree\\anaconda3\\lib\\site-packages\\sklearn\\model_selection\\_validation.py:610: FitFailedWarning: Estimator fit failed. The score on this train-test partition for these parameters will be set to nan. Details: \n",
      "Traceback (most recent call last):\n",
      "  File \"C:\\Users\\Jaysree\\anaconda3\\lib\\site-packages\\sklearn\\model_selection\\_validation.py\", line 593, in _fit_and_score\n",
      "    estimator.fit(X_train, y_train, **fit_params)\n",
      "  File \"C:\\Users\\Jaysree\\anaconda3\\lib\\site-packages\\sklearn\\linear_model\\_logistic.py\", line 1306, in fit\n",
      "    solver = _check_solver(self.solver, self.penalty, self.dual)\n",
      "  File \"C:\\Users\\Jaysree\\anaconda3\\lib\\site-packages\\sklearn\\linear_model\\_logistic.py\", line 443, in _check_solver\n",
      "    raise ValueError(\"Solver %s supports only 'l2' or 'none' penalties, \"\n",
      "ValueError: Solver newton-cg supports only 'l2' or 'none' penalties, got l1 penalty.\n",
      "\n",
      "  warnings.warn(\"Estimator fit failed. The score on this train-test\"\n",
      "C:\\Users\\Jaysree\\anaconda3\\lib\\site-packages\\sklearn\\model_selection\\_validation.py:610: FitFailedWarning: Estimator fit failed. The score on this train-test partition for these parameters will be set to nan. Details: \n",
      "Traceback (most recent call last):\n",
      "  File \"C:\\Users\\Jaysree\\anaconda3\\lib\\site-packages\\sklearn\\model_selection\\_validation.py\", line 593, in _fit_and_score\n",
      "    estimator.fit(X_train, y_train, **fit_params)\n",
      "  File \"C:\\Users\\Jaysree\\anaconda3\\lib\\site-packages\\sklearn\\linear_model\\_logistic.py\", line 1306, in fit\n",
      "    solver = _check_solver(self.solver, self.penalty, self.dual)\n",
      "  File \"C:\\Users\\Jaysree\\anaconda3\\lib\\site-packages\\sklearn\\linear_model\\_logistic.py\", line 443, in _check_solver\n",
      "    raise ValueError(\"Solver %s supports only 'l2' or 'none' penalties, \"\n",
      "ValueError: Solver lbfgs supports only 'l2' or 'none' penalties, got l1 penalty.\n",
      "\n",
      "  warnings.warn(\"Estimator fit failed. The score on this train-test\"\n",
      "C:\\Users\\Jaysree\\anaconda3\\lib\\site-packages\\sklearn\\model_selection\\_validation.py:610: FitFailedWarning: Estimator fit failed. The score on this train-test partition for these parameters will be set to nan. Details: \n",
      "Traceback (most recent call last):\n",
      "  File \"C:\\Users\\Jaysree\\anaconda3\\lib\\site-packages\\sklearn\\model_selection\\_validation.py\", line 593, in _fit_and_score\n",
      "    estimator.fit(X_train, y_train, **fit_params)\n",
      "  File \"C:\\Users\\Jaysree\\anaconda3\\lib\\site-packages\\sklearn\\linear_model\\_logistic.py\", line 1306, in fit\n",
      "    solver = _check_solver(self.solver, self.penalty, self.dual)\n",
      "  File \"C:\\Users\\Jaysree\\anaconda3\\lib\\site-packages\\sklearn\\linear_model\\_logistic.py\", line 443, in _check_solver\n",
      "    raise ValueError(\"Solver %s supports only 'l2' or 'none' penalties, \"\n",
      "ValueError: Solver lbfgs supports only 'l2' or 'none' penalties, got l1 penalty.\n",
      "\n",
      "  warnings.warn(\"Estimator fit failed. The score on this train-test\"\n",
      "C:\\Users\\Jaysree\\anaconda3\\lib\\site-packages\\sklearn\\model_selection\\_validation.py:610: FitFailedWarning: Estimator fit failed. The score on this train-test partition for these parameters will be set to nan. Details: \n",
      "Traceback (most recent call last):\n",
      "  File \"C:\\Users\\Jaysree\\anaconda3\\lib\\site-packages\\sklearn\\model_selection\\_validation.py\", line 593, in _fit_and_score\n",
      "    estimator.fit(X_train, y_train, **fit_params)\n",
      "  File \"C:\\Users\\Jaysree\\anaconda3\\lib\\site-packages\\sklearn\\linear_model\\_logistic.py\", line 1306, in fit\n",
      "    solver = _check_solver(self.solver, self.penalty, self.dual)\n",
      "  File \"C:\\Users\\Jaysree\\anaconda3\\lib\\site-packages\\sklearn\\linear_model\\_logistic.py\", line 443, in _check_solver\n",
      "    raise ValueError(\"Solver %s supports only 'l2' or 'none' penalties, \"\n",
      "ValueError: Solver lbfgs supports only 'l2' or 'none' penalties, got l1 penalty.\n",
      "\n",
      "  warnings.warn(\"Estimator fit failed. The score on this train-test\"\n",
      "C:\\Users\\Jaysree\\anaconda3\\lib\\site-packages\\sklearn\\model_selection\\_validation.py:610: FitFailedWarning: Estimator fit failed. The score on this train-test partition for these parameters will be set to nan. Details: \n",
      "Traceback (most recent call last):\n",
      "  File \"C:\\Users\\Jaysree\\anaconda3\\lib\\site-packages\\sklearn\\model_selection\\_validation.py\", line 593, in _fit_and_score\n",
      "    estimator.fit(X_train, y_train, **fit_params)\n",
      "  File \"C:\\Users\\Jaysree\\anaconda3\\lib\\site-packages\\sklearn\\linear_model\\_logistic.py\", line 1306, in fit\n",
      "    solver = _check_solver(self.solver, self.penalty, self.dual)\n",
      "  File \"C:\\Users\\Jaysree\\anaconda3\\lib\\site-packages\\sklearn\\linear_model\\_logistic.py\", line 443, in _check_solver\n",
      "    raise ValueError(\"Solver %s supports only 'l2' or 'none' penalties, \"\n",
      "ValueError: Solver lbfgs supports only 'l2' or 'none' penalties, got l1 penalty.\n",
      "\n",
      "  warnings.warn(\"Estimator fit failed. The score on this train-test\"\n",
      "C:\\Users\\Jaysree\\anaconda3\\lib\\site-packages\\sklearn\\model_selection\\_validation.py:610: FitFailedWarning: Estimator fit failed. The score on this train-test partition for these parameters will be set to nan. Details: \n",
      "Traceback (most recent call last):\n",
      "  File \"C:\\Users\\Jaysree\\anaconda3\\lib\\site-packages\\sklearn\\model_selection\\_validation.py\", line 593, in _fit_and_score\n",
      "    estimator.fit(X_train, y_train, **fit_params)\n",
      "  File \"C:\\Users\\Jaysree\\anaconda3\\lib\\site-packages\\sklearn\\linear_model\\_logistic.py\", line 1306, in fit\n",
      "    solver = _check_solver(self.solver, self.penalty, self.dual)\n",
      "  File \"C:\\Users\\Jaysree\\anaconda3\\lib\\site-packages\\sklearn\\linear_model\\_logistic.py\", line 443, in _check_solver\n",
      "    raise ValueError(\"Solver %s supports only 'l2' or 'none' penalties, \"\n",
      "ValueError: Solver lbfgs supports only 'l2' or 'none' penalties, got l1 penalty.\n",
      "\n",
      "  warnings.warn(\"Estimator fit failed. The score on this train-test\"\n",
      "C:\\Users\\Jaysree\\anaconda3\\lib\\site-packages\\sklearn\\model_selection\\_validation.py:610: FitFailedWarning: Estimator fit failed. The score on this train-test partition for these parameters will be set to nan. Details: \n",
      "Traceback (most recent call last):\n",
      "  File \"C:\\Users\\Jaysree\\anaconda3\\lib\\site-packages\\sklearn\\model_selection\\_validation.py\", line 593, in _fit_and_score\n",
      "    estimator.fit(X_train, y_train, **fit_params)\n",
      "  File \"C:\\Users\\Jaysree\\anaconda3\\lib\\site-packages\\sklearn\\linear_model\\_logistic.py\", line 1306, in fit\n",
      "    solver = _check_solver(self.solver, self.penalty, self.dual)\n",
      "  File \"C:\\Users\\Jaysree\\anaconda3\\lib\\site-packages\\sklearn\\linear_model\\_logistic.py\", line 443, in _check_solver\n",
      "    raise ValueError(\"Solver %s supports only 'l2' or 'none' penalties, \"\n",
      "ValueError: Solver sag supports only 'l2' or 'none' penalties, got l1 penalty.\n",
      "\n",
      "  warnings.warn(\"Estimator fit failed. The score on this train-test\"\n",
      "C:\\Users\\Jaysree\\anaconda3\\lib\\site-packages\\sklearn\\model_selection\\_validation.py:610: FitFailedWarning: Estimator fit failed. The score on this train-test partition for these parameters will be set to nan. Details: \n",
      "Traceback (most recent call last):\n",
      "  File \"C:\\Users\\Jaysree\\anaconda3\\lib\\site-packages\\sklearn\\model_selection\\_validation.py\", line 593, in _fit_and_score\n",
      "    estimator.fit(X_train, y_train, **fit_params)\n",
      "  File \"C:\\Users\\Jaysree\\anaconda3\\lib\\site-packages\\sklearn\\linear_model\\_logistic.py\", line 1306, in fit\n",
      "    solver = _check_solver(self.solver, self.penalty, self.dual)\n",
      "  File \"C:\\Users\\Jaysree\\anaconda3\\lib\\site-packages\\sklearn\\linear_model\\_logistic.py\", line 443, in _check_solver\n",
      "    raise ValueError(\"Solver %s supports only 'l2' or 'none' penalties, \"\n",
      "ValueError: Solver sag supports only 'l2' or 'none' penalties, got l1 penalty.\n",
      "\n",
      "  warnings.warn(\"Estimator fit failed. The score on this train-test\"\n",
      "C:\\Users\\Jaysree\\anaconda3\\lib\\site-packages\\sklearn\\model_selection\\_validation.py:610: FitFailedWarning: Estimator fit failed. The score on this train-test partition for these parameters will be set to nan. Details: \n",
      "Traceback (most recent call last):\n",
      "  File \"C:\\Users\\Jaysree\\anaconda3\\lib\\site-packages\\sklearn\\model_selection\\_validation.py\", line 593, in _fit_and_score\n",
      "    estimator.fit(X_train, y_train, **fit_params)\n",
      "  File \"C:\\Users\\Jaysree\\anaconda3\\lib\\site-packages\\sklearn\\linear_model\\_logistic.py\", line 1306, in fit\n",
      "    solver = _check_solver(self.solver, self.penalty, self.dual)\n",
      "  File \"C:\\Users\\Jaysree\\anaconda3\\lib\\site-packages\\sklearn\\linear_model\\_logistic.py\", line 443, in _check_solver\n",
      "    raise ValueError(\"Solver %s supports only 'l2' or 'none' penalties, \"\n",
      "ValueError: Solver sag supports only 'l2' or 'none' penalties, got l1 penalty.\n",
      "\n",
      "  warnings.warn(\"Estimator fit failed. The score on this train-test\"\n",
      "C:\\Users\\Jaysree\\anaconda3\\lib\\site-packages\\sklearn\\model_selection\\_validation.py:610: FitFailedWarning: Estimator fit failed. The score on this train-test partition for these parameters will be set to nan. Details: \n",
      "Traceback (most recent call last):\n",
      "  File \"C:\\Users\\Jaysree\\anaconda3\\lib\\site-packages\\sklearn\\model_selection\\_validation.py\", line 593, in _fit_and_score\n",
      "    estimator.fit(X_train, y_train, **fit_params)\n",
      "  File \"C:\\Users\\Jaysree\\anaconda3\\lib\\site-packages\\sklearn\\linear_model\\_logistic.py\", line 1306, in fit\n",
      "    solver = _check_solver(self.solver, self.penalty, self.dual)\n",
      "  File \"C:\\Users\\Jaysree\\anaconda3\\lib\\site-packages\\sklearn\\linear_model\\_logistic.py\", line 443, in _check_solver\n",
      "    raise ValueError(\"Solver %s supports only 'l2' or 'none' penalties, \"\n",
      "ValueError: Solver sag supports only 'l2' or 'none' penalties, got l1 penalty.\n",
      "\n",
      "  warnings.warn(\"Estimator fit failed. The score on this train-test\"\n",
      "C:\\Users\\Jaysree\\anaconda3\\lib\\site-packages\\sklearn\\model_selection\\_validation.py:610: FitFailedWarning: Estimator fit failed. The score on this train-test partition for these parameters will be set to nan. Details: \n",
      "Traceback (most recent call last):\n",
      "  File \"C:\\Users\\Jaysree\\anaconda3\\lib\\site-packages\\sklearn\\model_selection\\_validation.py\", line 593, in _fit_and_score\n",
      "    estimator.fit(X_train, y_train, **fit_params)\n",
      "  File \"C:\\Users\\Jaysree\\anaconda3\\lib\\site-packages\\sklearn\\linear_model\\_logistic.py\", line 1306, in fit\n",
      "    solver = _check_solver(self.solver, self.penalty, self.dual)\n",
      "  File \"C:\\Users\\Jaysree\\anaconda3\\lib\\site-packages\\sklearn\\linear_model\\_logistic.py\", line 443, in _check_solver\n",
      "    raise ValueError(\"Solver %s supports only 'l2' or 'none' penalties, \"\n",
      "ValueError: Solver sag supports only 'l2' or 'none' penalties, got l1 penalty.\n",
      "\n",
      "  warnings.warn(\"Estimator fit failed. The score on this train-test\"\n"
     ]
    },
    {
     "name": "stdout",
     "output_type": "stream",
     "text": [
      "[CV 5/5] END .................C=100, penalty=l1, solver=saga; total time=   0.0s\n",
      "[CV 1/5] END ............C=100, penalty=l2, solver=liblinear; total time=   0.0s\n",
      "[CV 2/5] END ............C=100, penalty=l2, solver=liblinear; total time=   0.0s\n",
      "[CV 3/5] END ............C=100, penalty=l2, solver=liblinear; total time=   0.0s\n",
      "[CV 4/5] END ............C=100, penalty=l2, solver=liblinear; total time=   0.0s\n",
      "[CV 5/5] END ............C=100, penalty=l2, solver=liblinear; total time=   0.0s\n",
      "[CV 1/5] END ............C=100, penalty=l2, solver=newton-cg; total time=   0.0s\n",
      "[CV 2/5] END ............C=100, penalty=l2, solver=newton-cg; total time=   0.0s\n",
      "[CV 3/5] END ............C=100, penalty=l2, solver=newton-cg; total time=   0.0s\n",
      "[CV 4/5] END ............C=100, penalty=l2, solver=newton-cg; total time=   0.0s\n",
      "[CV 5/5] END ............C=100, penalty=l2, solver=newton-cg; total time=   0.0s\n",
      "[CV 1/5] END ................C=100, penalty=l2, solver=lbfgs; total time=   0.0s\n",
      "[CV 2/5] END ................C=100, penalty=l2, solver=lbfgs; total time=   0.0s\n",
      "[CV 3/5] END ................C=100, penalty=l2, solver=lbfgs; total time=   0.0s\n",
      "[CV 4/5] END ................C=100, penalty=l2, solver=lbfgs; total time=   0.0s\n",
      "[CV 5/5] END ................C=100, penalty=l2, solver=lbfgs; total time=   0.0s\n",
      "[CV 1/5] END ..................C=100, penalty=l2, solver=sag; total time=   0.0s\n",
      "[CV 2/5] END ..................C=100, penalty=l2, solver=sag; total time=   0.0s\n",
      "[CV 3/5] END ..................C=100, penalty=l2, solver=sag; total time=   0.0s\n",
      "[CV 4/5] END ..................C=100, penalty=l2, solver=sag; total time=   0.0s\n",
      "[CV 5/5] END ..................C=100, penalty=l2, solver=sag; total time=   0.0s\n",
      "[CV 1/5] END .................C=100, penalty=l2, solver=saga; total time=   0.0s\n",
      "[CV 2/5] END .................C=100, penalty=l2, solver=saga; total time=   0.0s\n",
      "[CV 3/5] END .................C=100, penalty=l2, solver=saga; total time=   0.0s\n",
      "[CV 4/5] END .................C=100, penalty=l2, solver=saga; total time=   0.0s\n",
      "[CV 5/5] END .................C=100, penalty=l2, solver=saga; total time=   0.0s\n"
     ]
    },
    {
     "name": "stderr",
     "output_type": "stream",
     "text": [
      "C:\\Users\\Jaysree\\anaconda3\\lib\\site-packages\\sklearn\\model_selection\\_search.py:918: UserWarning: One or more of the test scores are non-finite: [0.6746806         nan        nan        nan 0.6746806  0.6746806\n",
      " 0.6746806  0.6746806  0.6746806  0.6746806  0.6746806         nan\n",
      "        nan        nan 0.60801394 0.6746806  0.6746806  0.6746806\n",
      " 0.6746806  0.6746806  0.6746806         nan        nan        nan\n",
      " 0.6746806  0.72253194 0.70348432 0.70348432 0.70348432 0.70348432\n",
      " 0.81347271        nan        nan        nan 0.81835075 0.79442509\n",
      " 0.79442509 0.79442509 0.79442509 0.79442509 0.81358885        nan\n",
      "        nan        nan 0.81358885 0.81358885 0.81358885 0.81358885\n",
      " 0.81358885 0.81358885 0.81358885        nan        nan        nan\n",
      " 0.81358885 0.81358885 0.81358885 0.81358885 0.81358885 0.81358885]\n",
      "  warnings.warn(\n"
     ]
    }
   ],
   "source": [
    "from sklearn.model_selection import GridSearchCV\n",
    "\n",
    "logistic_regression_param_grid = {\n",
    "    'C': [0.001, 0.01, 0.1, 1, 10, 100],  # Example values for the regularization strength parameter\n",
    "    'penalty': ['l1','l2'],\n",
    "     'solver': ['liblinear', 'newton-cg', 'lbfgs', 'sag', 'saga']\n",
    "}\n",
    "\n",
    "\n",
    "logistic_regression_grid_search=GridSearchCV(logistic_regression, param_grid=logistic_regression_param_grid, cv=5, n_jobs=1, verbose=5)\n",
    "logistic_regression_grid_search_result=logistic_regression_grid_search.fit(x_train,y_train)"
   ]
  },
  {
   "cell_type": "code",
   "execution_count": 403,
   "id": "d966a203",
   "metadata": {},
   "outputs": [
    {
     "data": {
      "text/html": [
       "<div>\n",
       "<style scoped>\n",
       "    .dataframe tbody tr th:only-of-type {\n",
       "        vertical-align: middle;\n",
       "    }\n",
       "\n",
       "    .dataframe tbody tr th {\n",
       "        vertical-align: top;\n",
       "    }\n",
       "\n",
       "    .dataframe thead th {\n",
       "        text-align: right;\n",
       "    }\n",
       "</style>\n",
       "<table border=\"1\" class=\"dataframe\">\n",
       "  <thead>\n",
       "    <tr style=\"text-align: right;\">\n",
       "      <th></th>\n",
       "      <th>C</th>\n",
       "      <th>penalty</th>\n",
       "      <th>solver</th>\n",
       "      <th>accuracy</th>\n",
       "    </tr>\n",
       "  </thead>\n",
       "  <tbody>\n",
       "    <tr>\n",
       "      <th>34</th>\n",
       "      <td>1.0</td>\n",
       "      <td>l1</td>\n",
       "      <td>saga</td>\n",
       "      <td>0.818351</td>\n",
       "    </tr>\n",
       "    <tr>\n",
       "      <th>59</th>\n",
       "      <td>100.0</td>\n",
       "      <td>l2</td>\n",
       "      <td>saga</td>\n",
       "      <td>0.813589</td>\n",
       "    </tr>\n",
       "    <tr>\n",
       "      <th>58</th>\n",
       "      <td>100.0</td>\n",
       "      <td>l2</td>\n",
       "      <td>sag</td>\n",
       "      <td>0.813589</td>\n",
       "    </tr>\n",
       "    <tr>\n",
       "      <th>57</th>\n",
       "      <td>100.0</td>\n",
       "      <td>l2</td>\n",
       "      <td>lbfgs</td>\n",
       "      <td>0.813589</td>\n",
       "    </tr>\n",
       "    <tr>\n",
       "      <th>56</th>\n",
       "      <td>100.0</td>\n",
       "      <td>l2</td>\n",
       "      <td>newton-cg</td>\n",
       "      <td>0.813589</td>\n",
       "    </tr>\n",
       "  </tbody>\n",
       "</table>\n",
       "</div>"
      ],
      "text/plain": [
       "        C penalty     solver  accuracy\n",
       "34    1.0      l1       saga  0.818351\n",
       "59  100.0      l2       saga  0.813589\n",
       "58  100.0      l2        sag  0.813589\n",
       "57  100.0      l2      lbfgs  0.813589\n",
       "56  100.0      l2  newton-cg  0.813589"
      ]
     },
     "execution_count": 403,
     "metadata": {},
     "output_type": "execute_result"
    }
   ],
   "source": [
    "results=logistic_regression_grid_search_result.cv_results_\n",
    "scores_and_params= pd.DataFrame(results['params'])\n",
    "scores_and_params\n",
    "\n",
    "scores_and_params['accuracy']=pd.DataFrame(results['mean_test_score'], columns=['accuracy'])\n",
    "scores_and_params.sort_values(by= 'accuracy', ascending=False).head()"
   ]
  },
  {
   "cell_type": "markdown",
   "id": "bddf277f",
   "metadata": {},
   "source": [
    "Precision: Precision measures the proportion of true positive predictions (correctly predicted positive instances) out of all instances predicted as positive.\n",
    "\n",
    "For class 0: Precision is 0.90, indicating that 90% of the instances predicted as class 0 were actually class 0.\n",
    "For class 1: Precision is 0.81, indicating that 81% of the instances predicted as class 1 were actually class 1."
   ]
  },
  {
   "cell_type": "markdown",
   "id": "ba52e9c5",
   "metadata": {},
   "source": [
    "Recall (Sensitivity): Recall measures the proportion of true positive predictions out of all actual positive instances.\n",
    "\n",
    "For class 0: Recall is 0.92, indicating that 92% of the actual class 0 instances were correctly predicted as class 0.\n",
    "For class 1: Recall is 0.79, indicating that 79% of the actual class 1 instances were correctly predicted as class 1."
   ]
  },
  {
   "cell_type": "markdown",
   "id": "79e87cf9",
   "metadata": {},
   "source": [
    "F1-score: F1-score is the harmonic mean of precision and recall, providing a balance between the two metrics. It's particularly useful when you have an uneven class distribution.\n",
    "\n",
    "For class 0: F1-score is 0.91.\n",
    "For class 1: F1-score is 0.80.\n",
    "Support: The number of instances of each class in the actual data.\n",
    "\n",
    "Accuracy: Overall accuracy of the model, which is the proportion of correctly predicted instances out of all instances.\n",
    "\n",
    "Accuracy is 0.88, indicating that 88% of the instances were correctly classified."
   ]
  },
  {
   "cell_type": "markdown",
   "id": "e9baf4c5",
   "metadata": {},
   "source": [
    "Confusion Matrix:\n",
    "\n",
    "The confusion matrix provides a tabular summary of the actual vs. predicted classes.\n",
    "\n",
    "In the provided confusion matrix:\n",
    "\n",
    "True Negative (TN): 57 instances were correctly predicted as class 0.\n",
    "False Positive (FP): 5 instances were incorrectly predicted as class 1.\n",
    "False Negative (FN): 6 instances were incorrectly predicted as class 0.\n",
    "True Positive (TP): 22 instances were correctly predicted as class 1."
   ]
  },
  {
   "cell_type": "code",
   "execution_count": 404,
   "id": "ba523c80",
   "metadata": {},
   "outputs": [],
   "source": [
    "from sklearn.metrics import roc_curve, auc\n",
    "import matplotlib.pyplot as plt"
   ]
  },
  {
   "cell_type": "code",
   "execution_count": 405,
   "id": "bcc62c2e",
   "metadata": {},
   "outputs": [
    {
     "data": {
      "image/png": "[encoded data removed]",
      "text/plain": [
       "<Figure size 432x288 with 1 Axes>"
      ]
     },
     "metadata": {
      "needs_background": "light"
     },
     "output_type": "display_data"
    }
   ],
   "source": [
    "# Assuming y_true contains the true labels and y_score contains the predicted probabilities of class 1\n",
    "fpr, tpr, thresholds = roc_curve(y_test, logistic_regression_prediction)\n",
    "roc_auc = auc(fpr, tpr)\n",
    "\n",
    "# Plot ROC curve\n",
    "plt.figure()\n",
    "plt.plot(fpr, tpr, color='darkorange', lw=2, label='ROC curve (AUC = %0.2f)' % roc_auc)\n",
    "plt.plot([0, 1], [0, 1], color='navy', lw=2, linestyle='--')\n",
    "plt.xlim([0.0, 1.0])\n",
    "plt.ylim([0.0, 1.05])\n",
    "plt.xlabel('False Positive Rate')\n",
    "plt.ylabel('True Positive Rate')\n",
    "plt.title('Receiver Operating Characteristic (ROC) Curve')\n",
    "plt.legend(loc=\"lower right\")\n",
    "plt.show()"
   ]
  },
  {
   "cell_type": "markdown",
   "id": "503a425e",
   "metadata": {},
   "source": [
    "\n",
    "Interpreting an ROC (Receiver Operating Characteristic) curve involves understanding the trade-off between the True Positive Rate (TPR) and the False Positive Rate (FPR) at different classification thresholds. Here's how you can interpret an ROC curve:\n",
    "\n",
    "The ROC Curve:\n",
    "\n",
    "The ROC curve is a plot of TPR (True Positive Rate or Sensitivity) against FPR (False Positive Rate) for various threshold values.\n",
    "The diagonal line in the plot represents random guessing (an AUC of 0.5), where the model's performance is equivalent to randomly guessing the class labels.\n",
    "The ROC curve should ideally be above the diagonal line, indicating that the model performs better than random guessing.\n",
    "The further the ROC curve is from the diagonal line and towards the top-left corner of the plot, the better the model's performance.\n",
    "Area Under the ROC Curve (AUC-ROC):\n",
    "\n",
    "The AUC-ROC quantifies the overall performance of the model across all possible classification thresholds.\n",
    "AUC-ROC ranges from 0 to 1, where a value of 0.5 represents random guessing, and a value of 1 represents a perfect classifier.\n",
    "Higher AUC-ROC values indicate better discrimination between the positive and negative classes.\n",
    "AUC-ROC values between 0.7 and 0.8 are generally considered acceptable, while values above 0.8 are considered good.\n",
    "Interpretation:\n",
    "\n",
    "If the ROC curve is closer to the top-left corner, it indicates that the model has a higher TPR (sensitivity) while keeping the FPR low.\n",
    "The choice of the threshold depends on the specific use case. A threshold that favors sensitivity (TPR) may result in more false positives, while a threshold that favors specificity (1 - FPR) may result in more false negatives.\n",
    "You can select the threshold based on your requirements, such as minimizing false positives, maximizing true positives, or achieving a balance between sensitivity and specificity."
   ]
  },
  {
   "cell_type": "code",
   "execution_count": 406,
   "id": "c5da606b",
   "metadata": {},
   "outputs": [
    {
     "data": {
      "image/png": "[encoded data removed]",
      "text/plain": [
       "<Figure size 432x288 with 1 Axes>"
      ]
     },
     "metadata": {
      "needs_background": "light"
     },
     "output_type": "display_data"
    }
   ],
   "source": [
    "from sklearn.metrics import precision_recall_curve, auc\n",
    "import matplotlib.pyplot as plt\n",
    "\n",
    "# Assuming y_true contains the true labels and y_score contains the predicted probabilities of class 1\n",
    "precision, recall, thresholds = precision_recall_curve(y_test, logistic_regression_prediction)\n",
    "pr_auc = auc(recall, precision)\n",
    "\n",
    "# Plot PR curve\n",
    "plt.figure()\n",
    "plt.plot(recall, precision, color='darkorange', lw=2, label='PR curve (AUC = %0.2f)' % pr_auc)\n",
    "plt.xlim([0.0, 1.0])\n",
    "plt.ylim([0.0, 1.05])\n",
    "plt.xlabel('Recall')\n",
    "plt.ylabel('Precision')\n",
    "plt.title('Precision-Recall (PR) Curve')\n",
    "plt.legend(loc=\"lower right\")\n",
    "plt.show()"
   ]
  },
  {
   "cell_type": "markdown",
   "id": "d29f5479",
   "metadata": {},
   "source": [
    "# Decision tree classification"
   ]
  },
  {
   "cell_type": "code",
   "execution_count": 407,
   "id": "3282e2ad",
   "metadata": {
    "scrolled": false
   },
   "outputs": [
    {
     "name": "stdout",
     "output_type": "stream",
     "text": [
      "DecisionTreeClassifier(max_depth=5)\n",
      "              precision    recall  f1-score   support\n",
      "\n",
      "           0       0.92      0.89      0.90        62\n",
      "           1       0.77      0.82      0.79        28\n",
      "\n",
      "    accuracy                           0.87        90\n",
      "   macro avg       0.84      0.85      0.85        90\n",
      "weighted avg       0.87      0.87      0.87        90\n",
      "\n",
      "[[55  7]\n",
      " [ 5 23]]\n"
     ]
    }
   ],
   "source": [
    "from sklearn import tree\n",
    "decision_tree_model=tree.DecisionTreeClassifier(max_depth=5,criterion='gini')\n",
    "print(decision_tree_model)\n",
    "\n",
    "decision_tree=decision_tree_model.fit(x_train,y_train)\n",
    "decision_tree_prediction=decision_tree.predict(x_test)\n",
    "\n",
    "from sklearn import metrics\n",
    "print(metrics.classification_report(y_test,decision_tree_prediction))\n",
    "print(metrics.confusion_matrix(y_test,decision_tree_prediction))"
   ]
  },
  {
   "cell_type": "code",
   "execution_count": 408,
   "id": "c9ace7d5",
   "metadata": {},
   "outputs": [
    {
     "name": "stdout",
     "output_type": "stream",
     "text": [
      "Accuracy of the model on Testing Sample Data: 0.87\n",
      "\n",
      "Accuracy values for 10-fold Cross Validation:\n",
      " [0.16666667 0.70740306 0.8692185  0.8692185  0.83097989 0.80555556\n",
      " 0.50638298 0.78012422 0.60416667 0.56298381]\n",
      "\n",
      "Final Average Accuracy of the decision_tree model: 0.67\n"
     ]
    }
   ],
   "source": [
    "# from sklearn.linear_model import LogisticRegression\n",
    "# Printing the Overall Accuracy of the model\n",
    "F1_Score=metrics.f1_score(y_test, decision_tree_prediction, average='weighted')\n",
    "print('Accuracy of the model on Testing Sample Data:', round(F1_Score,2))\n",
    "\n",
    "# Importing cross validation function from sklearn\n",
    "from sklearn.model_selection import cross_val_score\n",
    "\n",
    "# Running 10-Fold Cross validation on a given algorithm\n",
    "# Passing full data X and y because the K-fold will split the data and automatically choose train/test\n",
    "decision_tree_Accuracy_Values=cross_val_score(decision_tree, x , y, cv=10, scoring='f1_weighted')\n",
    "print('\\nAccuracy values for 10-fold Cross Validation:\\n',decision_tree_Accuracy_Values)\n",
    "print('\\nFinal Average Accuracy of the decision_tree model:', round(decision_tree_Accuracy_Values.mean(),2))"
   ]
  },
  {
   "cell_type": "code",
   "execution_count": 409,
   "id": "c1d56a7f",
   "metadata": {},
   "outputs": [
    {
     "name": "stdout",
     "output_type": "stream",
     "text": [
      "Fitting 5 folds for each of 8 candidates, totalling 40 fits\n",
      "[CV 1/5] END .................criterion=gini, max_depth=None; total time=   0.0s\n",
      "[CV 2/5] END .................criterion=gini, max_depth=None; total time=   0.0s\n",
      "[CV 3/5] END .................criterion=gini, max_depth=None; total time=   0.0s\n",
      "[CV 4/5] END .................criterion=gini, max_depth=None; total time=   0.0s\n",
      "[CV 5/5] END .................criterion=gini, max_depth=None; total time=   0.0s\n",
      "[CV 1/5] END ....................criterion=gini, max_depth=5; total time=   0.0s\n",
      "[CV 2/5] END ....................criterion=gini, max_depth=5; total time=   0.0s\n",
      "[CV 3/5] END ....................criterion=gini, max_depth=5; total time=   0.0s\n",
      "[CV 4/5] END ....................criterion=gini, max_depth=5; total time=   0.0s\n",
      "[CV 5/5] END ....................criterion=gini, max_depth=5; total time=   0.0s\n",
      "[CV 1/5] END ...................criterion=gini, max_depth=10; total time=   0.0s\n",
      "[CV 2/5] END ...................criterion=gini, max_depth=10; total time=   0.0s\n",
      "[CV 3/5] END ...................criterion=gini, max_depth=10; total time=   0.0s\n",
      "[CV 4/5] END ...................criterion=gini, max_depth=10; total time=   0.0s\n",
      "[CV 5/5] END ...................criterion=gini, max_depth=10; total time=   0.0s\n",
      "[CV 1/5] END ...................criterion=gini, max_depth=15; total time=   0.0s\n",
      "[CV 2/5] END ...................criterion=gini, max_depth=15; total time=   0.0s\n",
      "[CV 3/5] END ...................criterion=gini, max_depth=15; total time=   0.0s\n",
      "[CV 4/5] END ...................criterion=gini, max_depth=15; total time=   0.0s\n",
      "[CV 5/5] END ...................criterion=gini, max_depth=15; total time=   0.0s\n",
      "[CV 1/5] END ..............criterion=entropy, max_depth=None; total time=   0.0s\n",
      "[CV 2/5] END ..............criterion=entropy, max_depth=None; total time=   0.0s\n",
      "[CV 3/5] END ..............criterion=entropy, max_depth=None; total time=   0.0s\n",
      "[CV 4/5] END ..............criterion=entropy, max_depth=None; total time=   0.0s\n",
      "[CV 5/5] END ..............criterion=entropy, max_depth=None; total time=   0.0s\n",
      "[CV 1/5] END .................criterion=entropy, max_depth=5; total time=   0.0s\n",
      "[CV 2/5] END .................criterion=entropy, max_depth=5; total time=   0.0s\n",
      "[CV 3/5] END .................criterion=entropy, max_depth=5; total time=   0.0s\n",
      "[CV 4/5] END .................criterion=entropy, max_depth=5; total time=   0.0s\n",
      "[CV 5/5] END .................criterion=entropy, max_depth=5; total time=   0.0s\n",
      "[CV 1/5] END ................criterion=entropy, max_depth=10; total time=   0.0s\n",
      "[CV 2/5] END ................criterion=entropy, max_depth=10; total time=   0.0s\n",
      "[CV 3/5] END ................criterion=entropy, max_depth=10; total time=   0.0s\n",
      "[CV 4/5] END ................criterion=entropy, max_depth=10; total time=   0.0s\n",
      "[CV 5/5] END ................criterion=entropy, max_depth=10; total time=   0.0s\n",
      "[CV 1/5] END ................criterion=entropy, max_depth=15; total time=   0.0s\n",
      "[CV 2/5] END ................criterion=entropy, max_depth=15; total time=   0.0s\n",
      "[CV 3/5] END ................criterion=entropy, max_depth=15; total time=   0.0s\n",
      "[CV 4/5] END ................criterion=entropy, max_depth=15; total time=   0.0s\n",
      "[CV 5/5] END ................criterion=entropy, max_depth=15; total time=   0.0s\n"
     ]
    }
   ],
   "source": [
    "decision_tree_param_grid = {\n",
    "    'max_depth': [None, 5, 10, 15],\n",
    "    'criterion': ['gini', 'entropy']\n",
    "}\n",
    "\n",
    "decision_tree_grid_search=GridSearchCV(decision_tree,param_grid=decision_tree_param_grid, cv=5,n_jobs=1,verbose=5)\n",
    "decision_tree_grid_search_result=decision_tree_grid_search.fit(x_train,y_train)"
   ]
  },
  {
   "cell_type": "code",
   "execution_count": 410,
   "id": "97eb1287",
   "metadata": {
    "scrolled": true
   },
   "outputs": [
    {
     "data": {
      "text/html": [
       "<div>\n",
       "<style scoped>\n",
       "    .dataframe tbody tr th:only-of-type {\n",
       "        vertical-align: middle;\n",
       "    }\n",
       "\n",
       "    .dataframe tbody tr th {\n",
       "        vertical-align: top;\n",
       "    }\n",
       "\n",
       "    .dataframe thead th {\n",
       "        text-align: right;\n",
       "    }\n",
       "</style>\n",
       "<table border=\"1\" class=\"dataframe\">\n",
       "  <thead>\n",
       "    <tr style=\"text-align: right;\">\n",
       "      <th></th>\n",
       "      <th>criterion</th>\n",
       "      <th>max_depth</th>\n",
       "      <th>accuracy</th>\n",
       "    </tr>\n",
       "  </thead>\n",
       "  <tbody>\n",
       "    <tr>\n",
       "      <th>1</th>\n",
       "      <td>gini</td>\n",
       "      <td>5.0</td>\n",
       "      <td>0.785017</td>\n",
       "    </tr>\n",
       "    <tr>\n",
       "      <th>2</th>\n",
       "      <td>gini</td>\n",
       "      <td>10.0</td>\n",
       "      <td>0.770616</td>\n",
       "    </tr>\n",
       "    <tr>\n",
       "      <th>5</th>\n",
       "      <td>entropy</td>\n",
       "      <td>5.0</td>\n",
       "      <td>0.766086</td>\n",
       "    </tr>\n",
       "    <tr>\n",
       "      <th>3</th>\n",
       "      <td>gini</td>\n",
       "      <td>15.0</td>\n",
       "      <td>0.765738</td>\n",
       "    </tr>\n",
       "    <tr>\n",
       "      <th>7</th>\n",
       "      <td>entropy</td>\n",
       "      <td>15.0</td>\n",
       "      <td>0.761324</td>\n",
       "    </tr>\n",
       "  </tbody>\n",
       "</table>\n",
       "</div>"
      ],
      "text/plain": [
       "  criterion  max_depth  accuracy\n",
       "1      gini        5.0  0.785017\n",
       "2      gini       10.0  0.770616\n",
       "5   entropy        5.0  0.766086\n",
       "3      gini       15.0  0.765738\n",
       "7   entropy       15.0  0.761324"
      ]
     },
     "execution_count": 410,
     "metadata": {},
     "output_type": "execute_result"
    }
   ],
   "source": [
    "results=decision_tree_grid_search_result.cv_results_\n",
    "scores_and_params= pd.DataFrame(results['params'])\n",
    "scores_and_params\n",
    "\n",
    "scores_and_params['accuracy']=pd.DataFrame(results['mean_test_score'], columns=['accuracy'])\n",
    "scores_and_params.sort_values(by= 'accuracy', ascending=False).head()"
   ]
  },
  {
   "cell_type": "code",
   "execution_count": 411,
   "id": "4c8b0570",
   "metadata": {},
   "outputs": [
    {
     "data": {
      "text/plain": [
       "<AxesSubplot:>"
      ]
     },
     "execution_count": 411,
     "metadata": {},
     "output_type": "execute_result"
    },
    {
     "data": {
      "image/png": "[encoded data removed]",
      "text/plain": [
       "<Figure size 432x288 with 1 Axes>"
      ]
     },
     "metadata": {
      "needs_background": "light"
     },
     "output_type": "display_data"
    }
   ],
   "source": [
    "# plotting the feature importance\n",
    "%matplotlib inline\n",
    "feature_importance=pd.Series(decision_tree.feature_importances_, index=final_predictors)\n",
    "feature_importance.nlargest(10).plot(kind='barh')"
   ]
  },
  {
   "cell_type": "markdown",
   "id": "2c62ede7",
   "metadata": {},
   "source": [
    "# Random forest"
   ]
  },
  {
   "cell_type": "code",
   "execution_count": 412,
   "id": "9b0d3936",
   "metadata": {},
   "outputs": [
    {
     "name": "stdout",
     "output_type": "stream",
     "text": [
      "RandomForestClassifier(random_state=101)\n"
     ]
    }
   ],
   "source": [
    "from sklearn.ensemble import RandomForestClassifier\n",
    "random_forest_model=RandomForestClassifier(n_estimators=100, criterion='gini', max_depth=None,random_state=101)\n",
    "print(random_forest_model)"
   ]
  },
  {
   "cell_type": "code",
   "execution_count": 413,
   "id": "c7f9be0d",
   "metadata": {},
   "outputs": [],
   "source": [
    "random_forest=random_forest_model.fit(x_train,y_train)\n",
    "random_forest_prediction=random_forest.predict(x_test)"
   ]
  },
  {
   "cell_type": "code",
   "execution_count": 414,
   "id": "bd23f142",
   "metadata": {
    "scrolled": true
   },
   "outputs": [
    {
     "name": "stdout",
     "output_type": "stream",
     "text": [
      "              precision    recall  f1-score   support\n",
      "\n",
      "           0       0.86      0.90      0.88        62\n",
      "           1       0.76      0.68      0.72        28\n",
      "\n",
      "    accuracy                           0.83        90\n",
      "   macro avg       0.81      0.79      0.80        90\n",
      "weighted avg       0.83      0.83      0.83        90\n",
      "\n",
      "[[56  6]\n",
      " [ 9 19]]\n"
     ]
    }
   ],
   "source": [
    "from sklearn import metrics\n",
    "\n",
    "print(metrics.classification_report(y_test,random_forest_prediction))\n",
    "print(metrics.confusion_matrix(y_test,random_forest_prediction))"
   ]
  },
  {
   "cell_type": "code",
   "execution_count": 415,
   "id": "b6b5409f",
   "metadata": {},
   "outputs": [
    {
     "name": "stdout",
     "output_type": "stream",
     "text": [
      "Accuracy of the model on Testing Sample Data: 0.83\n",
      "\n",
      "Accuracy values for 10-fold Cross Validation:\n",
      " [0.16666667 0.80555556 0.87037037 0.93460925 0.89858793 0.83097989\n",
      " 0.56024845 0.70909091 0.56       0.56298381]\n",
      "\n",
      "Final Average Accuracy of the random_forest model: 0.69\n"
     ]
    }
   ],
   "source": [
    "# from sklearn.linear_model import LogisticRegression\n",
    "# Printing the Overall Accuracy of the model\n",
    "F1_Score=metrics.f1_score(y_test, random_forest_prediction, average='weighted')\n",
    "print('Accuracy of the model on Testing Sample Data:', round(F1_Score,2))\n",
    "\n",
    "# Importing cross validation function from sklearn\n",
    "from sklearn.model_selection import cross_val_score\n",
    "\n",
    "# Running 10-Fold Cross validation on a given algorithm\n",
    "# Passing full data X and y because the K-fold will split the data and automatically choose train/test\n",
    "random_forest_Accuracy_Values=cross_val_score(random_forest, x , y, cv=10, scoring='f1_weighted')\n",
    "print('\\nAccuracy values for 10-fold Cross Validation:\\n',random_forest_Accuracy_Values)\n",
    "print('\\nFinal Average Accuracy of the random_forest model:', round(random_forest_Accuracy_Values.mean(),2))"
   ]
  },
  {
   "cell_type": "code",
   "execution_count": 416,
   "id": "60095a63",
   "metadata": {},
   "outputs": [],
   "source": [
    "random_forest_param_grid = {'n_estimators': [100,200,300,500,1000],\n",
    "    'max_depth': [None, 5, 10, 15],\n",
    "    'criterion': ['gini', 'entropy']\n",
    "}"
   ]
  },
  {
   "cell_type": "code",
   "execution_count": 417,
   "id": "29a50591",
   "metadata": {},
   "outputs": [
    {
     "name": "stdout",
     "output_type": "stream",
     "text": [
      "Fitting 5 folds for each of 40 candidates, totalling 200 fits\n",
      "[CV 1/5] END criterion=gini, max_depth=None, n_estimators=100; total time=   0.0s\n",
      "[CV 2/5] END criterion=gini, max_depth=None, n_estimators=100; total time=   0.0s\n",
      "[CV 3/5] END criterion=gini, max_depth=None, n_estimators=100; total time=   0.0s\n",
      "[CV 4/5] END criterion=gini, max_depth=None, n_estimators=100; total time=   0.0s\n",
      "[CV 5/5] END criterion=gini, max_depth=None, n_estimators=100; total time=   0.0s\n",
      "[CV 1/5] END criterion=gini, max_depth=None, n_estimators=200; total time=   0.1s\n",
      "[CV 2/5] END criterion=gini, max_depth=None, n_estimators=200; total time=   0.1s\n",
      "[CV 3/5] END criterion=gini, max_depth=None, n_estimators=200; total time=   0.1s\n",
      "[CV 4/5] END criterion=gini, max_depth=None, n_estimators=200; total time=   0.1s\n",
      "[CV 5/5] END criterion=gini, max_depth=None, n_estimators=200; total time=   0.2s\n",
      "[CV 1/5] END criterion=gini, max_depth=None, n_estimators=300; total time=   0.2s\n",
      "[CV 2/5] END criterion=gini, max_depth=None, n_estimators=300; total time=   0.2s\n",
      "[CV 3/5] END criterion=gini, max_depth=None, n_estimators=300; total time=   0.2s\n",
      "[CV 4/5] END criterion=gini, max_depth=None, n_estimators=300; total time=   0.3s\n",
      "[CV 5/5] END criterion=gini, max_depth=None, n_estimators=300; total time=   0.2s\n",
      "[CV 1/5] END criterion=gini, max_depth=None, n_estimators=500; total time=   0.5s\n",
      "[CV 2/5] END criterion=gini, max_depth=None, n_estimators=500; total time=   0.4s\n",
      "[CV 3/5] END criterion=gini, max_depth=None, n_estimators=500; total time=   0.4s\n",
      "[CV 4/5] END criterion=gini, max_depth=None, n_estimators=500; total time=   0.4s\n",
      "[CV 5/5] END criterion=gini, max_depth=None, n_estimators=500; total time=   0.4s\n",
      "[CV 1/5] END criterion=gini, max_depth=None, n_estimators=1000; total time=   1.0s\n",
      "[CV 2/5] END criterion=gini, max_depth=None, n_estimators=1000; total time=   0.9s\n",
      "[CV 3/5] END criterion=gini, max_depth=None, n_estimators=1000; total time=   0.9s\n",
      "[CV 4/5] END criterion=gini, max_depth=None, n_estimators=1000; total time=   1.0s\n",
      "[CV 5/5] END criterion=gini, max_depth=None, n_estimators=1000; total time=   1.0s\n",
      "[CV 1/5] END ..criterion=gini, max_depth=5, n_estimators=100; total time=   0.0s\n",
      "[CV 2/5] END ..criterion=gini, max_depth=5, n_estimators=100; total time=   0.0s\n",
      "[CV 3/5] END ..criterion=gini, max_depth=5, n_estimators=100; total time=   0.0s\n",
      "[CV 4/5] END ..criterion=gini, max_depth=5, n_estimators=100; total time=   0.0s\n",
      "[CV 5/5] END ..criterion=gini, max_depth=5, n_estimators=100; total time=   0.0s\n",
      "[CV 1/5] END ..criterion=gini, max_depth=5, n_estimators=200; total time=   0.1s\n",
      "[CV 2/5] END ..criterion=gini, max_depth=5, n_estimators=200; total time=   0.1s\n",
      "[CV 3/5] END ..criterion=gini, max_depth=5, n_estimators=200; total time=   0.1s\n",
      "[CV 4/5] END ..criterion=gini, max_depth=5, n_estimators=200; total time=   0.1s\n",
      "[CV 5/5] END ..criterion=gini, max_depth=5, n_estimators=200; total time=   0.1s\n",
      "[CV 1/5] END ..criterion=gini, max_depth=5, n_estimators=300; total time=   0.2s\n",
      "[CV 2/5] END ..criterion=gini, max_depth=5, n_estimators=300; total time=   0.2s\n",
      "[CV 3/5] END ..criterion=gini, max_depth=5, n_estimators=300; total time=   0.2s\n",
      "[CV 4/5] END ..criterion=gini, max_depth=5, n_estimators=300; total time=   0.2s\n",
      "[CV 5/5] END ..criterion=gini, max_depth=5, n_estimators=300; total time=   0.2s\n",
      "[CV 1/5] END ..criterion=gini, max_depth=5, n_estimators=500; total time=   0.4s\n",
      "[CV 2/5] END ..criterion=gini, max_depth=5, n_estimators=500; total time=   0.4s\n",
      "[CV 3/5] END ..criterion=gini, max_depth=5, n_estimators=500; total time=   0.4s\n",
      "[CV 4/5] END ..criterion=gini, max_depth=5, n_estimators=500; total time=   0.5s\n",
      "[CV 5/5] END ..criterion=gini, max_depth=5, n_estimators=500; total time=   0.4s\n",
      "[CV 1/5] END .criterion=gini, max_depth=5, n_estimators=1000; total time=   0.9s\n",
      "[CV 2/5] END .criterion=gini, max_depth=5, n_estimators=1000; total time=   0.9s\n",
      "[CV 3/5] END .criterion=gini, max_depth=5, n_estimators=1000; total time=   0.9s\n",
      "[CV 4/5] END .criterion=gini, max_depth=5, n_estimators=1000; total time=   1.0s\n",
      "[CV 5/5] END .criterion=gini, max_depth=5, n_estimators=1000; total time=   1.0s\n",
      "[CV 1/5] END .criterion=gini, max_depth=10, n_estimators=100; total time=   0.0s\n",
      "[CV 2/5] END .criterion=gini, max_depth=10, n_estimators=100; total time=   0.0s\n",
      "[CV 3/5] END .criterion=gini, max_depth=10, n_estimators=100; total time=   0.0s\n",
      "[CV 4/5] END .criterion=gini, max_depth=10, n_estimators=100; total time=   0.0s\n",
      "[CV 5/5] END .criterion=gini, max_depth=10, n_estimators=100; total time=   0.0s\n",
      "[CV 1/5] END .criterion=gini, max_depth=10, n_estimators=200; total time=   0.1s\n",
      "[CV 2/5] END .criterion=gini, max_depth=10, n_estimators=200; total time=   0.1s\n",
      "[CV 3/5] END .criterion=gini, max_depth=10, n_estimators=200; total time=   0.1s\n",
      "[CV 4/5] END .criterion=gini, max_depth=10, n_estimators=200; total time=   0.1s\n",
      "[CV 5/5] END .criterion=gini, max_depth=10, n_estimators=200; total time=   0.1s\n",
      "[CV 1/5] END .criterion=gini, max_depth=10, n_estimators=300; total time=   0.2s\n",
      "[CV 2/5] END .criterion=gini, max_depth=10, n_estimators=300; total time=   0.2s\n",
      "[CV 3/5] END .criterion=gini, max_depth=10, n_estimators=300; total time=   0.2s\n",
      "[CV 4/5] END .criterion=gini, max_depth=10, n_estimators=300; total time=   0.2s\n",
      "[CV 5/5] END .criterion=gini, max_depth=10, n_estimators=300; total time=   0.2s\n",
      "[CV 1/5] END .criterion=gini, max_depth=10, n_estimators=500; total time=   0.4s\n",
      "[CV 2/5] END .criterion=gini, max_depth=10, n_estimators=500; total time=   0.4s\n",
      "[CV 3/5] END .criterion=gini, max_depth=10, n_estimators=500; total time=   0.5s\n",
      "[CV 4/5] END .criterion=gini, max_depth=10, n_estimators=500; total time=   0.5s\n",
      "[CV 5/5] END .criterion=gini, max_depth=10, n_estimators=500; total time=   0.5s\n",
      "[CV 1/5] END criterion=gini, max_depth=10, n_estimators=1000; total time=   1.2s\n",
      "[CV 2/5] END criterion=gini, max_depth=10, n_estimators=1000; total time=   2.5s\n",
      "[CV 3/5] END criterion=gini, max_depth=10, n_estimators=1000; total time=   1.5s\n",
      "[CV 4/5] END criterion=gini, max_depth=10, n_estimators=1000; total time=   1.0s\n",
      "[CV 5/5] END criterion=gini, max_depth=10, n_estimators=1000; total time=   1.1s\n",
      "[CV 1/5] END .criterion=gini, max_depth=15, n_estimators=100; total time=   0.0s\n",
      "[CV 2/5] END .criterion=gini, max_depth=15, n_estimators=100; total time=   0.0s\n",
      "[CV 3/5] END .criterion=gini, max_depth=15, n_estimators=100; total time=   0.0s\n",
      "[CV 4/5] END .criterion=gini, max_depth=15, n_estimators=100; total time=   0.0s\n",
      "[CV 5/5] END .criterion=gini, max_depth=15, n_estimators=100; total time=   0.0s\n",
      "[CV 1/5] END .criterion=gini, max_depth=15, n_estimators=200; total time=   0.1s\n",
      "[CV 2/5] END .criterion=gini, max_depth=15, n_estimators=200; total time=   0.1s\n",
      "[CV 3/5] END .criterion=gini, max_depth=15, n_estimators=200; total time=   0.1s\n",
      "[CV 4/5] END .criterion=gini, max_depth=15, n_estimators=200; total time=   0.1s\n",
      "[CV 5/5] END .criterion=gini, max_depth=15, n_estimators=200; total time=   0.1s\n",
      "[CV 1/5] END .criterion=gini, max_depth=15, n_estimators=300; total time=   0.3s\n",
      "[CV 2/5] END .criterion=gini, max_depth=15, n_estimators=300; total time=   0.4s\n",
      "[CV 3/5] END .criterion=gini, max_depth=15, n_estimators=300; total time=   0.3s\n",
      "[CV 4/5] END .criterion=gini, max_depth=15, n_estimators=300; total time=   0.3s\n",
      "[CV 5/5] END .criterion=gini, max_depth=15, n_estimators=300; total time=   0.3s\n",
      "[CV 1/5] END .criterion=gini, max_depth=15, n_estimators=500; total time=   0.6s\n",
      "[CV 2/5] END .criterion=gini, max_depth=15, n_estimators=500; total time=   0.6s\n",
      "[CV 3/5] END .criterion=gini, max_depth=15, n_estimators=500; total time=   0.6s\n",
      "[CV 4/5] END .criterion=gini, max_depth=15, n_estimators=500; total time=   0.5s\n",
      "[CV 5/5] END .criterion=gini, max_depth=15, n_estimators=500; total time=   1.1s\n",
      "[CV 1/5] END criterion=gini, max_depth=15, n_estimators=1000; total time=   1.1s\n",
      "[CV 2/5] END criterion=gini, max_depth=15, n_estimators=1000; total time=   1.0s\n",
      "[CV 3/5] END criterion=gini, max_depth=15, n_estimators=1000; total time=   2.5s\n",
      "[CV 4/5] END criterion=gini, max_depth=15, n_estimators=1000; total time=   3.6s\n",
      "[CV 5/5] END criterion=gini, max_depth=15, n_estimators=1000; total time=   1.8s\n",
      "[CV 1/5] END criterion=entropy, max_depth=None, n_estimators=100; total time=   0.2s\n"
     ]
    },
    {
     "name": "stdout",
     "output_type": "stream",
     "text": [
      "[CV 2/5] END criterion=entropy, max_depth=None, n_estimators=100; total time=   0.1s\n",
      "[CV 3/5] END criterion=entropy, max_depth=None, n_estimators=100; total time=   0.1s\n",
      "[CV 4/5] END criterion=entropy, max_depth=None, n_estimators=100; total time=   0.1s\n",
      "[CV 5/5] END criterion=entropy, max_depth=None, n_estimators=100; total time=   0.2s\n",
      "[CV 1/5] END criterion=entropy, max_depth=None, n_estimators=200; total time=   0.2s\n",
      "[CV 2/5] END criterion=entropy, max_depth=None, n_estimators=200; total time=   0.2s\n",
      "[CV 3/5] END criterion=entropy, max_depth=None, n_estimators=200; total time=   0.3s\n",
      "[CV 4/5] END criterion=entropy, max_depth=None, n_estimators=200; total time=   0.2s\n",
      "[CV 5/5] END criterion=entropy, max_depth=None, n_estimators=200; total time=   0.3s\n",
      "[CV 1/5] END criterion=entropy, max_depth=None, n_estimators=300; total time=   0.5s\n",
      "[CV 2/5] END criterion=entropy, max_depth=None, n_estimators=300; total time=   0.6s\n",
      "[CV 3/5] END criterion=entropy, max_depth=None, n_estimators=300; total time=   0.5s\n",
      "[CV 4/5] END criterion=entropy, max_depth=None, n_estimators=300; total time=   0.9s\n",
      "[CV 5/5] END criterion=entropy, max_depth=None, n_estimators=300; total time=   0.5s\n",
      "[CV 1/5] END criterion=entropy, max_depth=None, n_estimators=500; total time=   0.6s\n",
      "[CV 2/5] END criterion=entropy, max_depth=None, n_estimators=500; total time=   0.5s\n",
      "[CV 3/5] END criterion=entropy, max_depth=None, n_estimators=500; total time=   0.5s\n",
      "[CV 4/5] END criterion=entropy, max_depth=None, n_estimators=500; total time=   0.5s\n",
      "[CV 5/5] END criterion=entropy, max_depth=None, n_estimators=500; total time=   0.6s\n",
      "[CV 1/5] END criterion=entropy, max_depth=None, n_estimators=1000; total time=   1.1s\n",
      "[CV 2/5] END criterion=entropy, max_depth=None, n_estimators=1000; total time=   1.7s\n",
      "[CV 3/5] END criterion=entropy, max_depth=None, n_estimators=1000; total time=   1.6s\n",
      "[CV 4/5] END criterion=entropy, max_depth=None, n_estimators=1000; total time=   2.8s\n",
      "[CV 5/5] END criterion=entropy, max_depth=None, n_estimators=1000; total time=   1.8s\n",
      "[CV 1/5] END criterion=entropy, max_depth=5, n_estimators=100; total time=   0.1s\n",
      "[CV 2/5] END criterion=entropy, max_depth=5, n_estimators=100; total time=   0.1s\n",
      "[CV 3/5] END criterion=entropy, max_depth=5, n_estimators=100; total time=   0.0s\n",
      "[CV 4/5] END criterion=entropy, max_depth=5, n_estimators=100; total time=   0.1s\n",
      "[CV 5/5] END criterion=entropy, max_depth=5, n_estimators=100; total time=   0.0s\n",
      "[CV 1/5] END criterion=entropy, max_depth=5, n_estimators=200; total time=   0.2s\n",
      "[CV 2/5] END criterion=entropy, max_depth=5, n_estimators=200; total time=   0.2s\n",
      "[CV 3/5] END criterion=entropy, max_depth=5, n_estimators=200; total time=   0.1s\n",
      "[CV 4/5] END criterion=entropy, max_depth=5, n_estimators=200; total time=   0.1s\n",
      "[CV 5/5] END criterion=entropy, max_depth=5, n_estimators=200; total time=   0.1s\n",
      "[CV 1/5] END criterion=entropy, max_depth=5, n_estimators=300; total time=   0.2s\n",
      "[CV 2/5] END criterion=entropy, max_depth=5, n_estimators=300; total time=   0.2s\n",
      "[CV 3/5] END criterion=entropy, max_depth=5, n_estimators=300; total time=   0.2s\n",
      "[CV 4/5] END criterion=entropy, max_depth=5, n_estimators=300; total time=   0.2s\n",
      "[CV 5/5] END criterion=entropy, max_depth=5, n_estimators=300; total time=   0.3s\n",
      "[CV 1/5] END criterion=entropy, max_depth=5, n_estimators=500; total time=   0.5s\n",
      "[CV 2/5] END criterion=entropy, max_depth=5, n_estimators=500; total time=   0.6s\n",
      "[CV 3/5] END criterion=entropy, max_depth=5, n_estimators=500; total time=   0.5s\n",
      "[CV 4/5] END criterion=entropy, max_depth=5, n_estimators=500; total time=   0.5s\n",
      "[CV 5/5] END criterion=entropy, max_depth=5, n_estimators=500; total time=   0.5s\n",
      "[CV 1/5] END criterion=entropy, max_depth=5, n_estimators=1000; total time=   1.1s\n",
      "[CV 2/5] END criterion=entropy, max_depth=5, n_estimators=1000; total time=   1.2s\n",
      "[CV 3/5] END criterion=entropy, max_depth=5, n_estimators=1000; total time=   1.2s\n",
      "[CV 4/5] END criterion=entropy, max_depth=5, n_estimators=1000; total time=   1.3s\n",
      "[CV 5/5] END criterion=entropy, max_depth=5, n_estimators=1000; total time=   1.2s\n",
      "[CV 1/5] END criterion=entropy, max_depth=10, n_estimators=100; total time=   0.0s\n",
      "[CV 2/5] END criterion=entropy, max_depth=10, n_estimators=100; total time=   0.0s\n",
      "[CV 3/5] END criterion=entropy, max_depth=10, n_estimators=100; total time=   0.0s\n",
      "[CV 4/5] END criterion=entropy, max_depth=10, n_estimators=100; total time=   0.0s\n",
      "[CV 5/5] END criterion=entropy, max_depth=10, n_estimators=100; total time=   0.0s\n",
      "[CV 1/5] END criterion=entropy, max_depth=10, n_estimators=200; total time=   0.2s\n",
      "[CV 2/5] END criterion=entropy, max_depth=10, n_estimators=200; total time=   0.2s\n",
      "[CV 3/5] END criterion=entropy, max_depth=10, n_estimators=200; total time=   0.2s\n",
      "[CV 4/5] END criterion=entropy, max_depth=10, n_estimators=200; total time=   0.2s\n",
      "[CV 5/5] END criterion=entropy, max_depth=10, n_estimators=200; total time=   0.2s\n",
      "[CV 1/5] END criterion=entropy, max_depth=10, n_estimators=300; total time=   0.3s\n",
      "[CV 2/5] END criterion=entropy, max_depth=10, n_estimators=300; total time=   0.4s\n",
      "[CV 3/5] END criterion=entropy, max_depth=10, n_estimators=300; total time=   0.7s\n",
      "[CV 4/5] END criterion=entropy, max_depth=10, n_estimators=300; total time=   0.6s\n",
      "[CV 5/5] END criterion=entropy, max_depth=10, n_estimators=300; total time=   0.4s\n",
      "[CV 1/5] END criterion=entropy, max_depth=10, n_estimators=500; total time=   0.6s\n",
      "[CV 2/5] END criterion=entropy, max_depth=10, n_estimators=500; total time=   0.6s\n",
      "[CV 3/5] END criterion=entropy, max_depth=10, n_estimators=500; total time=   0.5s\n",
      "[CV 4/5] END criterion=entropy, max_depth=10, n_estimators=500; total time=   0.7s\n",
      "[CV 5/5] END criterion=entropy, max_depth=10, n_estimators=500; total time=   0.6s\n",
      "[CV 1/5] END criterion=entropy, max_depth=10, n_estimators=1000; total time=   1.3s\n",
      "[CV 2/5] END criterion=entropy, max_depth=10, n_estimators=1000; total time=   1.8s\n",
      "[CV 3/5] END criterion=entropy, max_depth=10, n_estimators=1000; total time=   1.6s\n",
      "[CV 4/5] END criterion=entropy, max_depth=10, n_estimators=1000; total time=   1.2s\n",
      "[CV 5/5] END criterion=entropy, max_depth=10, n_estimators=1000; total time=   1.1s\n",
      "[CV 1/5] END criterion=entropy, max_depth=15, n_estimators=100; total time=   0.0s\n",
      "[CV 2/5] END criterion=entropy, max_depth=15, n_estimators=100; total time=   0.1s\n",
      "[CV 3/5] END criterion=entropy, max_depth=15, n_estimators=100; total time=   0.1s\n",
      "[CV 4/5] END criterion=entropy, max_depth=15, n_estimators=100; total time=   0.0s\n",
      "[CV 5/5] END criterion=entropy, max_depth=15, n_estimators=100; total time=   0.0s\n",
      "[CV 1/5] END criterion=entropy, max_depth=15, n_estimators=200; total time=   0.2s\n",
      "[CV 2/5] END criterion=entropy, max_depth=15, n_estimators=200; total time=   0.2s\n",
      "[CV 3/5] END criterion=entropy, max_depth=15, n_estimators=200; total time=   0.2s\n",
      "[CV 4/5] END criterion=entropy, max_depth=15, n_estimators=200; total time=   0.1s\n",
      "[CV 5/5] END criterion=entropy, max_depth=15, n_estimators=200; total time=   0.1s\n",
      "[CV 1/5] END criterion=entropy, max_depth=15, n_estimators=300; total time=   0.3s\n",
      "[CV 2/5] END criterion=entropy, max_depth=15, n_estimators=300; total time=   0.3s\n",
      "[CV 3/5] END criterion=entropy, max_depth=15, n_estimators=300; total time=   0.2s\n",
      "[CV 4/5] END criterion=entropy, max_depth=15, n_estimators=300; total time=   0.3s\n",
      "[CV 5/5] END criterion=entropy, max_depth=15, n_estimators=300; total time=   0.4s\n",
      "[CV 1/5] END criterion=entropy, max_depth=15, n_estimators=500; total time=   0.6s\n",
      "[CV 2/5] END criterion=entropy, max_depth=15, n_estimators=500; total time=   0.5s\n",
      "[CV 3/5] END criterion=entropy, max_depth=15, n_estimators=500; total time=   0.5s\n",
      "[CV 4/5] END criterion=entropy, max_depth=15, n_estimators=500; total time=   0.8s\n",
      "[CV 5/5] END criterion=entropy, max_depth=15, n_estimators=500; total time=   0.6s\n",
      "[CV 1/5] END criterion=entropy, max_depth=15, n_estimators=1000; total time=   1.0s\n",
      "[CV 2/5] END criterion=entropy, max_depth=15, n_estimators=1000; total time=   1.0s\n",
      "[CV 3/5] END criterion=entropy, max_depth=15, n_estimators=1000; total time=   1.3s\n",
      "[CV 4/5] END criterion=entropy, max_depth=15, n_estimators=1000; total time=   1.1s\n",
      "[CV 5/5] END criterion=entropy, max_depth=15, n_estimators=1000; total time=   1.0s\n"
     ]
    }
   ],
   "source": [
    "from sklearn.model_selection import GridSearchCV\n",
    "random_forest_grid_search=GridSearchCV(random_forest,random_forest_param_grid,cv=5,n_jobs=1,verbose=5)\n",
    "random_forest_grid_search_result=random_forest_grid_search.fit(x_train,y_train)"
   ]
  },
  {
   "cell_type": "code",
   "execution_count": 418,
   "id": "31e72c33",
   "metadata": {},
   "outputs": [
    {
     "data": {
      "text/html": [
       "<div>\n",
       "<style scoped>\n",
       "    .dataframe tbody tr th:only-of-type {\n",
       "        vertical-align: middle;\n",
       "    }\n",
       "\n",
       "    .dataframe tbody tr th {\n",
       "        vertical-align: top;\n",
       "    }\n",
       "\n",
       "    .dataframe thead th {\n",
       "        text-align: right;\n",
       "    }\n",
       "</style>\n",
       "<table border=\"1\" class=\"dataframe\">\n",
       "  <thead>\n",
       "    <tr style=\"text-align: right;\">\n",
       "      <th></th>\n",
       "      <th>criterion</th>\n",
       "      <th>max_depth</th>\n",
       "      <th>n_estimators</th>\n",
       "      <th>accuracy</th>\n",
       "    </tr>\n",
       "  </thead>\n",
       "  <tbody>\n",
       "    <tr>\n",
       "      <th>33</th>\n",
       "      <td>entropy</td>\n",
       "      <td>10.0</td>\n",
       "      <td>500</td>\n",
       "      <td>0.842276</td>\n",
       "    </tr>\n",
       "    <tr>\n",
       "      <th>19</th>\n",
       "      <td>gini</td>\n",
       "      <td>15.0</td>\n",
       "      <td>1000</td>\n",
       "      <td>0.837631</td>\n",
       "    </tr>\n",
       "    <tr>\n",
       "      <th>14</th>\n",
       "      <td>gini</td>\n",
       "      <td>10.0</td>\n",
       "      <td>1000</td>\n",
       "      <td>0.837631</td>\n",
       "    </tr>\n",
       "    <tr>\n",
       "      <th>4</th>\n",
       "      <td>gini</td>\n",
       "      <td>NaN</td>\n",
       "      <td>1000</td>\n",
       "      <td>0.837631</td>\n",
       "    </tr>\n",
       "    <tr>\n",
       "      <th>10</th>\n",
       "      <td>gini</td>\n",
       "      <td>10.0</td>\n",
       "      <td>100</td>\n",
       "      <td>0.837515</td>\n",
       "    </tr>\n",
       "  </tbody>\n",
       "</table>\n",
       "</div>"
      ],
      "text/plain": [
       "   criterion  max_depth  n_estimators  accuracy\n",
       "33   entropy       10.0           500  0.842276\n",
       "19      gini       15.0          1000  0.837631\n",
       "14      gini       10.0          1000  0.837631\n",
       "4       gini        NaN          1000  0.837631\n",
       "10      gini       10.0           100  0.837515"
      ]
     },
     "execution_count": 418,
     "metadata": {},
     "output_type": "execute_result"
    }
   ],
   "source": [
    "results=random_forest_grid_search_result.cv_results_\n",
    "scores_and_params= pd.DataFrame(results['params'])\n",
    "scores_and_params\n",
    "\n",
    "scores_and_params['accuracy']=pd.DataFrame(results['mean_test_score'], columns=['accuracy'])\n",
    "scores_and_params.sort_values(by= 'accuracy', ascending=False).head()"
   ]
  },
  {
   "cell_type": "code",
   "execution_count": 419,
   "id": "dbe4bf45",
   "metadata": {},
   "outputs": [
    {
     "data": {
      "text/plain": [
       "<AxesSubplot:>"
      ]
     },
     "execution_count": 419,
     "metadata": {},
     "output_type": "execute_result"
    },
    {
     "data": {
      "image/png": "[encoded data removed]",
      "text/plain": [
       "<Figure size 432x288 with 1 Axes>"
      ]
     },
     "metadata": {
      "needs_background": "light"
     },
     "output_type": "display_data"
    }
   ],
   "source": [
    "# plotting the feature importance\n",
    "%matplotlib inline\n",
    "feature_importance=pd.Series(random_forest.feature_importances_, index=final_predictors)\n",
    "feature_importance.nlargest(10).plot(kind='barh')"
   ]
  },
  {
   "cell_type": "markdown",
   "id": "5675e003",
   "metadata": {},
   "source": [
    "# ADABOOST"
   ]
  },
  {
   "cell_type": "code",
   "execution_count": 420,
   "id": "423793f5",
   "metadata": {},
   "outputs": [
    {
     "name": "stdout",
     "output_type": "stream",
     "text": [
      "AdaBoostClassifier(base_estimator=DecisionTreeClassifier(max_depth=2),\n",
      "                   learning_rate=0.01, n_estimators=100)\n"
     ]
    }
   ],
   "source": [
    "from sklearn.ensemble import AdaBoostClassifier\n",
    "from sklearn import tree\n",
    "\n",
    "DTC=tree.DecisionTreeClassifier(max_depth=2)\n",
    "adaboost_model=AdaBoostClassifier(n_estimators=100, base_estimator=DTC, learning_rate=0.01)\n",
    "print(adaboost_model)\n",
    "\n",
    "# {'base_estimator': DecisionTreeClassifier(max_depth=2), 'learning_rate': 0.01, 'n_estimators': 50}\n",
    "# {'base_estimator': DecisionTreeClassifier(max_depth=1), 'learning_rate': 1, 'n_estimators': 10}"
   ]
  },
  {
   "cell_type": "code",
   "execution_count": 421,
   "id": "9cdec408",
   "metadata": {},
   "outputs": [],
   "source": [
    "adaboost=adaboost_model.fit(x_train,y_train)\n",
    "adaboost_prediction= adaboost.predict(x_test)"
   ]
  },
  {
   "cell_type": "code",
   "execution_count": 422,
   "id": "c2eedf40",
   "metadata": {
    "scrolled": false
   },
   "outputs": [
    {
     "name": "stdout",
     "output_type": "stream",
     "text": [
      "              precision    recall  f1-score   support\n",
      "\n",
      "           0       0.86      0.92      0.89        62\n",
      "           1       0.79      0.68      0.73        28\n",
      "\n",
      "    accuracy                           0.84        90\n",
      "   macro avg       0.83      0.80      0.81        90\n",
      "weighted avg       0.84      0.84      0.84        90\n",
      "\n",
      "[[57  5]\n",
      " [ 9 19]]\n"
     ]
    }
   ],
   "source": [
    "from sklearn import metrics\n",
    "\n",
    "print(metrics.classification_report(y_test,adaboost_prediction))\n",
    "print(metrics.confusion_matrix(y_test,adaboost_prediction))"
   ]
  },
  {
   "cell_type": "code",
   "execution_count": 423,
   "id": "f9c5aea3",
   "metadata": {},
   "outputs": [
    {
     "name": "stdout",
     "output_type": "stream",
     "text": [
      "Accuracy of the model on Testing Sample Data: 0.84\n",
      "\n",
      "Accuracy values for 10-fold Cross Validation:\n",
      " [0.16666667 0.93460925 0.96703297 0.93460925 0.96619598 0.64157119\n",
      " 0.62597403 0.57647059 0.57647059 0.56298381]\n",
      "\n",
      "Final Average Accuracy of the adboost model: 0.7\n"
     ]
    }
   ],
   "source": [
    "# from sklearn.linear_model import LogisticRegression\n",
    "# Printing the Overall Accuracy of the model\n",
    "F1_Score=metrics.f1_score(y_test, adaboost_prediction, average='weighted')\n",
    "print('Accuracy of the model on Testing Sample Data:', round(F1_Score,2))\n",
    "\n",
    "# Importing cross validation function from sklearn\n",
    "from sklearn.model_selection import cross_val_score\n",
    "\n",
    "# Running 10-Fold Cross validation on a given algorithm\n",
    "# Passing full data X and y because the K-fold will split the data and automatically choose train/test\n",
    "adaboost_Accuracy_Values=cross_val_score(adaboost, x , y, cv=10, scoring='f1_weighted')\n",
    "print('\\nAccuracy values for 10-fold Cross Validation:\\n',adaboost_Accuracy_Values)\n",
    "print('\\nFinal Average Accuracy of the adboost model:', round(adaboost_Accuracy_Values.mean(),2))"
   ]
  },
  {
   "cell_type": "code",
   "execution_count": 424,
   "id": "803c1049",
   "metadata": {},
   "outputs": [],
   "source": [
    "adaboost_param_grid = {\n",
    "    'base_estimator': [tree.DecisionTreeClassifier(max_depth=1), tree.DecisionTreeClassifier(max_depth=2)],\n",
    "    'n_estimators': [10,50, 100, 200],\n",
    "    'learning_rate': [0.01, 0.1, 1.0]\n",
    "}"
   ]
  },
  {
   "cell_type": "code",
   "execution_count": 425,
   "id": "06231589",
   "metadata": {},
   "outputs": [
    {
     "name": "stdout",
     "output_type": "stream",
     "text": [
      "Fitting 5 folds for each of 24 candidates, totalling 120 fits\n",
      "[CV 1/5] END base_estimator=DecisionTreeClassifier(max_depth=1), learning_rate=0.01, n_estimators=10; total time=   0.0s\n",
      "[CV 2/5] END base_estimator=DecisionTreeClassifier(max_depth=1), learning_rate=0.01, n_estimators=10; total time=   0.0s\n",
      "[CV 3/5] END base_estimator=DecisionTreeClassifier(max_depth=1), learning_rate=0.01, n_estimators=10; total time=   0.0s\n",
      "[CV 4/5] END base_estimator=DecisionTreeClassifier(max_depth=1), learning_rate=0.01, n_estimators=10; total time=   0.0s\n",
      "[CV 5/5] END base_estimator=DecisionTreeClassifier(max_depth=1), learning_rate=0.01, n_estimators=10; total time=   0.0s\n",
      "[CV 1/5] END base_estimator=DecisionTreeClassifier(max_depth=1), learning_rate=0.01, n_estimators=50; total time=   0.0s\n",
      "[CV 2/5] END base_estimator=DecisionTreeClassifier(max_depth=1), learning_rate=0.01, n_estimators=50; total time=   0.0s\n",
      "[CV 3/5] END base_estimator=DecisionTreeClassifier(max_depth=1), learning_rate=0.01, n_estimators=50; total time=   0.0s\n",
      "[CV 4/5] END base_estimator=DecisionTreeClassifier(max_depth=1), learning_rate=0.01, n_estimators=50; total time=   0.0s\n",
      "[CV 5/5] END base_estimator=DecisionTreeClassifier(max_depth=1), learning_rate=0.01, n_estimators=50; total time=   0.0s\n",
      "[CV 1/5] END base_estimator=DecisionTreeClassifier(max_depth=1), learning_rate=0.01, n_estimators=100; total time=   0.0s\n",
      "[CV 2/5] END base_estimator=DecisionTreeClassifier(max_depth=1), learning_rate=0.01, n_estimators=100; total time=   0.0s\n",
      "[CV 3/5] END base_estimator=DecisionTreeClassifier(max_depth=1), learning_rate=0.01, n_estimators=100; total time=   0.0s\n",
      "[CV 4/5] END base_estimator=DecisionTreeClassifier(max_depth=1), learning_rate=0.01, n_estimators=100; total time=   0.0s\n",
      "[CV 5/5] END base_estimator=DecisionTreeClassifier(max_depth=1), learning_rate=0.01, n_estimators=100; total time=   0.0s\n",
      "[CV 1/5] END base_estimator=DecisionTreeClassifier(max_depth=1), learning_rate=0.01, n_estimators=200; total time=   0.2s\n",
      "[CV 2/5] END base_estimator=DecisionTreeClassifier(max_depth=1), learning_rate=0.01, n_estimators=200; total time=   0.1s\n",
      "[CV 3/5] END base_estimator=DecisionTreeClassifier(max_depth=1), learning_rate=0.01, n_estimators=200; total time=   0.1s\n",
      "[CV 4/5] END base_estimator=DecisionTreeClassifier(max_depth=1), learning_rate=0.01, n_estimators=200; total time=   0.1s\n",
      "[CV 5/5] END base_estimator=DecisionTreeClassifier(max_depth=1), learning_rate=0.01, n_estimators=200; total time=   0.1s\n",
      "[CV 1/5] END base_estimator=DecisionTreeClassifier(max_depth=1), learning_rate=0.1, n_estimators=10; total time=   0.0s\n",
      "[CV 2/5] END base_estimator=DecisionTreeClassifier(max_depth=1), learning_rate=0.1, n_estimators=10; total time=   0.0s\n",
      "[CV 3/5] END base_estimator=DecisionTreeClassifier(max_depth=1), learning_rate=0.1, n_estimators=10; total time=   0.0s\n",
      "[CV 4/5] END base_estimator=DecisionTreeClassifier(max_depth=1), learning_rate=0.1, n_estimators=10; total time=   0.0s\n",
      "[CV 5/5] END base_estimator=DecisionTreeClassifier(max_depth=1), learning_rate=0.1, n_estimators=10; total time=   0.0s\n",
      "[CV 1/5] END base_estimator=DecisionTreeClassifier(max_depth=1), learning_rate=0.1, n_estimators=50; total time=   0.0s\n",
      "[CV 2/5] END base_estimator=DecisionTreeClassifier(max_depth=1), learning_rate=0.1, n_estimators=50; total time=   0.0s\n",
      "[CV 3/5] END base_estimator=DecisionTreeClassifier(max_depth=1), learning_rate=0.1, n_estimators=50; total time=   0.0s\n",
      "[CV 4/5] END base_estimator=DecisionTreeClassifier(max_depth=1), learning_rate=0.1, n_estimators=50; total time=   0.0s\n",
      "[CV 5/5] END base_estimator=DecisionTreeClassifier(max_depth=1), learning_rate=0.1, n_estimators=50; total time=   0.0s\n",
      "[CV 1/5] END base_estimator=DecisionTreeClassifier(max_depth=1), learning_rate=0.1, n_estimators=100; total time=   0.0s\n",
      "[CV 2/5] END base_estimator=DecisionTreeClassifier(max_depth=1), learning_rate=0.1, n_estimators=100; total time=   0.0s\n",
      "[CV 3/5] END base_estimator=DecisionTreeClassifier(max_depth=1), learning_rate=0.1, n_estimators=100; total time=   0.0s\n",
      "[CV 4/5] END base_estimator=DecisionTreeClassifier(max_depth=1), learning_rate=0.1, n_estimators=100; total time=   0.0s\n",
      "[CV 5/5] END base_estimator=DecisionTreeClassifier(max_depth=1), learning_rate=0.1, n_estimators=100; total time=   0.0s\n",
      "[CV 1/5] END base_estimator=DecisionTreeClassifier(max_depth=1), learning_rate=0.1, n_estimators=200; total time=   0.1s\n",
      "[CV 2/5] END base_estimator=DecisionTreeClassifier(max_depth=1), learning_rate=0.1, n_estimators=200; total time=   0.1s\n",
      "[CV 3/5] END base_estimator=DecisionTreeClassifier(max_depth=1), learning_rate=0.1, n_estimators=200; total time=   0.1s\n",
      "[CV 4/5] END base_estimator=DecisionTreeClassifier(max_depth=1), learning_rate=0.1, n_estimators=200; total time=   0.1s\n",
      "[CV 5/5] END base_estimator=DecisionTreeClassifier(max_depth=1), learning_rate=0.1, n_estimators=200; total time=   0.1s\n",
      "[CV 1/5] END base_estimator=DecisionTreeClassifier(max_depth=1), learning_rate=1.0, n_estimators=10; total time=   0.0s\n",
      "[CV 2/5] END base_estimator=DecisionTreeClassifier(max_depth=1), learning_rate=1.0, n_estimators=10; total time=   0.0s\n",
      "[CV 3/5] END base_estimator=DecisionTreeClassifier(max_depth=1), learning_rate=1.0, n_estimators=10; total time=   0.0s\n",
      "[CV 4/5] END base_estimator=DecisionTreeClassifier(max_depth=1), learning_rate=1.0, n_estimators=10; total time=   0.0s\n",
      "[CV 5/5] END base_estimator=DecisionTreeClassifier(max_depth=1), learning_rate=1.0, n_estimators=10; total time=   0.0s\n",
      "[CV 1/5] END base_estimator=DecisionTreeClassifier(max_depth=1), learning_rate=1.0, n_estimators=50; total time=   0.0s\n",
      "[CV 2/5] END base_estimator=DecisionTreeClassifier(max_depth=1), learning_rate=1.0, n_estimators=50; total time=   0.0s\n",
      "[CV 3/5] END base_estimator=DecisionTreeClassifier(max_depth=1), learning_rate=1.0, n_estimators=50; total time=   0.0s\n",
      "[CV 4/5] END base_estimator=DecisionTreeClassifier(max_depth=1), learning_rate=1.0, n_estimators=50; total time=   0.0s\n",
      "[CV 5/5] END base_estimator=DecisionTreeClassifier(max_depth=1), learning_rate=1.0, n_estimators=50; total time=   0.0s\n",
      "[CV 1/5] END base_estimator=DecisionTreeClassifier(max_depth=1), learning_rate=1.0, n_estimators=100; total time=   0.0s\n",
      "[CV 2/5] END base_estimator=DecisionTreeClassifier(max_depth=1), learning_rate=1.0, n_estimators=100; total time=   0.0s\n",
      "[CV 3/5] END base_estimator=DecisionTreeClassifier(max_depth=1), learning_rate=1.0, n_estimators=100; total time=   0.0s\n",
      "[CV 4/5] END base_estimator=DecisionTreeClassifier(max_depth=1), learning_rate=1.0, n_estimators=100; total time=   0.0s\n",
      "[CV 5/5] END base_estimator=DecisionTreeClassifier(max_depth=1), learning_rate=1.0, n_estimators=100; total time=   0.0s\n",
      "[CV 1/5] END base_estimator=DecisionTreeClassifier(max_depth=1), learning_rate=1.0, n_estimators=200; total time=   0.1s\n",
      "[CV 2/5] END base_estimator=DecisionTreeClassifier(max_depth=1), learning_rate=1.0, n_estimators=200; total time=   0.1s\n",
      "[CV 3/5] END base_estimator=DecisionTreeClassifier(max_depth=1), learning_rate=1.0, n_estimators=200; total time=   0.1s\n",
      "[CV 4/5] END base_estimator=DecisionTreeClassifier(max_depth=1), learning_rate=1.0, n_estimators=200; total time=   0.1s\n",
      "[CV 5/5] END base_estimator=DecisionTreeClassifier(max_depth=1), learning_rate=1.0, n_estimators=200; total time=   0.1s\n",
      "[CV 1/5] END base_estimator=DecisionTreeClassifier(max_depth=2), learning_rate=0.01, n_estimators=10; total time=   0.0s\n",
      "[CV 2/5] END base_estimator=DecisionTreeClassifier(max_depth=2), learning_rate=0.01, n_estimators=10; total time=   0.0s\n",
      "[CV 3/5] END base_estimator=DecisionTreeClassifier(max_depth=2), learning_rate=0.01, n_estimators=10; total time=   0.0s\n",
      "[CV 4/5] END base_estimator=DecisionTreeClassifier(max_depth=2), learning_rate=0.01, n_estimators=10; total time=   0.0s\n",
      "[CV 5/5] END base_estimator=DecisionTreeClassifier(max_depth=2), learning_rate=0.01, n_estimators=10; total time=   0.0s\n",
      "[CV 1/5] END base_estimator=DecisionTreeClassifier(max_depth=2), learning_rate=0.01, n_estimators=50; total time=   0.0s\n",
      "[CV 2/5] END base_estimator=DecisionTreeClassifier(max_depth=2), learning_rate=0.01, n_estimators=50; total time=   0.0s\n",
      "[CV 3/5] END base_estimator=DecisionTreeClassifier(max_depth=2), learning_rate=0.01, n_estimators=50; total time=   0.0s\n",
      "[CV 4/5] END base_estimator=DecisionTreeClassifier(max_depth=2), learning_rate=0.01, n_estimators=50; total time=   0.0s\n",
      "[CV 5/5] END base_estimator=DecisionTreeClassifier(max_depth=2), learning_rate=0.01, n_estimators=50; total time=   0.0s\n"
     ]
    },
    {
     "name": "stdout",
     "output_type": "stream",
     "text": [
      "[CV 1/5] END base_estimator=DecisionTreeClassifier(max_depth=2), learning_rate=0.01, n_estimators=100; total time=   0.0s\n",
      "[CV 2/5] END base_estimator=DecisionTreeClassifier(max_depth=2), learning_rate=0.01, n_estimators=100; total time=   0.0s\n",
      "[CV 3/5] END base_estimator=DecisionTreeClassifier(max_depth=2), learning_rate=0.01, n_estimators=100; total time=   0.0s\n",
      "[CV 4/5] END base_estimator=DecisionTreeClassifier(max_depth=2), learning_rate=0.01, n_estimators=100; total time=   0.0s\n",
      "[CV 5/5] END base_estimator=DecisionTreeClassifier(max_depth=2), learning_rate=0.01, n_estimators=100; total time=   0.0s\n",
      "[CV 1/5] END base_estimator=DecisionTreeClassifier(max_depth=2), learning_rate=0.01, n_estimators=200; total time=   0.1s\n",
      "[CV 2/5] END base_estimator=DecisionTreeClassifier(max_depth=2), learning_rate=0.01, n_estimators=200; total time=   0.1s\n",
      "[CV 3/5] END base_estimator=DecisionTreeClassifier(max_depth=2), learning_rate=0.01, n_estimators=200; total time=   0.1s\n",
      "[CV 4/5] END base_estimator=DecisionTreeClassifier(max_depth=2), learning_rate=0.01, n_estimators=200; total time=   0.1s\n",
      "[CV 5/5] END base_estimator=DecisionTreeClassifier(max_depth=2), learning_rate=0.01, n_estimators=200; total time=   0.1s\n",
      "[CV 1/5] END base_estimator=DecisionTreeClassifier(max_depth=2), learning_rate=0.1, n_estimators=10; total time=   0.0s\n",
      "[CV 2/5] END base_estimator=DecisionTreeClassifier(max_depth=2), learning_rate=0.1, n_estimators=10; total time=   0.0s\n",
      "[CV 3/5] END base_estimator=DecisionTreeClassifier(max_depth=2), learning_rate=0.1, n_estimators=10; total time=   0.0s\n",
      "[CV 4/5] END base_estimator=DecisionTreeClassifier(max_depth=2), learning_rate=0.1, n_estimators=10; total time=   0.0s\n",
      "[CV 5/5] END base_estimator=DecisionTreeClassifier(max_depth=2), learning_rate=0.1, n_estimators=10; total time=   0.0s\n",
      "[CV 1/5] END base_estimator=DecisionTreeClassifier(max_depth=2), learning_rate=0.1, n_estimators=50; total time=   0.0s\n",
      "[CV 2/5] END base_estimator=DecisionTreeClassifier(max_depth=2), learning_rate=0.1, n_estimators=50; total time=   0.0s\n",
      "[CV 3/5] END base_estimator=DecisionTreeClassifier(max_depth=2), learning_rate=0.1, n_estimators=50; total time=   0.0s\n",
      "[CV 4/5] END base_estimator=DecisionTreeClassifier(max_depth=2), learning_rate=0.1, n_estimators=50; total time=   0.1s\n",
      "[CV 5/5] END base_estimator=DecisionTreeClassifier(max_depth=2), learning_rate=0.1, n_estimators=50; total time=   0.0s\n",
      "[CV 1/5] END base_estimator=DecisionTreeClassifier(max_depth=2), learning_rate=0.1, n_estimators=100; total time=   0.1s\n",
      "[CV 2/5] END base_estimator=DecisionTreeClassifier(max_depth=2), learning_rate=0.1, n_estimators=100; total time=   0.0s\n",
      "[CV 3/5] END base_estimator=DecisionTreeClassifier(max_depth=2), learning_rate=0.1, n_estimators=100; total time=   0.1s\n",
      "[CV 4/5] END base_estimator=DecisionTreeClassifier(max_depth=2), learning_rate=0.1, n_estimators=100; total time=   0.1s\n",
      "[CV 5/5] END base_estimator=DecisionTreeClassifier(max_depth=2), learning_rate=0.1, n_estimators=100; total time=   0.0s\n",
      "[CV 1/5] END base_estimator=DecisionTreeClassifier(max_depth=2), learning_rate=0.1, n_estimators=200; total time=   0.2s\n",
      "[CV 2/5] END base_estimator=DecisionTreeClassifier(max_depth=2), learning_rate=0.1, n_estimators=200; total time=   0.1s\n",
      "[CV 3/5] END base_estimator=DecisionTreeClassifier(max_depth=2), learning_rate=0.1, n_estimators=200; total time=   0.1s\n",
      "[CV 4/5] END base_estimator=DecisionTreeClassifier(max_depth=2), learning_rate=0.1, n_estimators=200; total time=   0.1s\n",
      "[CV 5/5] END base_estimator=DecisionTreeClassifier(max_depth=2), learning_rate=0.1, n_estimators=200; total time=   0.1s\n",
      "[CV 1/5] END base_estimator=DecisionTreeClassifier(max_depth=2), learning_rate=1.0, n_estimators=10; total time=   0.0s\n",
      "[CV 2/5] END base_estimator=DecisionTreeClassifier(max_depth=2), learning_rate=1.0, n_estimators=10; total time=   0.0s\n",
      "[CV 3/5] END base_estimator=DecisionTreeClassifier(max_depth=2), learning_rate=1.0, n_estimators=10; total time=   0.0s\n",
      "[CV 4/5] END base_estimator=DecisionTreeClassifier(max_depth=2), learning_rate=1.0, n_estimators=10; total time=   0.0s\n",
      "[CV 5/5] END base_estimator=DecisionTreeClassifier(max_depth=2), learning_rate=1.0, n_estimators=10; total time=   0.0s\n",
      "[CV 1/5] END base_estimator=DecisionTreeClassifier(max_depth=2), learning_rate=1.0, n_estimators=50; total time=   0.0s\n",
      "[CV 2/5] END base_estimator=DecisionTreeClassifier(max_depth=2), learning_rate=1.0, n_estimators=50; total time=   0.0s\n",
      "[CV 3/5] END base_estimator=DecisionTreeClassifier(max_depth=2), learning_rate=1.0, n_estimators=50; total time=   0.0s\n",
      "[CV 4/5] END base_estimator=DecisionTreeClassifier(max_depth=2), learning_rate=1.0, n_estimators=50; total time=   0.0s\n",
      "[CV 5/5] END base_estimator=DecisionTreeClassifier(max_depth=2), learning_rate=1.0, n_estimators=50; total time=   0.0s\n",
      "[CV 1/5] END base_estimator=DecisionTreeClassifier(max_depth=2), learning_rate=1.0, n_estimators=100; total time=   0.0s\n",
      "[CV 2/5] END base_estimator=DecisionTreeClassifier(max_depth=2), learning_rate=1.0, n_estimators=100; total time=   0.0s\n",
      "[CV 3/5] END base_estimator=DecisionTreeClassifier(max_depth=2), learning_rate=1.0, n_estimators=100; total time=   0.0s\n",
      "[CV 4/5] END base_estimator=DecisionTreeClassifier(max_depth=2), learning_rate=1.0, n_estimators=100; total time=   0.0s\n",
      "[CV 5/5] END base_estimator=DecisionTreeClassifier(max_depth=2), learning_rate=1.0, n_estimators=100; total time=   0.0s\n",
      "[CV 1/5] END base_estimator=DecisionTreeClassifier(max_depth=2), learning_rate=1.0, n_estimators=200; total time=   0.1s\n",
      "[CV 2/5] END base_estimator=DecisionTreeClassifier(max_depth=2), learning_rate=1.0, n_estimators=200; total time=   0.1s\n",
      "[CV 3/5] END base_estimator=DecisionTreeClassifier(max_depth=2), learning_rate=1.0, n_estimators=200; total time=   0.1s\n",
      "[CV 4/5] END base_estimator=DecisionTreeClassifier(max_depth=2), learning_rate=1.0, n_estimators=200; total time=   0.1s\n",
      "[CV 5/5] END base_estimator=DecisionTreeClassifier(max_depth=2), learning_rate=1.0, n_estimators=200; total time=   0.1s\n"
     ]
    }
   ],
   "source": [
    "from sklearn.model_selection import GridSearchCV\n",
    "\n",
    "adaboost_grid_search=GridSearchCV(adaboost, adaboost_param_grid,cv=5, n_jobs=1, verbose=5)\n",
    "adaboost_grid_search_result=adaboost_grid_search.fit(x_train,y_train)"
   ]
  },
  {
   "cell_type": "code",
   "execution_count": 426,
   "id": "879bb19b",
   "metadata": {},
   "outputs": [
    {
     "data": {
      "text/html": [
       "<div>\n",
       "<style scoped>\n",
       "    .dataframe tbody tr th:only-of-type {\n",
       "        vertical-align: middle;\n",
       "    }\n",
       "\n",
       "    .dataframe tbody tr th {\n",
       "        vertical-align: top;\n",
       "    }\n",
       "\n",
       "    .dataframe thead th {\n",
       "        text-align: right;\n",
       "    }\n",
       "</style>\n",
       "<table border=\"1\" class=\"dataframe\">\n",
       "  <thead>\n",
       "    <tr style=\"text-align: right;\">\n",
       "      <th></th>\n",
       "      <th>base_estimator</th>\n",
       "      <th>learning_rate</th>\n",
       "      <th>n_estimators</th>\n",
       "      <th>accuracy</th>\n",
       "    </tr>\n",
       "  </thead>\n",
       "  <tbody>\n",
       "    <tr>\n",
       "      <th>14</th>\n",
       "      <td>DecisionTreeClassifier(max_depth=2)</td>\n",
       "      <td>0.01</td>\n",
       "      <td>100</td>\n",
       "      <td>0.837282</td>\n",
       "    </tr>\n",
       "    <tr>\n",
       "      <th>13</th>\n",
       "      <td>DecisionTreeClassifier(max_depth=2)</td>\n",
       "      <td>0.01</td>\n",
       "      <td>50</td>\n",
       "      <td>0.837282</td>\n",
       "    </tr>\n",
       "    <tr>\n",
       "      <th>12</th>\n",
       "      <td>DecisionTreeClassifier(max_depth=2)</td>\n",
       "      <td>0.01</td>\n",
       "      <td>10</td>\n",
       "      <td>0.832636</td>\n",
       "    </tr>\n",
       "    <tr>\n",
       "      <th>3</th>\n",
       "      <td>DecisionTreeClassifier(max_depth=1)</td>\n",
       "      <td>0.01</td>\n",
       "      <td>200</td>\n",
       "      <td>0.832636</td>\n",
       "    </tr>\n",
       "    <tr>\n",
       "      <th>2</th>\n",
       "      <td>DecisionTreeClassifier(max_depth=1)</td>\n",
       "      <td>0.01</td>\n",
       "      <td>100</td>\n",
       "      <td>0.827758</td>\n",
       "    </tr>\n",
       "  </tbody>\n",
       "</table>\n",
       "</div>"
      ],
      "text/plain": [
       "                         base_estimator  learning_rate  n_estimators  accuracy\n",
       "14  DecisionTreeClassifier(max_depth=2)           0.01           100  0.837282\n",
       "13  DecisionTreeClassifier(max_depth=2)           0.01            50  0.837282\n",
       "12  DecisionTreeClassifier(max_depth=2)           0.01            10  0.832636\n",
       "3   DecisionTreeClassifier(max_depth=1)           0.01           200  0.832636\n",
       "2   DecisionTreeClassifier(max_depth=1)           0.01           100  0.827758"
      ]
     },
     "execution_count": 426,
     "metadata": {},
     "output_type": "execute_result"
    }
   ],
   "source": [
    "results=adaboost_grid_search_result.cv_results_\n",
    "scores_and_params= pd.DataFrame(results['params'])\n",
    "scores_and_params\n",
    "\n",
    "scores_and_params['accuracy']=pd.DataFrame(results['mean_test_score'], columns=['accuracy'])\n",
    "scores_and_params.sort_values(by= 'accuracy', ascending=False).head()"
   ]
  },
  {
   "cell_type": "code",
   "execution_count": 427,
   "id": "40d83fae",
   "metadata": {},
   "outputs": [
    {
     "data": {
      "text/plain": [
       "<AxesSubplot:>"
      ]
     },
     "execution_count": 427,
     "metadata": {},
     "output_type": "execute_result"
    },
    {
     "data": {
      "image/png": "[encoded data removed]",
      "text/plain": [
       "<Figure size 432x288 with 1 Axes>"
      ]
     },
     "metadata": {
      "needs_background": "light"
     },
     "output_type": "display_data"
    }
   ],
   "source": [
    "# plotting the feature importance\n",
    "%matplotlib inline\n",
    "feature_importance=pd.Series(adaboost.feature_importances_, index=final_predictors)\n",
    "feature_importance.nlargest(10).plot(kind='barh')"
   ]
  },
  {
   "cell_type": "markdown",
   "id": "83bf2f0c",
   "metadata": {},
   "source": [
    "# XGBOOST"
   ]
  },
  {
   "cell_type": "code",
   "execution_count": 428,
   "id": "9b885002",
   "metadata": {},
   "outputs": [
    {
     "name": "stdout",
     "output_type": "stream",
     "text": [
      "XGBClassifier(base_score=None, booster='gbtree', callbacks=None,\n",
      "              colsample_bylevel=None, colsample_bynode=None,\n",
      "              colsample_bytree=None, early_stopping_rounds=None,\n",
      "              enable_categorical=False, eval_metric=None, feature_types=None,\n",
      "              gamma=None, gpu_id=None, grow_policy=None, importance_type=None,\n",
      "              interaction_constraints=None, learning_rate=0.3, max_bin=None,\n",
      "              max_cat_threshold=None, max_cat_to_onehot=None,\n",
      "              max_delta_step=None, max_depth=6, max_leaves=None,\n",
      "              min_child_weight=None, missing=nan, monotone_constraints=None,\n",
      "              n_estimators=10, n_jobs=None, num_parallel_tree=None,\n",
      "              predictor=None, random_state=None, ...)\n"
     ]
    }
   ],
   "source": [
    "from xgboost import XGBClassifier\n",
    "\n",
    "xgboost_model=XGBClassifier(max_depth=6, learning_rate=0.3,n_estimators=10, objective='binary:logistic', booster='gbtree')\n",
    "print(xgboost_model)"
   ]
  },
  {
   "cell_type": "code",
   "execution_count": 429,
   "id": "24bec07f",
   "metadata": {},
   "outputs": [],
   "source": [
    "xgboost=xgboost_model.fit(x_train,y_train)\n",
    "xgboost_prediction=xgboost.predict(x_test)"
   ]
  },
  {
   "cell_type": "code",
   "execution_count": 430,
   "id": "546b9b50",
   "metadata": {
    "scrolled": true
   },
   "outputs": [
    {
     "name": "stdout",
     "output_type": "stream",
     "text": [
      "              precision    recall  f1-score   support\n",
      "\n",
      "           0       0.90      0.87      0.89        62\n",
      "           1       0.73      0.79      0.76        28\n",
      "\n",
      "    accuracy                           0.84        90\n",
      "   macro avg       0.82      0.83      0.82        90\n",
      "weighted avg       0.85      0.84      0.85        90\n",
      "\n",
      "[[54  8]\n",
      " [ 6 22]]\n"
     ]
    }
   ],
   "source": [
    "from sklearn import metrics\n",
    "print(metrics.classification_report(y_test,xgboost_prediction))\n",
    "print(metrics.confusion_matrix(y_test, xgboost_prediction))"
   ]
  },
  {
   "cell_type": "code",
   "execution_count": 431,
   "id": "f6a963ce",
   "metadata": {},
   "outputs": [
    {
     "name": "stdout",
     "output_type": "stream",
     "text": [
      "Accuracy of the model on Testing Sample Data: 0.85\n",
      "\n",
      "Accuracy values for 10-fold Cross Validation:\n",
      " [0.16666667 0.7724246  0.8692185  0.90246769 0.83744614 0.8692185\n",
      " 0.525      0.57647059 0.62597403 0.56298381]\n",
      "\n",
      "Final Average Accuracy of the xgboost model: 0.67\n"
     ]
    }
   ],
   "source": [
    "# from sklearn.linear_model import LogisticRegression\n",
    "# Printing the Overall Accuracy of the model\n",
    "F1_Score=metrics.f1_score(y_test, xgboost_prediction, average='weighted')\n",
    "print('Accuracy of the model on Testing Sample Data:', round(F1_Score,2))\n",
    "\n",
    "# Importing cross validation function from sklearn\n",
    "from sklearn.model_selection import cross_val_score\n",
    "\n",
    "# Running 10-Fold Cross validation on a given algorithm\n",
    "# Passing full data X and y because the K-fold will split the data and automatically choose train/test\n",
    "xgboost_Accuracy_Values=cross_val_score(xgboost, x , y, cv=10, scoring='f1_weighted')\n",
    "print('\\nAccuracy values for 10-fold Cross Validation:\\n',xgboost_Accuracy_Values)\n",
    "print('\\nFinal Average Accuracy of the xgboost model:', round(xgboost_Accuracy_Values.mean(),2))"
   ]
  },
  {
   "cell_type": "code",
   "execution_count": 432,
   "id": "b7b2d607",
   "metadata": {},
   "outputs": [],
   "source": [
    "xgboost_param_grid = {\n",
    "    'max_depth': [3, 6, 9],\n",
    "    'learning_rate': [0.01, 0.1, 0.3],\n",
    "    'n_estimators': [10,50, 100, 200]\n",
    "}"
   ]
  },
  {
   "cell_type": "code",
   "execution_count": 433,
   "id": "db4c3052",
   "metadata": {},
   "outputs": [
    {
     "name": "stdout",
     "output_type": "stream",
     "text": [
      "Fitting 5 folds for each of 36 candidates, totalling 180 fits\n",
      "[CV 1/5] END learning_rate=0.01, max_depth=3, n_estimators=10; total time=   0.0s\n",
      "[CV 2/5] END learning_rate=0.01, max_depth=3, n_estimators=10; total time=   0.0s\n",
      "[CV 3/5] END learning_rate=0.01, max_depth=3, n_estimators=10; total time=   0.0s\n",
      "[CV 4/5] END learning_rate=0.01, max_depth=3, n_estimators=10; total time=   0.0s\n",
      "[CV 5/5] END learning_rate=0.01, max_depth=3, n_estimators=10; total time=   0.0s\n",
      "[CV 1/5] END learning_rate=0.01, max_depth=3, n_estimators=50; total time=   0.0s\n",
      "[CV 2/5] END learning_rate=0.01, max_depth=3, n_estimators=50; total time=   0.0s\n",
      "[CV 3/5] END learning_rate=0.01, max_depth=3, n_estimators=50; total time=   0.0s\n",
      "[CV 4/5] END learning_rate=0.01, max_depth=3, n_estimators=50; total time=   0.0s\n",
      "[CV 5/5] END learning_rate=0.01, max_depth=3, n_estimators=50; total time=   0.0s\n",
      "[CV 1/5] END learning_rate=0.01, max_depth=3, n_estimators=100; total time=   0.0s\n",
      "[CV 2/5] END learning_rate=0.01, max_depth=3, n_estimators=100; total time=   0.0s\n",
      "[CV 3/5] END learning_rate=0.01, max_depth=3, n_estimators=100; total time=   0.0s\n",
      "[CV 4/5] END learning_rate=0.01, max_depth=3, n_estimators=100; total time=   0.0s\n",
      "[CV 5/5] END learning_rate=0.01, max_depth=3, n_estimators=100; total time=   0.0s\n",
      "[CV 1/5] END learning_rate=0.01, max_depth=3, n_estimators=200; total time=   0.0s\n",
      "[CV 2/5] END learning_rate=0.01, max_depth=3, n_estimators=200; total time=   0.0s\n",
      "[CV 3/5] END learning_rate=0.01, max_depth=3, n_estimators=200; total time=   0.0s\n",
      "[CV 4/5] END learning_rate=0.01, max_depth=3, n_estimators=200; total time=   0.0s\n",
      "[CV 5/5] END learning_rate=0.01, max_depth=3, n_estimators=200; total time=   0.0s\n",
      "[CV 1/5] END learning_rate=0.01, max_depth=6, n_estimators=10; total time=   0.0s\n",
      "[CV 2/5] END learning_rate=0.01, max_depth=6, n_estimators=10; total time=   0.0s\n",
      "[CV 3/5] END learning_rate=0.01, max_depth=6, n_estimators=10; total time=   0.0s\n",
      "[CV 4/5] END learning_rate=0.01, max_depth=6, n_estimators=10; total time=   0.0s\n",
      "[CV 5/5] END learning_rate=0.01, max_depth=6, n_estimators=10; total time=   0.0s\n",
      "[CV 1/5] END learning_rate=0.01, max_depth=6, n_estimators=50; total time=   0.0s\n",
      "[CV 2/5] END learning_rate=0.01, max_depth=6, n_estimators=50; total time=   0.0s\n",
      "[CV 3/5] END learning_rate=0.01, max_depth=6, n_estimators=50; total time=   0.0s\n",
      "[CV 4/5] END learning_rate=0.01, max_depth=6, n_estimators=50; total time=   0.0s\n",
      "[CV 5/5] END learning_rate=0.01, max_depth=6, n_estimators=50; total time=   0.0s\n",
      "[CV 1/5] END learning_rate=0.01, max_depth=6, n_estimators=100; total time=   0.0s\n",
      "[CV 2/5] END learning_rate=0.01, max_depth=6, n_estimators=100; total time=   0.0s\n",
      "[CV 3/5] END learning_rate=0.01, max_depth=6, n_estimators=100; total time=   0.0s\n",
      "[CV 4/5] END learning_rate=0.01, max_depth=6, n_estimators=100; total time=   0.0s\n",
      "[CV 5/5] END learning_rate=0.01, max_depth=6, n_estimators=100; total time=   0.0s\n",
      "[CV 1/5] END learning_rate=0.01, max_depth=6, n_estimators=200; total time=   0.0s\n",
      "[CV 2/5] END learning_rate=0.01, max_depth=6, n_estimators=200; total time=   0.0s\n",
      "[CV 3/5] END learning_rate=0.01, max_depth=6, n_estimators=200; total time=   0.0s\n",
      "[CV 4/5] END learning_rate=0.01, max_depth=6, n_estimators=200; total time=   0.0s\n",
      "[CV 5/5] END learning_rate=0.01, max_depth=6, n_estimators=200; total time=   0.0s\n",
      "[CV 1/5] END learning_rate=0.01, max_depth=9, n_estimators=10; total time=   0.0s\n",
      "[CV 2/5] END learning_rate=0.01, max_depth=9, n_estimators=10; total time=   0.0s\n",
      "[CV 3/5] END learning_rate=0.01, max_depth=9, n_estimators=10; total time=   0.0s\n",
      "[CV 4/5] END learning_rate=0.01, max_depth=9, n_estimators=10; total time=   0.0s\n",
      "[CV 5/5] END learning_rate=0.01, max_depth=9, n_estimators=10; total time=   0.0s\n",
      "[CV 1/5] END learning_rate=0.01, max_depth=9, n_estimators=50; total time=   0.0s\n",
      "[CV 2/5] END learning_rate=0.01, max_depth=9, n_estimators=50; total time=   0.0s\n",
      "[CV 3/5] END learning_rate=0.01, max_depth=9, n_estimators=50; total time=   0.0s\n",
      "[CV 4/5] END learning_rate=0.01, max_depth=9, n_estimators=50; total time=   0.0s\n",
      "[CV 5/5] END learning_rate=0.01, max_depth=9, n_estimators=50; total time=   0.0s\n",
      "[CV 1/5] END learning_rate=0.01, max_depth=9, n_estimators=100; total time=   0.0s\n",
      "[CV 2/5] END learning_rate=0.01, max_depth=9, n_estimators=100; total time=   0.0s\n",
      "[CV 3/5] END learning_rate=0.01, max_depth=9, n_estimators=100; total time=   0.0s\n",
      "[CV 4/5] END learning_rate=0.01, max_depth=9, n_estimators=100; total time=   0.0s\n",
      "[CV 5/5] END learning_rate=0.01, max_depth=9, n_estimators=100; total time=   0.0s\n",
      "[CV 1/5] END learning_rate=0.01, max_depth=9, n_estimators=200; total time=   0.0s\n",
      "[CV 2/5] END learning_rate=0.01, max_depth=9, n_estimators=200; total time=   0.0s\n",
      "[CV 3/5] END learning_rate=0.01, max_depth=9, n_estimators=200; total time=   0.0s\n",
      "[CV 4/5] END learning_rate=0.01, max_depth=9, n_estimators=200; total time=   0.0s\n",
      "[CV 5/5] END learning_rate=0.01, max_depth=9, n_estimators=200; total time=   0.0s\n",
      "[CV 1/5] END learning_rate=0.1, max_depth=3, n_estimators=10; total time=   0.0s\n",
      "[CV 2/5] END learning_rate=0.1, max_depth=3, n_estimators=10; total time=   0.0s\n",
      "[CV 3/5] END learning_rate=0.1, max_depth=3, n_estimators=10; total time=   0.0s\n",
      "[CV 4/5] END learning_rate=0.1, max_depth=3, n_estimators=10; total time=   0.0s\n",
      "[CV 5/5] END learning_rate=0.1, max_depth=3, n_estimators=10; total time=   0.0s\n",
      "[CV 1/5] END learning_rate=0.1, max_depth=3, n_estimators=50; total time=   0.0s\n",
      "[CV 2/5] END learning_rate=0.1, max_depth=3, n_estimators=50; total time=   0.0s\n",
      "[CV 3/5] END learning_rate=0.1, max_depth=3, n_estimators=50; total time=   0.0s\n",
      "[CV 4/5] END learning_rate=0.1, max_depth=3, n_estimators=50; total time=   0.0s\n",
      "[CV 5/5] END learning_rate=0.1, max_depth=3, n_estimators=50; total time=   0.0s\n",
      "[CV 1/5] END learning_rate=0.1, max_depth=3, n_estimators=100; total time=   0.0s\n",
      "[CV 2/5] END learning_rate=0.1, max_depth=3, n_estimators=100; total time=   0.0s\n",
      "[CV 3/5] END learning_rate=0.1, max_depth=3, n_estimators=100; total time=   0.0s\n",
      "[CV 4/5] END learning_rate=0.1, max_depth=3, n_estimators=100; total time=   0.0s\n",
      "[CV 5/5] END learning_rate=0.1, max_depth=3, n_estimators=100; total time=   0.0s\n",
      "[CV 1/5] END learning_rate=0.1, max_depth=3, n_estimators=200; total time=   0.0s\n",
      "[CV 2/5] END learning_rate=0.1, max_depth=3, n_estimators=200; total time=   0.0s\n",
      "[CV 3/5] END learning_rate=0.1, max_depth=3, n_estimators=200; total time=   0.0s\n",
      "[CV 4/5] END learning_rate=0.1, max_depth=3, n_estimators=200; total time=   0.0s\n",
      "[CV 5/5] END learning_rate=0.1, max_depth=3, n_estimators=200; total time=   0.0s\n",
      "[CV 1/5] END learning_rate=0.1, max_depth=6, n_estimators=10; total time=   0.0s\n",
      "[CV 2/5] END learning_rate=0.1, max_depth=6, n_estimators=10; total time=   0.0s\n",
      "[CV 3/5] END learning_rate=0.1, max_depth=6, n_estimators=10; total time=   0.0s\n",
      "[CV 4/5] END learning_rate=0.1, max_depth=6, n_estimators=10; total time=   0.0s\n",
      "[CV 5/5] END learning_rate=0.1, max_depth=6, n_estimators=10; total time=   0.0s\n",
      "[CV 1/5] END learning_rate=0.1, max_depth=6, n_estimators=50; total time=   0.0s\n",
      "[CV 2/5] END learning_rate=0.1, max_depth=6, n_estimators=50; total time=   0.0s\n",
      "[CV 3/5] END learning_rate=0.1, max_depth=6, n_estimators=50; total time=   0.0s\n",
      "[CV 4/5] END learning_rate=0.1, max_depth=6, n_estimators=50; total time=   0.0s\n",
      "[CV 5/5] END learning_rate=0.1, max_depth=6, n_estimators=50; total time=   0.0s\n",
      "[CV 1/5] END learning_rate=0.1, max_depth=6, n_estimators=100; total time=   0.0s\n",
      "[CV 2/5] END learning_rate=0.1, max_depth=6, n_estimators=100; total time=   0.0s\n",
      "[CV 3/5] END learning_rate=0.1, max_depth=6, n_estimators=100; total time=   0.0s\n",
      "[CV 4/5] END learning_rate=0.1, max_depth=6, n_estimators=100; total time=   0.0s\n",
      "[CV 5/5] END learning_rate=0.1, max_depth=6, n_estimators=100; total time=   0.0s\n",
      "[CV 1/5] END learning_rate=0.1, max_depth=6, n_estimators=200; total time=   0.0s\n",
      "[CV 2/5] END learning_rate=0.1, max_depth=6, n_estimators=200; total time=   0.0s\n",
      "[CV 3/5] END learning_rate=0.1, max_depth=6, n_estimators=200; total time=   0.0s\n",
      "[CV 4/5] END learning_rate=0.1, max_depth=6, n_estimators=200; total time=   0.0s\n",
      "[CV 5/5] END learning_rate=0.1, max_depth=6, n_estimators=200; total time=   0.0s\n",
      "[CV 1/5] END learning_rate=0.1, max_depth=9, n_estimators=10; total time=   0.0s\n",
      "[CV 2/5] END learning_rate=0.1, max_depth=9, n_estimators=10; total time=   0.0s\n",
      "[CV 3/5] END learning_rate=0.1, max_depth=9, n_estimators=10; total time=   0.0s\n",
      "[CV 4/5] END learning_rate=0.1, max_depth=9, n_estimators=10; total time=   0.0s\n"
     ]
    },
    {
     "name": "stdout",
     "output_type": "stream",
     "text": [
      "[CV 5/5] END learning_rate=0.1, max_depth=9, n_estimators=10; total time=   0.0s\n",
      "[CV 1/5] END learning_rate=0.1, max_depth=9, n_estimators=50; total time=   0.0s\n",
      "[CV 2/5] END learning_rate=0.1, max_depth=9, n_estimators=50; total time=   0.0s\n",
      "[CV 3/5] END learning_rate=0.1, max_depth=9, n_estimators=50; total time=   0.0s\n",
      "[CV 4/5] END learning_rate=0.1, max_depth=9, n_estimators=50; total time=   0.0s\n",
      "[CV 5/5] END learning_rate=0.1, max_depth=9, n_estimators=50; total time=   0.0s\n",
      "[CV 1/5] END learning_rate=0.1, max_depth=9, n_estimators=100; total time=   0.0s\n",
      "[CV 2/5] END learning_rate=0.1, max_depth=9, n_estimators=100; total time=   0.0s\n",
      "[CV 3/5] END learning_rate=0.1, max_depth=9, n_estimators=100; total time=   0.0s\n",
      "[CV 4/5] END learning_rate=0.1, max_depth=9, n_estimators=100; total time=   0.0s\n",
      "[CV 5/5] END learning_rate=0.1, max_depth=9, n_estimators=100; total time=   0.0s\n",
      "[CV 1/5] END learning_rate=0.1, max_depth=9, n_estimators=200; total time=   0.0s\n",
      "[CV 2/5] END learning_rate=0.1, max_depth=9, n_estimators=200; total time=   0.0s\n",
      "[CV 3/5] END learning_rate=0.1, max_depth=9, n_estimators=200; total time=   0.0s\n",
      "[CV 4/5] END learning_rate=0.1, max_depth=9, n_estimators=200; total time=   0.0s\n",
      "[CV 5/5] END learning_rate=0.1, max_depth=9, n_estimators=200; total time=   0.0s\n",
      "[CV 1/5] END learning_rate=0.3, max_depth=3, n_estimators=10; total time=   0.0s\n",
      "[CV 2/5] END learning_rate=0.3, max_depth=3, n_estimators=10; total time=   0.0s\n",
      "[CV 3/5] END learning_rate=0.3, max_depth=3, n_estimators=10; total time=   0.0s\n",
      "[CV 4/5] END learning_rate=0.3, max_depth=3, n_estimators=10; total time=   0.0s\n",
      "[CV 5/5] END learning_rate=0.3, max_depth=3, n_estimators=10; total time=   0.0s\n",
      "[CV 1/5] END learning_rate=0.3, max_depth=3, n_estimators=50; total time=   0.0s\n",
      "[CV 2/5] END learning_rate=0.3, max_depth=3, n_estimators=50; total time=   0.0s\n",
      "[CV 3/5] END learning_rate=0.3, max_depth=3, n_estimators=50; total time=   0.0s\n",
      "[CV 4/5] END learning_rate=0.3, max_depth=3, n_estimators=50; total time=   0.0s\n",
      "[CV 5/5] END learning_rate=0.3, max_depth=3, n_estimators=50; total time=   0.0s\n",
      "[CV 1/5] END learning_rate=0.3, max_depth=3, n_estimators=100; total time=   0.0s\n",
      "[CV 2/5] END learning_rate=0.3, max_depth=3, n_estimators=100; total time=   0.0s\n",
      "[CV 3/5] END learning_rate=0.3, max_depth=3, n_estimators=100; total time=   0.0s\n",
      "[CV 4/5] END learning_rate=0.3, max_depth=3, n_estimators=100; total time=   0.0s\n",
      "[CV 5/5] END learning_rate=0.3, max_depth=3, n_estimators=100; total time=   0.0s\n",
      "[CV 1/5] END learning_rate=0.3, max_depth=3, n_estimators=200; total time=   0.0s\n",
      "[CV 2/5] END learning_rate=0.3, max_depth=3, n_estimators=200; total time=   0.0s\n",
      "[CV 3/5] END learning_rate=0.3, max_depth=3, n_estimators=200; total time=   0.0s\n",
      "[CV 4/5] END learning_rate=0.3, max_depth=3, n_estimators=200; total time=   0.0s\n",
      "[CV 5/5] END learning_rate=0.3, max_depth=3, n_estimators=200; total time=   0.0s\n",
      "[CV 1/5] END learning_rate=0.3, max_depth=6, n_estimators=10; total time=   0.0s\n",
      "[CV 2/5] END learning_rate=0.3, max_depth=6, n_estimators=10; total time=   0.0s\n",
      "[CV 3/5] END learning_rate=0.3, max_depth=6, n_estimators=10; total time=   0.0s\n",
      "[CV 4/5] END learning_rate=0.3, max_depth=6, n_estimators=10; total time=   0.0s\n",
      "[CV 5/5] END learning_rate=0.3, max_depth=6, n_estimators=10; total time=   0.0s\n",
      "[CV 1/5] END learning_rate=0.3, max_depth=6, n_estimators=50; total time=   0.0s\n",
      "[CV 2/5] END learning_rate=0.3, max_depth=6, n_estimators=50; total time=   0.0s\n",
      "[CV 3/5] END learning_rate=0.3, max_depth=6, n_estimators=50; total time=   0.0s\n",
      "[CV 4/5] END learning_rate=0.3, max_depth=6, n_estimators=50; total time=   0.0s\n",
      "[CV 5/5] END learning_rate=0.3, max_depth=6, n_estimators=50; total time=   0.0s\n",
      "[CV 1/5] END learning_rate=0.3, max_depth=6, n_estimators=100; total time=   0.0s\n",
      "[CV 2/5] END learning_rate=0.3, max_depth=6, n_estimators=100; total time=   0.0s\n",
      "[CV 3/5] END learning_rate=0.3, max_depth=6, n_estimators=100; total time=   0.0s\n",
      "[CV 4/5] END learning_rate=0.3, max_depth=6, n_estimators=100; total time=   0.0s\n",
      "[CV 5/5] END learning_rate=0.3, max_depth=6, n_estimators=100; total time=   0.0s\n",
      "[CV 1/5] END learning_rate=0.3, max_depth=6, n_estimators=200; total time=   0.0s\n",
      "[CV 2/5] END learning_rate=0.3, max_depth=6, n_estimators=200; total time=   0.0s\n",
      "[CV 3/5] END learning_rate=0.3, max_depth=6, n_estimators=200; total time=   0.0s\n",
      "[CV 4/5] END learning_rate=0.3, max_depth=6, n_estimators=200; total time=   0.0s\n",
      "[CV 5/5] END learning_rate=0.3, max_depth=6, n_estimators=200; total time=   0.0s\n",
      "[CV 1/5] END learning_rate=0.3, max_depth=9, n_estimators=10; total time=   0.0s\n",
      "[CV 2/5] END learning_rate=0.3, max_depth=9, n_estimators=10; total time=   0.0s\n",
      "[CV 3/5] END learning_rate=0.3, max_depth=9, n_estimators=10; total time=   0.0s\n",
      "[CV 4/5] END learning_rate=0.3, max_depth=9, n_estimators=10; total time=   0.0s\n",
      "[CV 5/5] END learning_rate=0.3, max_depth=9, n_estimators=10; total time=   0.0s\n",
      "[CV 1/5] END learning_rate=0.3, max_depth=9, n_estimators=50; total time=   0.0s\n",
      "[CV 2/5] END learning_rate=0.3, max_depth=9, n_estimators=50; total time=   0.0s\n",
      "[CV 3/5] END learning_rate=0.3, max_depth=9, n_estimators=50; total time=   0.0s\n",
      "[CV 4/5] END learning_rate=0.3, max_depth=9, n_estimators=50; total time=   0.0s\n",
      "[CV 5/5] END learning_rate=0.3, max_depth=9, n_estimators=50; total time=   0.0s\n",
      "[CV 1/5] END learning_rate=0.3, max_depth=9, n_estimators=100; total time=   0.0s\n",
      "[CV 2/5] END learning_rate=0.3, max_depth=9, n_estimators=100; total time=   0.0s\n",
      "[CV 3/5] END learning_rate=0.3, max_depth=9, n_estimators=100; total time=   0.0s\n",
      "[CV 4/5] END learning_rate=0.3, max_depth=9, n_estimators=100; total time=   0.0s\n",
      "[CV 5/5] END learning_rate=0.3, max_depth=9, n_estimators=100; total time=   0.0s\n",
      "[CV 1/5] END learning_rate=0.3, max_depth=9, n_estimators=200; total time=   0.0s\n",
      "[CV 2/5] END learning_rate=0.3, max_depth=9, n_estimators=200; total time=   0.0s\n",
      "[CV 3/5] END learning_rate=0.3, max_depth=9, n_estimators=200; total time=   0.0s\n",
      "[CV 4/5] END learning_rate=0.3, max_depth=9, n_estimators=200; total time=   0.0s\n",
      "[CV 5/5] END learning_rate=0.3, max_depth=9, n_estimators=200; total time=   0.1s\n"
     ]
    }
   ],
   "source": [
    "from sklearn.model_selection import GridSearchCV\n",
    "\n",
    "xgboost_grid_search_cv= GridSearchCV(xgboost, xgboost_param_grid, cv=5, n_jobs=1,verbose=5)\n",
    "xgboost_grid_search_cv_result=xgboost_grid_search_cv.fit(x_train,y_train)"
   ]
  },
  {
   "cell_type": "code",
   "execution_count": 434,
   "id": "f312f85c",
   "metadata": {},
   "outputs": [
    {
     "data": {
      "text/html": [
       "<div>\n",
       "<style scoped>\n",
       "    .dataframe tbody tr th:only-of-type {\n",
       "        vertical-align: middle;\n",
       "    }\n",
       "\n",
       "    .dataframe tbody tr th {\n",
       "        vertical-align: top;\n",
       "    }\n",
       "\n",
       "    .dataframe thead th {\n",
       "        text-align: right;\n",
       "    }\n",
       "</style>\n",
       "<table border=\"1\" class=\"dataframe\">\n",
       "  <thead>\n",
       "    <tr style=\"text-align: right;\">\n",
       "      <th></th>\n",
       "      <th>learning_rate</th>\n",
       "      <th>max_depth</th>\n",
       "      <th>n_estimators</th>\n",
       "      <th>accuracy</th>\n",
       "    </tr>\n",
       "  </thead>\n",
       "  <tbody>\n",
       "    <tr>\n",
       "      <th>28</th>\n",
       "      <td>0.30</td>\n",
       "      <td>6</td>\n",
       "      <td>10</td>\n",
       "      <td>0.847154</td>\n",
       "    </tr>\n",
       "    <tr>\n",
       "      <th>32</th>\n",
       "      <td>0.30</td>\n",
       "      <td>9</td>\n",
       "      <td>10</td>\n",
       "      <td>0.837515</td>\n",
       "    </tr>\n",
       "    <tr>\n",
       "      <th>7</th>\n",
       "      <td>0.01</td>\n",
       "      <td>6</td>\n",
       "      <td>200</td>\n",
       "      <td>0.837398</td>\n",
       "    </tr>\n",
       "    <tr>\n",
       "      <th>11</th>\n",
       "      <td>0.01</td>\n",
       "      <td>9</td>\n",
       "      <td>200</td>\n",
       "      <td>0.837398</td>\n",
       "    </tr>\n",
       "    <tr>\n",
       "      <th>14</th>\n",
       "      <td>0.10</td>\n",
       "      <td>3</td>\n",
       "      <td>100</td>\n",
       "      <td>0.832753</td>\n",
       "    </tr>\n",
       "  </tbody>\n",
       "</table>\n",
       "</div>"
      ],
      "text/plain": [
       "    learning_rate  max_depth  n_estimators  accuracy\n",
       "28           0.30          6            10  0.847154\n",
       "32           0.30          9            10  0.837515\n",
       "7            0.01          6           200  0.837398\n",
       "11           0.01          9           200  0.837398\n",
       "14           0.10          3           100  0.832753"
      ]
     },
     "execution_count": 434,
     "metadata": {},
     "output_type": "execute_result"
    }
   ],
   "source": [
    "results=xgboost_grid_search_cv_result.cv_results_\n",
    "scores_and_params= pd.DataFrame(results['params'])\n",
    "scores_and_params\n",
    "\n",
    "scores_and_params['accuracy']=pd.DataFrame(results['mean_test_score'], columns=['accuracy'])\n",
    "scores_and_params.sort_values(by= 'accuracy', ascending=False).head()"
   ]
  },
  {
   "cell_type": "code",
   "execution_count": 435,
   "id": "55aa9def",
   "metadata": {},
   "outputs": [
    {
     "data": {
      "text/plain": [
       "<AxesSubplot:>"
      ]
     },
     "execution_count": 435,
     "metadata": {},
     "output_type": "execute_result"
    },
    {
     "data": {
      "image/png": "[encoded data removed]",
      "text/plain": [
       "<Figure size 432x288 with 1 Axes>"
      ]
     },
     "metadata": {
      "needs_background": "light"
     },
     "output_type": "display_data"
    }
   ],
   "source": [
    "# plotting the feature importance\n",
    "%matplotlib inline\n",
    "feature_importance=pd.Series(xgboost.feature_importances_, index=final_predictors)\n",
    "feature_importance.nlargest(10).plot(kind='barh')"
   ]
  },
  {
   "cell_type": "markdown",
   "id": "5b38b971",
   "metadata": {},
   "source": [
    "# KNN"
   ]
  },
  {
   "cell_type": "code",
   "execution_count": 436,
   "id": "61b183e1",
   "metadata": {},
   "outputs": [
    {
     "name": "stdout",
     "output_type": "stream",
     "text": [
      "KNeighborsClassifier(n_neighbors=7)\n"
     ]
    }
   ],
   "source": [
    "from sklearn.neighbors import KNeighborsClassifier\n",
    "knn_model = KNeighborsClassifier(n_neighbors=7)\n",
    " \n",
    "#Printing all the parameters of KNN\n",
    "print(knn_model)"
   ]
  },
  {
   "cell_type": "code",
   "execution_count": 437,
   "id": "c3b47c2c",
   "metadata": {},
   "outputs": [],
   "source": [
    "#Creating the model on Training Data\n",
    "KNN=knn_model.fit(x_train,y_train)\n",
    "knn_prediction=KNN.predict(x_test)"
   ]
  },
  {
   "cell_type": "code",
   "execution_count": 438,
   "id": "132071c0",
   "metadata": {
    "scrolled": true
   },
   "outputs": [
    {
     "name": "stdout",
     "output_type": "stream",
     "text": [
      "              precision    recall  f1-score   support\n",
      "\n",
      "           0       0.83      0.87      0.85        62\n",
      "           1       0.68      0.61      0.64        28\n",
      "\n",
      "    accuracy                           0.79        90\n",
      "   macro avg       0.76      0.74      0.75        90\n",
      "weighted avg       0.78      0.79      0.79        90\n",
      "\n",
      "[[54  8]\n",
      " [11 17]]\n"
     ]
    }
   ],
   "source": [
    "#Measuring accuracy on Testing Data\n",
    "from sklearn import metrics\n",
    "print(metrics.classification_report(y_test, knn_prediction))\n",
    "print(metrics.confusion_matrix(y_test, knn_prediction))\n",
    " "
   ]
  },
  {
   "cell_type": "code",
   "execution_count": 439,
   "id": "7cbb7075",
   "metadata": {},
   "outputs": [
    {
     "name": "stdout",
     "output_type": "stream",
     "text": [
      "Accuracy of the model on Testing Sample Data: 0.79\n",
      "\n",
      "Accuracy values for 10-fold Cross Validation:\n",
      " [0.70707071 0.77333333 0.8692185  0.75421797 0.8244414  0.72486772\n",
      " 0.86136364 0.85341615 0.70909091 0.56298381]\n",
      "\n",
      "Final Average Accuracy of the knn model: 0.76\n"
     ]
    }
   ],
   "source": [
    "# from sklearn.linear_model import LogisticRegression\n",
    "# Printing the Overall Accuracy of the model\n",
    "F1_Score=metrics.f1_score(y_test, knn_prediction, average='weighted')\n",
    "print('Accuracy of the model on Testing Sample Data:', round(F1_Score,2))\n",
    "\n",
    "# Importing cross validation function from sklearn\n",
    "from sklearn.model_selection import cross_val_score\n",
    "\n",
    "# Running 10-Fold Cross validation on a given algorithm\n",
    "# Passing full data X and y because the K-fold will split the data and automatically choose train/test\n",
    "knn_Accuracy_Values=cross_val_score(knn_model, x , y, cv=10, scoring='f1_weighted')\n",
    "print('\\nAccuracy values for 10-fold Cross Validation:\\n',knn_Accuracy_Values)\n",
    "print('\\nFinal Average Accuracy of the knn model:', round(knn_Accuracy_Values.mean(),2))"
   ]
  },
  {
   "cell_type": "code",
   "execution_count": 440,
   "id": "06cbfee0",
   "metadata": {},
   "outputs": [],
   "source": [
    " knn_param_grid={'n_neighbors': [3, 4, 5, 6, 7, 8, 9, 10, 15]}"
   ]
  },
  {
   "cell_type": "code",
   "execution_count": 441,
   "id": "eb2bc76c",
   "metadata": {},
   "outputs": [
    {
     "name": "stdout",
     "output_type": "stream",
     "text": [
      "Fitting 5 folds for each of 9 candidates, totalling 45 fits\n",
      "[CV 1/5] END ..................................n_neighbors=3; total time=   0.0s\n",
      "[CV 2/5] END ..................................n_neighbors=3; total time=   0.0s\n",
      "[CV 3/5] END ..................................n_neighbors=3; total time=   0.0s\n",
      "[CV 4/5] END ..................................n_neighbors=3; total time=   0.0s\n",
      "[CV 5/5] END ..................................n_neighbors=3; total time=   0.0s\n",
      "[CV 1/5] END ..................................n_neighbors=4; total time=   0.0s\n",
      "[CV 2/5] END ..................................n_neighbors=4; total time=   0.0s\n",
      "[CV 3/5] END ..................................n_neighbors=4; total time=   0.0s\n",
      "[CV 4/5] END ..................................n_neighbors=4; total time=   0.0s\n",
      "[CV 5/5] END ..................................n_neighbors=4; total time=   0.0s\n",
      "[CV 1/5] END ..................................n_neighbors=5; total time=   0.0s\n",
      "[CV 2/5] END ..................................n_neighbors=5; total time=   0.0s\n",
      "[CV 3/5] END ..................................n_neighbors=5; total time=   0.0s\n",
      "[CV 4/5] END ..................................n_neighbors=5; total time=   0.0s\n",
      "[CV 5/5] END ..................................n_neighbors=5; total time=   0.0s\n",
      "[CV 1/5] END ..................................n_neighbors=6; total time=   0.0s\n",
      "[CV 2/5] END ..................................n_neighbors=6; total time=   0.0s\n",
      "[CV 3/5] END ..................................n_neighbors=6; total time=   0.0s\n",
      "[CV 4/5] END ..................................n_neighbors=6; total time=   0.0s\n",
      "[CV 5/5] END ..................................n_neighbors=6; total time=   0.0s\n",
      "[CV 1/5] END ..................................n_neighbors=7; total time=   0.0s\n",
      "[CV 2/5] END ..................................n_neighbors=7; total time=   0.0s\n",
      "[CV 3/5] END ..................................n_neighbors=7; total time=   0.0s\n",
      "[CV 4/5] END ..................................n_neighbors=7; total time=   0.0s\n",
      "[CV 5/5] END ..................................n_neighbors=7; total time=   0.0s\n",
      "[CV 1/5] END ..................................n_neighbors=8; total time=   0.0s\n",
      "[CV 2/5] END ..................................n_neighbors=8; total time=   0.0s\n",
      "[CV 3/5] END ..................................n_neighbors=8; total time=   0.0s\n",
      "[CV 4/5] END ..................................n_neighbors=8; total time=   0.0s\n",
      "[CV 5/5] END ..................................n_neighbors=8; total time=   0.0s\n",
      "[CV 1/5] END ..................................n_neighbors=9; total time=   0.0s\n",
      "[CV 2/5] END ..................................n_neighbors=9; total time=   0.0s\n",
      "[CV 3/5] END ..................................n_neighbors=9; total time=   0.0s\n",
      "[CV 4/5] END ..................................n_neighbors=9; total time=   0.0s\n",
      "[CV 5/5] END ..................................n_neighbors=9; total time=   0.0s\n",
      "[CV 1/5] END .................................n_neighbors=10; total time=   0.0s\n",
      "[CV 2/5] END .................................n_neighbors=10; total time=   0.0s\n",
      "[CV 3/5] END .................................n_neighbors=10; total time=   0.0s\n",
      "[CV 4/5] END .................................n_neighbors=10; total time=   0.0s\n",
      "[CV 5/5] END .................................n_neighbors=10; total time=   0.0s\n",
      "[CV 1/5] END .................................n_neighbors=15; total time=   0.0s\n",
      "[CV 2/5] END .................................n_neighbors=15; total time=   0.0s\n",
      "[CV 3/5] END .................................n_neighbors=15; total time=   0.0s\n",
      "[CV 4/5] END .................................n_neighbors=15; total time=   0.0s\n",
      "[CV 5/5] END .................................n_neighbors=15; total time=   0.0s\n"
     ]
    }
   ],
   "source": [
    "from sklearn.model_selection import GridSearchCV\n",
    "\n",
    "knn_grid_search_cv= GridSearchCV(KNN, knn_param_grid, cv=5, n_jobs=1, verbose=5)\n",
    "knn_grid_search_result=knn_grid_search_cv.fit(x_train,y_train)"
   ]
  },
  {
   "cell_type": "code",
   "execution_count": 442,
   "id": "b18401f1",
   "metadata": {},
   "outputs": [
    {
     "data": {
      "text/html": [
       "<div>\n",
       "<style scoped>\n",
       "    .dataframe tbody tr th:only-of-type {\n",
       "        vertical-align: middle;\n",
       "    }\n",
       "\n",
       "    .dataframe tbody tr th {\n",
       "        vertical-align: top;\n",
       "    }\n",
       "\n",
       "    .dataframe thead th {\n",
       "        text-align: right;\n",
       "    }\n",
       "</style>\n",
       "<table border=\"1\" class=\"dataframe\">\n",
       "  <thead>\n",
       "    <tr style=\"text-align: right;\">\n",
       "      <th></th>\n",
       "      <th>n_neighbors</th>\n",
       "      <th>accuracy</th>\n",
       "    </tr>\n",
       "  </thead>\n",
       "  <tbody>\n",
       "    <tr>\n",
       "      <th>4</th>\n",
       "      <td>7</td>\n",
       "      <td>0.789779</td>\n",
       "    </tr>\n",
       "    <tr>\n",
       "      <th>2</th>\n",
       "      <td>5</td>\n",
       "      <td>0.785134</td>\n",
       "    </tr>\n",
       "    <tr>\n",
       "      <th>6</th>\n",
       "      <td>9</td>\n",
       "      <td>0.775610</td>\n",
       "    </tr>\n",
       "    <tr>\n",
       "      <th>0</th>\n",
       "      <td>3</td>\n",
       "      <td>0.770732</td>\n",
       "    </tr>\n",
       "    <tr>\n",
       "      <th>5</th>\n",
       "      <td>8</td>\n",
       "      <td>0.765854</td>\n",
       "    </tr>\n",
       "  </tbody>\n",
       "</table>\n",
       "</div>"
      ],
      "text/plain": [
       "   n_neighbors  accuracy\n",
       "4            7  0.789779\n",
       "2            5  0.785134\n",
       "6            9  0.775610\n",
       "0            3  0.770732\n",
       "5            8  0.765854"
      ]
     },
     "execution_count": 442,
     "metadata": {},
     "output_type": "execute_result"
    }
   ],
   "source": [
    "results=knn_grid_search_result.cv_results_\n",
    "scores_and_params= pd.DataFrame(results['params'])\n",
    "scores_and_params\n",
    "\n",
    "scores_and_params['accuracy']=pd.DataFrame(results['mean_test_score'], columns=['accuracy'])\n",
    "scores_and_params.sort_values(by= 'accuracy', ascending=False).head()"
   ]
  },
  {
   "cell_type": "code",
   "execution_count": 443,
   "id": "26a2d813",
   "metadata": {
    "scrolled": true
   },
   "outputs": [
    {
     "name": "stdout",
     "output_type": "stream",
     "text": [
      "Final Average Accuracy of the logistic regression model: 0.8\n",
      "Final Average Accuracy of the decision tree model: 0.67\n",
      "Final Average Accuracy of the random forest model: 0.69\n",
      "Final Average Accuracy of the adaboost model: 0.7\n",
      "Final Average Accuracy of the xgboost model: 0.67\n",
      "Final Average Accuracy of the knn model: 0.76\n"
     ]
    }
   ],
   "source": [
    "print('Final Average Accuracy of the logistic regression model:', round(logistic_regression_Accuracy_Values.mean(),2))\n",
    "print('Final Average Accuracy of the decision tree model:', round(decision_tree_Accuracy_Values.mean(),2))\n",
    "print('Final Average Accuracy of the random forest model:', round(random_forest_Accuracy_Values.mean(),2))\n",
    "print('Final Average Accuracy of the adaboost model:', round(adaboost_Accuracy_Values.mean(),2))\n",
    "print('Final Average Accuracy of the xgboost model:', round(xgboost_Accuracy_Values.mean(),2))\n",
    "print('Final Average Accuracy of the knn model:', round(knn_Accuracy_Values.mean(),2))"
   ]
  },
  {
   "cell_type": "markdown",
   "id": "5e455580",
   "metadata": {},
   "source": [
    "logistic regression is having the highest accuracy. "
   ]
  },
  {
   "cell_type": "code",
   "execution_count": 451,
   "id": "5bdbd7e7",
   "metadata": {},
   "outputs": [
    {
     "name": "stdout",
     "output_type": "stream",
     "text": [
      "LogisticRegression(C=1, penalty='l1', solver='saga')\n"
     ]
    }
   ],
   "source": [
    "# choose parameter penalty=l1 and c=1\n",
    "print(logistic_regression)"
   ]
  },
  {
   "cell_type": "code",
   "execution_count": 466,
   "id": "2c3053da",
   "metadata": {},
   "outputs": [
    {
     "name": "stderr",
     "output_type": "stream",
     "text": [
      "<ipython-input-466-2e0a3e573422>:2: SettingWithCopyWarning: \n",
      "A value is trying to be set on a copy of a slice from a DataFrame.\n",
      "Try using .loc[row_indexer,col_indexer] = value instead\n",
      "\n",
      "See the caveats in the documentation: https://pandas.pydata.org/pandas-docs/stable/user_guide/indexing.html#returning-a-view-versus-a-copy\n",
      "  DataForML['DEATH_EVENT']= updated_data[target_variable]\n"
     ]
    },
    {
     "data": {
      "text/html": [
       "<div>\n",
       "<style scoped>\n",
       "    .dataframe tbody tr th:only-of-type {\n",
       "        vertical-align: middle;\n",
       "    }\n",
       "\n",
       "    .dataframe tbody tr th {\n",
       "        vertical-align: top;\n",
       "    }\n",
       "\n",
       "    .dataframe thead th {\n",
       "        text-align: right;\n",
       "    }\n",
       "</style>\n",
       "<table border=\"1\" class=\"dataframe\">\n",
       "  <thead>\n",
       "    <tr style=\"text-align: right;\">\n",
       "      <th></th>\n",
       "      <th>age</th>\n",
       "      <th>ejection_fraction</th>\n",
       "      <th>serum_creatinine</th>\n",
       "      <th>serum_sodium</th>\n",
       "      <th>time</th>\n",
       "      <th>DEATH_EVENT</th>\n",
       "    </tr>\n",
       "  </thead>\n",
       "  <tbody>\n",
       "    <tr>\n",
       "      <th>0</th>\n",
       "      <td>75.0</td>\n",
       "      <td>25.0</td>\n",
       "      <td>1.9</td>\n",
       "      <td>132.0</td>\n",
       "      <td>4</td>\n",
       "      <td>1</td>\n",
       "    </tr>\n",
       "    <tr>\n",
       "      <th>1</th>\n",
       "      <td>55.0</td>\n",
       "      <td>38.0</td>\n",
       "      <td>1.1</td>\n",
       "      <td>136.0</td>\n",
       "      <td>6</td>\n",
       "      <td>1</td>\n",
       "    </tr>\n",
       "    <tr>\n",
       "      <th>2</th>\n",
       "      <td>65.0</td>\n",
       "      <td>25.0</td>\n",
       "      <td>1.3</td>\n",
       "      <td>132.0</td>\n",
       "      <td>7</td>\n",
       "      <td>1</td>\n",
       "    </tr>\n",
       "    <tr>\n",
       "      <th>3</th>\n",
       "      <td>50.0</td>\n",
       "      <td>25.0</td>\n",
       "      <td>1.9</td>\n",
       "      <td>137.0</td>\n",
       "      <td>7</td>\n",
       "      <td>1</td>\n",
       "    </tr>\n",
       "    <tr>\n",
       "      <th>4</th>\n",
       "      <td>65.0</td>\n",
       "      <td>25.0</td>\n",
       "      <td>2.1</td>\n",
       "      <td>132.0</td>\n",
       "      <td>8</td>\n",
       "      <td>1</td>\n",
       "    </tr>\n",
       "  </tbody>\n",
       "</table>\n",
       "</div>"
      ],
      "text/plain": [
       "    age  ejection_fraction  serum_creatinine  serum_sodium  time  DEATH_EVENT\n",
       "0  75.0               25.0               1.9         132.0     4            1\n",
       "1  55.0               38.0               1.1         136.0     6            1\n",
       "2  65.0               25.0               1.3         132.0     7            1\n",
       "3  50.0               25.0               1.9         137.0     7            1\n",
       "4  65.0               25.0               2.1         132.0     8            1"
      ]
     },
     "execution_count": 466,
     "metadata": {},
     "output_type": "execute_result"
    }
   ],
   "source": [
    "DataForML=updated_data[final_predictors]\n",
    "DataForML['DEATH_EVENT']= updated_data[target_variable]\n",
    "DataForML.head()"
   ]
  },
  {
   "cell_type": "code",
   "execution_count": 467,
   "id": "727d15b7",
   "metadata": {},
   "outputs": [
    {
     "name": "stdout",
     "output_type": "stream",
     "text": [
      "predictors :  ['age', 'ejection_fraction', 'serum_creatinine', 'serum_sodium', 'time']\n",
      "target variable :  ['DEATH_EVENT']\n",
      "(299, 5)\n",
      "(299,)\n"
     ]
    }
   ],
   "source": [
    "# training 100% data \n",
    "print('predictors : ', final_predictors)\n",
    "print('target variable : ', [target_variable])\n",
    "x=DataForML[final_predictors].values\n",
    "y=DataForML[target_variable].values\n",
    "print(x.shape)\n",
    "print(y.shape)"
   ]
  },
  {
   "cell_type": "code",
   "execution_count": 468,
   "id": "ee5a2a42",
   "metadata": {
    "scrolled": false
   },
   "outputs": [
    {
     "name": "stdout",
     "output_type": "stream",
     "text": [
      "LogisticRegression(C=1, penalty='l1', solver='saga')\n"
     ]
    }
   ],
   "source": [
    "from sklearn.linear_model import LogisticRegression\n",
    "reg_model= LogisticRegression(C=1,penalty='l1', solver='saga')\n",
    "print(logistic_regression_model)"
   ]
  },
  {
   "cell_type": "code",
   "execution_count": 469,
   "id": "c274e1aa",
   "metadata": {},
   "outputs": [
    {
     "name": "stderr",
     "output_type": "stream",
     "text": [
      "C:\\Users\\Jaysree\\anaconda3\\lib\\site-packages\\sklearn\\linear_model\\_sag.py:328: ConvergenceWarning: The max_iter was reached which means the coef_ did not converge\n",
      "  warnings.warn(\"The max_iter was reached which means \"\n"
     ]
    }
   ],
   "source": [
    "final_logistic_reg_model=reg_model.fit(x,y)"
   ]
  },
  {
   "cell_type": "code",
   "execution_count": 470,
   "id": "e1d7d7a9",
   "metadata": {},
   "outputs": [],
   "source": [
    "# Saving this final data for reference during deployment\n",
    "DataForML.to_pickle('DataForML.pkl')"
   ]
  },
  {
   "cell_type": "code",
   "execution_count": 471,
   "id": "e32ba3bd",
   "metadata": {},
   "outputs": [],
   "source": [
    "# This Function can be called from any from any front end tool/website\n",
    "def HeartFailurePrediction(InputData):\n",
    "    import pandas as pd\n",
    "    Num_Inputs=InputData.shape[0]\n",
    "    \n",
    "    # Making sure the input data has same columns as it was used for training the model\n",
    "    # Also, if standardization/normalization was done, then same must be done for new input\n",
    "    \n",
    "    # Appending the new data with the Training data\n",
    "    DataForML=pd.read_pickle('DataForML.pkl')\n",
    "    InputDataDetails=InputData.append(DataForML)\n",
    "    \n",
    "    # Treating the binary nominal variables first\n",
    "#     InputDataDetails['Married'].replace({'Yes':1, 'No':0}, inplace=True)\n",
    "#     InputLoanDetails['Education'].replace({'Graduate':1, 'Not Graduate':0}, inplace=True)\n",
    "    \n",
    "    # Generating dummy variables for rest of the nominal variables\n",
    "#     InputLoanDetails=pd.get_dummies(InputLoanDetails)\n",
    "            \n",
    "    # Maintaining the same order of columns as it was during the model training\n",
    "    Predictors=['age', 'ejection_fraction', 'serum_creatinine', 'serum_sodium', 'time']\n",
    "    \n",
    "    # Generating the input values to the model\n",
    "    X=InputDataDetails[Predictors].values[0:Num_Inputs]    \n",
    "    \n",
    "    # Generating the standardized values of X since it was done while model training also\n",
    "    X=minmax_PredictorScalarFit.transform(X)\n",
    "    \n",
    "    # Loading the Function from pickle file\n",
    "    import pickle\n",
    "    with open('FinalLogisticRegressionModel.pkl', 'rb') as fileReadStream:\n",
    "        Logistic_Regression_model=pickle.load(fileReadStream)\n",
    "        # Don't forget to close the filestream!\n",
    "        fileReadStream.close()\n",
    "            \n",
    "    # Genrating Predictions\n",
    "    Prediction=logistic_regression.predict(X)\n",
    "    PredictedStatus=pd.DataFrame(Prediction, columns=['Predicted Status'])\n",
    "    return(PredictedStatus)"
   ]
  }
 ],
 "metadata": {
  "kernelspec": {
   "display_name": "Python 3",
   "language": "python",
   "name": "python3"
  },
  "language_info": {
   "codemirror_mode": {
    "name": "ipython",
    "version": 3
   },
   "file_extension": ".py",
   "mimetype": "text/x-python",
   "name": "python",
   "nbconvert_exporter": "python",
   "pygments_lexer": "ipython3",
   "version": "3.8.8"
  }
 },
 "nbformat": 4,
 "nbformat_minor": 5
}

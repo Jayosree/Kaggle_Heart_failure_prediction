{
 "cells": [
  {
   "cell_type": "code",
   "execution_count": 1,
   "id": "6291bd0a",
   "metadata": {},
   "outputs": [],
   "source": [
    "import pandas as pd\n",
    "import numpy as np"
   ]
  },
  {
   "cell_type": "code",
   "execution_count": 195,
   "id": "53d6ef48",
   "metadata": {},
   "outputs": [
    {
     "data": {
      "text/html": [
       "<div>\n",
       "<style scoped>\n",
       "    .dataframe tbody tr th:only-of-type {\n",
       "        vertical-align: middle;\n",
       "    }\n",
       "\n",
       "    .dataframe tbody tr th {\n",
       "        vertical-align: top;\n",
       "    }\n",
       "\n",
       "    .dataframe thead th {\n",
       "        text-align: right;\n",
       "    }\n",
       "</style>\n",
       "<table border=\"1\" class=\"dataframe\">\n",
       "  <thead>\n",
       "    <tr style=\"text-align: right;\">\n",
       "      <th></th>\n",
       "      <th>age</th>\n",
       "      <th>anaemia</th>\n",
       "      <th>creatinine_phosphokinase</th>\n",
       "      <th>diabetes</th>\n",
       "      <th>ejection_fraction</th>\n",
       "      <th>high_blood_pressure</th>\n",
       "      <th>platelets</th>\n",
       "      <th>serum_creatinine</th>\n",
       "      <th>serum_sodium</th>\n",
       "      <th>sex</th>\n",
       "      <th>smoking</th>\n",
       "      <th>time</th>\n",
       "      <th>DEATH_EVENT</th>\n",
       "    </tr>\n",
       "  </thead>\n",
       "  <tbody>\n",
       "    <tr>\n",
       "      <th>0</th>\n",
       "      <td>75.0</td>\n",
       "      <td>0</td>\n",
       "      <td>582</td>\n",
       "      <td>0</td>\n",
       "      <td>20</td>\n",
       "      <td>1</td>\n",
       "      <td>265000.00</td>\n",
       "      <td>1.9</td>\n",
       "      <td>130</td>\n",
       "      <td>1</td>\n",
       "      <td>0</td>\n",
       "      <td>4</td>\n",
       "      <td>1</td>\n",
       "    </tr>\n",
       "    <tr>\n",
       "      <th>1</th>\n",
       "      <td>55.0</td>\n",
       "      <td>0</td>\n",
       "      <td>7861</td>\n",
       "      <td>0</td>\n",
       "      <td>38</td>\n",
       "      <td>0</td>\n",
       "      <td>263358.03</td>\n",
       "      <td>1.1</td>\n",
       "      <td>136</td>\n",
       "      <td>1</td>\n",
       "      <td>0</td>\n",
       "      <td>6</td>\n",
       "      <td>1</td>\n",
       "    </tr>\n",
       "    <tr>\n",
       "      <th>2</th>\n",
       "      <td>65.0</td>\n",
       "      <td>0</td>\n",
       "      <td>146</td>\n",
       "      <td>0</td>\n",
       "      <td>20</td>\n",
       "      <td>0</td>\n",
       "      <td>162000.00</td>\n",
       "      <td>1.3</td>\n",
       "      <td>129</td>\n",
       "      <td>1</td>\n",
       "      <td>1</td>\n",
       "      <td>7</td>\n",
       "      <td>1</td>\n",
       "    </tr>\n",
       "    <tr>\n",
       "      <th>3</th>\n",
       "      <td>50.0</td>\n",
       "      <td>1</td>\n",
       "      <td>111</td>\n",
       "      <td>0</td>\n",
       "      <td>20</td>\n",
       "      <td>0</td>\n",
       "      <td>210000.00</td>\n",
       "      <td>1.9</td>\n",
       "      <td>137</td>\n",
       "      <td>1</td>\n",
       "      <td>0</td>\n",
       "      <td>7</td>\n",
       "      <td>1</td>\n",
       "    </tr>\n",
       "    <tr>\n",
       "      <th>4</th>\n",
       "      <td>65.0</td>\n",
       "      <td>1</td>\n",
       "      <td>160</td>\n",
       "      <td>1</td>\n",
       "      <td>20</td>\n",
       "      <td>0</td>\n",
       "      <td>327000.00</td>\n",
       "      <td>2.7</td>\n",
       "      <td>116</td>\n",
       "      <td>0</td>\n",
       "      <td>0</td>\n",
       "      <td>8</td>\n",
       "      <td>1</td>\n",
       "    </tr>\n",
       "  </tbody>\n",
       "</table>\n",
       "</div>"
      ],
      "text/plain": [
       "    age  anaemia  creatinine_phosphokinase  diabetes  ejection_fraction  \\\n",
       "0  75.0        0                       582         0                 20   \n",
       "1  55.0        0                      7861         0                 38   \n",
       "2  65.0        0                       146         0                 20   \n",
       "3  50.0        1                       111         0                 20   \n",
       "4  65.0        1                       160         1                 20   \n",
       "\n",
       "   high_blood_pressure  platelets  serum_creatinine  serum_sodium  sex  \\\n",
       "0                    1  265000.00               1.9           130    1   \n",
       "1                    0  263358.03               1.1           136    1   \n",
       "2                    0  162000.00               1.3           129    1   \n",
       "3                    0  210000.00               1.9           137    1   \n",
       "4                    0  327000.00               2.7           116    0   \n",
       "\n",
       "   smoking  time  DEATH_EVENT  \n",
       "0        0     4            1  \n",
       "1        0     6            1  \n",
       "2        1     7            1  \n",
       "3        0     7            1  \n",
       "4        0     8            1  "
      ]
     },
     "execution_count": 195,
     "metadata": {},
     "output_type": "execute_result"
    }
   ],
   "source": [
    "data=pd.read_csv('C:\\\\Users\\\\Jaysree\\\\OneDrive\\\\kaggle\\\\heart_failure_clinical_records_dataset.csv')\n",
    "data.head()"
   ]
  },
  {
   "cell_type": "code",
   "execution_count": 6,
   "id": "5df26b4c",
   "metadata": {},
   "outputs": [
    {
     "data": {
      "text/plain": [
       "Index(['age', 'anaemia', 'creatinine_phosphokinase', 'diabetes',\n",
       "       'ejection_fraction', 'high_blood_pressure', 'platelets',\n",
       "       'serum_creatinine', 'serum_sodium', 'sex', 'smoking', 'time',\n",
       "       'DEATH_EVENT'],\n",
       "      dtype='object')"
      ]
     },
     "execution_count": 6,
     "metadata": {},
     "output_type": "execute_result"
    }
   ],
   "source": [
    "data.columns"
   ]
  },
  {
   "cell_type": "code",
   "execution_count": 14,
   "id": "072a44b3",
   "metadata": {},
   "outputs": [
    {
     "name": "stdout",
     "output_type": "stream",
     "text": [
      "<class 'pandas.core.frame.DataFrame'>\n",
      "RangeIndex: 299 entries, 0 to 298\n",
      "Data columns (total 13 columns):\n",
      " #   Column                    Non-Null Count  Dtype  \n",
      "---  ------                    --------------  -----  \n",
      " 0   age                       299 non-null    float64\n",
      " 1   anaemia                   299 non-null    int64  \n",
      " 2   creatinine_phosphokinase  299 non-null    int64  \n",
      " 3   diabetes                  299 non-null    int64  \n",
      " 4   ejection_fraction         299 non-null    int64  \n",
      " 5   high_blood_pressure       299 non-null    int64  \n",
      " 6   platelets                 299 non-null    float64\n",
      " 7   serum_creatinine          299 non-null    float64\n",
      " 8   serum_sodium              299 non-null    int64  \n",
      " 9   sex                       299 non-null    int64  \n",
      " 10  smoking                   299 non-null    int64  \n",
      " 11  time                      299 non-null    int64  \n",
      " 12  DEATH_EVENT               299 non-null    int64  \n",
      "dtypes: float64(3), int64(10)\n",
      "memory usage: 30.5 KB\n"
     ]
    }
   ],
   "source": [
    "data.info()\n",
    "# 299 entries\n",
    "# 12 columns\n",
    "# no missing values in any column"
   ]
  },
  {
   "cell_type": "code",
   "execution_count": 9,
   "id": "7e633cb9",
   "metadata": {
    "scrolled": false
   },
   "outputs": [
    {
     "data": {
      "text/plain": [
       "age                          47\n",
       "anaemia                       2\n",
       "creatinine_phosphokinase    208\n",
       "diabetes                      2\n",
       "ejection_fraction            17\n",
       "high_blood_pressure           2\n",
       "platelets                   176\n",
       "serum_creatinine             40\n",
       "serum_sodium                 27\n",
       "sex                           2\n",
       "smoking                       2\n",
       "time                        148\n",
       "DEATH_EVENT                   2\n",
       "dtype: int64"
      ]
     },
     "execution_count": 9,
     "metadata": {},
     "output_type": "execute_result"
    }
   ],
   "source": [
    "data.nunique()"
   ]
  },
  {
   "cell_type": "code",
   "execution_count": 33,
   "id": "6b66d9ca",
   "metadata": {},
   "outputs": [
    {
     "name": "stdout",
     "output_type": "stream",
     "text": [
      "anaemia\n",
      "[0 1]\n",
      "\n",
      "\n",
      "diabetes\n",
      "[0 1]\n",
      "\n",
      "\n",
      "high_blood_pressure\n",
      "[1 0]\n",
      "\n",
      "\n",
      "sex\n",
      "[1 0]\n",
      "\n",
      "\n",
      "smoking\n",
      "[0 1]\n",
      "\n",
      "\n",
      "DEATH_EVENT\n",
      "[1 0]\n"
     ]
    }
   ],
   "source": [
    "# print(data['age'].unique()) - continuous\n",
    "print('anaemia')\n",
    "print(data['anaemia'].unique()) #categorical\n",
    "\n",
    "# print(data['creatinine_phosphokinase'].unique()) - continuous\n",
    "print('\\n')\n",
    "print('diabetes')\n",
    "print(data['diabetes'].unique()) #categorical\n",
    "\n",
    "# print('ejection_fraction')\n",
    "# print(data['ejection_fraction'].unique()) -continuous\n",
    "print('\\n')\n",
    "print('high_blood_pressure')\n",
    "print(data['high_blood_pressure'].unique()) #categorical\n",
    "# print('\\n')\n",
    "# print(data['platelets'].unique()) -continuous\n",
    "# print('\\n')\n",
    "# print(data['serum_creatinine'].unique()) -continuous\n",
    "\n",
    "# print(data['serum_sodium'].unique()) - continuous\n",
    "print('\\n')\n",
    "print('sex')\n",
    "print(data['sex'].unique())  #categorical\n",
    "\n",
    "print('\\n')\n",
    "print('smoking')\n",
    "print(data['smoking'].unique()) #categorical\n",
    "# print('\\n')\n",
    "print('\\n')\n",
    "# print(data['time'].unique()) - continuous\n",
    "print('DEATH_EVENT')\n",
    "print(data['DEATH_EVENT'].unique())  #categorical"
   ]
  },
  {
   "cell_type": "code",
   "execution_count": 42,
   "id": "54f39b7d",
   "metadata": {},
   "outputs": [
    {
     "data": {
      "text/html": [
       "<div>\n",
       "<style scoped>\n",
       "    .dataframe tbody tr th:only-of-type {\n",
       "        vertical-align: middle;\n",
       "    }\n",
       "\n",
       "    .dataframe tbody tr th {\n",
       "        vertical-align: top;\n",
       "    }\n",
       "\n",
       "    .dataframe thead th {\n",
       "        text-align: right;\n",
       "    }\n",
       "</style>\n",
       "<table border=\"1\" class=\"dataframe\">\n",
       "  <thead>\n",
       "    <tr style=\"text-align: right;\">\n",
       "      <th></th>\n",
       "      <th>count</th>\n",
       "      <th>mean</th>\n",
       "      <th>std</th>\n",
       "      <th>min</th>\n",
       "      <th>25%</th>\n",
       "      <th>50%</th>\n",
       "      <th>75%</th>\n",
       "      <th>max</th>\n",
       "    </tr>\n",
       "  </thead>\n",
       "  <tbody>\n",
       "    <tr>\n",
       "      <th>age</th>\n",
       "      <td>299.0</td>\n",
       "      <td>60.833893</td>\n",
       "      <td>11.894809</td>\n",
       "      <td>40.0</td>\n",
       "      <td>51.0</td>\n",
       "      <td>60.0</td>\n",
       "      <td>70.0</td>\n",
       "      <td>95.0</td>\n",
       "    </tr>\n",
       "    <tr>\n",
       "      <th>anaemia</th>\n",
       "      <td>299.0</td>\n",
       "      <td>0.431438</td>\n",
       "      <td>0.496107</td>\n",
       "      <td>0.0</td>\n",
       "      <td>0.0</td>\n",
       "      <td>0.0</td>\n",
       "      <td>1.0</td>\n",
       "      <td>1.0</td>\n",
       "    </tr>\n",
       "    <tr>\n",
       "      <th>creatinine_phosphokinase</th>\n",
       "      <td>299.0</td>\n",
       "      <td>581.839465</td>\n",
       "      <td>970.287881</td>\n",
       "      <td>23.0</td>\n",
       "      <td>116.5</td>\n",
       "      <td>250.0</td>\n",
       "      <td>582.0</td>\n",
       "      <td>7861.0</td>\n",
       "    </tr>\n",
       "    <tr>\n",
       "      <th>diabetes</th>\n",
       "      <td>299.0</td>\n",
       "      <td>0.418060</td>\n",
       "      <td>0.494067</td>\n",
       "      <td>0.0</td>\n",
       "      <td>0.0</td>\n",
       "      <td>0.0</td>\n",
       "      <td>1.0</td>\n",
       "      <td>1.0</td>\n",
       "    </tr>\n",
       "    <tr>\n",
       "      <th>ejection_fraction</th>\n",
       "      <td>299.0</td>\n",
       "      <td>38.083612</td>\n",
       "      <td>11.834841</td>\n",
       "      <td>14.0</td>\n",
       "      <td>30.0</td>\n",
       "      <td>38.0</td>\n",
       "      <td>45.0</td>\n",
       "      <td>80.0</td>\n",
       "    </tr>\n",
       "    <tr>\n",
       "      <th>high_blood_pressure</th>\n",
       "      <td>299.0</td>\n",
       "      <td>0.351171</td>\n",
       "      <td>0.478136</td>\n",
       "      <td>0.0</td>\n",
       "      <td>0.0</td>\n",
       "      <td>0.0</td>\n",
       "      <td>1.0</td>\n",
       "      <td>1.0</td>\n",
       "    </tr>\n",
       "    <tr>\n",
       "      <th>platelets</th>\n",
       "      <td>299.0</td>\n",
       "      <td>263358.029264</td>\n",
       "      <td>97804.236869</td>\n",
       "      <td>25100.0</td>\n",
       "      <td>212500.0</td>\n",
       "      <td>262000.0</td>\n",
       "      <td>303500.0</td>\n",
       "      <td>850000.0</td>\n",
       "    </tr>\n",
       "    <tr>\n",
       "      <th>serum_creatinine</th>\n",
       "      <td>299.0</td>\n",
       "      <td>1.393880</td>\n",
       "      <td>1.034510</td>\n",
       "      <td>0.5</td>\n",
       "      <td>0.9</td>\n",
       "      <td>1.1</td>\n",
       "      <td>1.4</td>\n",
       "      <td>9.4</td>\n",
       "    </tr>\n",
       "    <tr>\n",
       "      <th>serum_sodium</th>\n",
       "      <td>299.0</td>\n",
       "      <td>136.625418</td>\n",
       "      <td>4.412477</td>\n",
       "      <td>113.0</td>\n",
       "      <td>134.0</td>\n",
       "      <td>137.0</td>\n",
       "      <td>140.0</td>\n",
       "      <td>148.0</td>\n",
       "    </tr>\n",
       "    <tr>\n",
       "      <th>sex</th>\n",
       "      <td>299.0</td>\n",
       "      <td>0.648829</td>\n",
       "      <td>0.478136</td>\n",
       "      <td>0.0</td>\n",
       "      <td>0.0</td>\n",
       "      <td>1.0</td>\n",
       "      <td>1.0</td>\n",
       "      <td>1.0</td>\n",
       "    </tr>\n",
       "    <tr>\n",
       "      <th>smoking</th>\n",
       "      <td>299.0</td>\n",
       "      <td>0.321070</td>\n",
       "      <td>0.467670</td>\n",
       "      <td>0.0</td>\n",
       "      <td>0.0</td>\n",
       "      <td>0.0</td>\n",
       "      <td>1.0</td>\n",
       "      <td>1.0</td>\n",
       "    </tr>\n",
       "    <tr>\n",
       "      <th>time</th>\n",
       "      <td>299.0</td>\n",
       "      <td>130.260870</td>\n",
       "      <td>77.614208</td>\n",
       "      <td>4.0</td>\n",
       "      <td>73.0</td>\n",
       "      <td>115.0</td>\n",
       "      <td>203.0</td>\n",
       "      <td>285.0</td>\n",
       "    </tr>\n",
       "    <tr>\n",
       "      <th>DEATH_EVENT</th>\n",
       "      <td>299.0</td>\n",
       "      <td>0.321070</td>\n",
       "      <td>0.467670</td>\n",
       "      <td>0.0</td>\n",
       "      <td>0.0</td>\n",
       "      <td>0.0</td>\n",
       "      <td>1.0</td>\n",
       "      <td>1.0</td>\n",
       "    </tr>\n",
       "  </tbody>\n",
       "</table>\n",
       "</div>"
      ],
      "text/plain": [
       "                          count           mean           std      min  \\\n",
       "age                       299.0      60.833893     11.894809     40.0   \n",
       "anaemia                   299.0       0.431438      0.496107      0.0   \n",
       "creatinine_phosphokinase  299.0     581.839465    970.287881     23.0   \n",
       "diabetes                  299.0       0.418060      0.494067      0.0   \n",
       "ejection_fraction         299.0      38.083612     11.834841     14.0   \n",
       "high_blood_pressure       299.0       0.351171      0.478136      0.0   \n",
       "platelets                 299.0  263358.029264  97804.236869  25100.0   \n",
       "serum_creatinine          299.0       1.393880      1.034510      0.5   \n",
       "serum_sodium              299.0     136.625418      4.412477    113.0   \n",
       "sex                       299.0       0.648829      0.478136      0.0   \n",
       "smoking                   299.0       0.321070      0.467670      0.0   \n",
       "time                      299.0     130.260870     77.614208      4.0   \n",
       "DEATH_EVENT               299.0       0.321070      0.467670      0.0   \n",
       "\n",
       "                               25%       50%       75%       max  \n",
       "age                           51.0      60.0      70.0      95.0  \n",
       "anaemia                        0.0       0.0       1.0       1.0  \n",
       "creatinine_phosphokinase     116.5     250.0     582.0    7861.0  \n",
       "diabetes                       0.0       0.0       1.0       1.0  \n",
       "ejection_fraction             30.0      38.0      45.0      80.0  \n",
       "high_blood_pressure            0.0       0.0       1.0       1.0  \n",
       "platelets                 212500.0  262000.0  303500.0  850000.0  \n",
       "serum_creatinine               0.9       1.1       1.4       9.4  \n",
       "serum_sodium                 134.0     137.0     140.0     148.0  \n",
       "sex                            0.0       1.0       1.0       1.0  \n",
       "smoking                        0.0       0.0       1.0       1.0  \n",
       "time                          73.0     115.0     203.0     285.0  \n",
       "DEATH_EVENT                    0.0       0.0       1.0       1.0  "
      ]
     },
     "execution_count": 42,
     "metadata": {},
     "output_type": "execute_result"
    }
   ],
   "source": [
    "# summary statistics for numerical variables\n",
    "data.describe().T\n",
    "\n",
    "average age is around 60 years, with min 40 myears and maximum 95 years\n",
    "\n",
    "# creatinine_phosphokinase (some enzyme present in blood and measured in mcg/L which is Micrograms per litre)\n",
    "average of this is 581 mcg/L with minimum being 23.0 and max being 7861.0\n",
    "\n",
    "ejection_fraction (percentage of blood leaving the heart at each contraction)\n",
    "average percentage is 38% with min being 14% and max being 80%\n",
    "\n",
    "platelets (platelets in blood (kiloplatelets/ML))\n",
    "average being 263358.029264 with min being 25100.0 and max being 850000.0 kiloplatelets\n",
    "\n",
    "serum_creatinine (level of serum_creatinine in blood (milligrams (mg) per deciliter (dL)))\n",
    "average being 1.393880 with min being 0.5 and max being 9.4 kiloplatelets\n",
    "\n",
    "serum_sodium (level of serum sodium in the blood (mEg/L))\n",
    "average being 136.625418 with min being 113.0 and max being 148.0 kiloplatelets\n",
    "\n",
    "time(follow-up period) (days)\n",
    "average being 130 days with min 4 days and max 285 days\n"
   ]
  },
  {
   "cell_type": "code",
   "execution_count": 53,
   "id": "87a34bdd",
   "metadata": {},
   "outputs": [],
   "source": [
    "# univariate analysis - categorical variable\n",
    "# as the target variable is categorical will look into that first\n",
    "import matplotlib.pyplot as plt\n",
    "%matplotlib inline"
   ]
  },
  {
   "cell_type": "code",
   "execution_count": 56,
   "id": "55c6bd07",
   "metadata": {},
   "outputs": [
    {
     "data": {
      "text/plain": [
       "<AxesSubplot:xlabel='DEATH_EVENT'>"
      ]
     },
     "execution_count": 56,
     "metadata": {},
     "output_type": "execute_result"
    },
    {
     "data": {
      "image/png": "[encoded data removed]",
      "text/plain": [
       "<Figure size 432x288 with 1 Axes>"
      ]
     },
     "metadata": {
      "needs_background": "light"
     },
     "output_type": "display_data"
    }
   ],
   "source": [
    "GroupedData= data.groupby('DEATH_EVENT').size()\n",
    "GroupedData.plot(kind='bar')"
   ]
  },
  {
   "cell_type": "code",
   "execution_count": 85,
   "id": "e75cceab",
   "metadata": {},
   "outputs": [],
   "source": [
    "# univariate analysis of all categorical variables\n",
    "def PlotBarCharts(inpdata, colstoplot):\n",
    "    %matplotlib inline\n",
    "    \n",
    "    import matplotlib.pyplot as plt\n",
    "    \n",
    "    #generating subplots\n",
    "    fig, subplot=plt.subplots(nrows=1,ncols=len(colstoplot), figsize=(40,6))\n",
    "    fig.suptitle('Bar charts of: '+ str(colstoplot))\n",
    "    \n",
    "    for colName,plotNumber in zip(colstoplot,range(len(colstoplot))):\n",
    "        inpdata.groupby(colName).size().plot(kind='bar', ax=subplot[plotNumber])"
   ]
  },
  {
   "cell_type": "code",
   "execution_count": 86,
   "id": "edbe6211",
   "metadata": {},
   "outputs": [
    {
     "data": {
      "image/png": "[encoded data removed]",
      "text/plain": [
       "<Figure size 2880x432 with 5 Axes>"
      ]
     },
     "metadata": {
      "needs_background": "light"
     },
     "output_type": "display_data"
    }
   ],
   "source": [
    "PlotBarCharts(inpdata=data, colstoplot= ['anaemia', 'diabetes','high_blood_pressure', 'sex', 'smoking'])\n",
    "# good enough data available in all columns\n",
    "# all columns selected"
   ]
  },
  {
   "cell_type": "code",
   "execution_count": 68,
   "id": "141d7f7c",
   "metadata": {},
   "outputs": [
    {
     "data": {
      "text/plain": [
       "array([[<AxesSubplot:title={'center':'age'}>,\n",
       "        <AxesSubplot:title={'center':'creatinine_phosphokinase'}>,\n",
       "        <AxesSubplot:title={'center':'ejection_fraction'}>],\n",
       "       [<AxesSubplot:title={'center':'platelets'}>,\n",
       "        <AxesSubplot:title={'center':'serum_creatinine'}>,\n",
       "        <AxesSubplot:title={'center':'serum_sodium'}>],\n",
       "       [<AxesSubplot:title={'center':'time'}>, <AxesSubplot:>,\n",
       "        <AxesSubplot:>]], dtype=object)"
      ]
     },
     "execution_count": 68,
     "metadata": {},
     "output_type": "execute_result"
    },
    {
     "data": {
      "image/png": "[encoded data removed]",
      "text/plain": [
       "<Figure size 1296x720 with 9 Axes>"
      ]
     },
     "metadata": {
      "needs_background": "light"
     },
     "output_type": "display_data"
    }
   ],
   "source": [
    "# univariate analysis for all continuous variables\n",
    "data.hist(['age',  'creatinine_phosphokinase', \n",
    "       'ejection_fraction', 'platelets',\n",
    "       'serum_creatinine', 'serum_sodium',  'time'], figsize=(18,10))\n",
    "# all columns selected but creatinine_phosphokinase, serum_creatinine are right skewed\n",
    "# outlier treatment needs to be done"
   ]
  },
  {
   "cell_type": "code",
   "execution_count": 89,
   "id": "fd1216c8",
   "metadata": {},
   "outputs": [
    {
     "data": {
      "text/plain": [
       "array([[<AxesSubplot:title={'center':'creatinine_phosphokinase'}>]],\n",
       "      dtype=object)"
      ]
     },
     "execution_count": 89,
     "metadata": {},
     "output_type": "execute_result"
    },
    {
     "data": {
      "image/png": "[encoded data removed]",
      "text/plain": [
       "<Figure size 1296x432 with 1 Axes>"
      ]
     },
     "metadata": {
      "needs_background": "light"
     },
     "output_type": "display_data"
    }
   ],
   "source": [
    "data.hist('creatinine_phosphokinase', figsize=(18,6))\n",
    "# we have outliers here in creatinine_phosphokinase afetr \n",
    "\n"
   ]
  },
  {
   "cell_type": "code",
   "execution_count": 99,
   "id": "3eb57a1d",
   "metadata": {},
   "outputs": [
    {
     "name": "stdout",
     "output_type": "stream",
     "text": [
      "52     3964\n",
      "171    3966\n",
      "134    4540\n",
      "103    5209\n",
      "72     5882\n",
      "60     7702\n",
      "1      7861\n",
      "Name: creatinine_phosphokinase, dtype: int64\n"
     ]
    }
   ],
   "source": [
    "print(data['creatinine_phosphokinase'][data['creatinine_phosphokinase']>3000].sort_values())"
   ]
  },
  {
   "cell_type": "code",
   "execution_count": 101,
   "id": "a1267280",
   "metadata": {},
   "outputs": [
    {
     "name": "stderr",
     "output_type": "stream",
     "text": [
      "<ipython-input-101-b51fefb0fd89>:2: SettingWithCopyWarning: \n",
      "A value is trying to be set on a copy of a slice from a DataFrame\n",
      "\n",
      "See the caveats in the documentation: https://pandas.pydata.org/pandas-docs/stable/user_guide/indexing.html#returning-a-view-versus-a-copy\n",
      "  data['creatinine_phosphokinase'][data['creatinine_phosphokinase']>3000]=3966\n"
     ]
    }
   ],
   "source": [
    "# replacing outliers with closest value\n",
    "data['creatinine_phosphokinase'][data['creatinine_phosphokinase']>3000]=3966"
   ]
  },
  {
   "cell_type": "code",
   "execution_count": 110,
   "id": "0d821dfc",
   "metadata": {},
   "outputs": [
    {
     "data": {
      "text/plain": [
       "array([[<AxesSubplot:title={'center':'creatinine_phosphokinase'}>]],\n",
       "      dtype=object)"
      ]
     },
     "execution_count": 110,
     "metadata": {},
     "output_type": "execute_result"
    },
    {
     "data": {
      "image/png": "[encoded data removed]",
      "text/plain": [
       "<Figure size 1296x432 with 1 Axes>"
      ]
     },
     "metadata": {
      "needs_background": "light"
     },
     "output_type": "display_data"
    }
   ],
   "source": [
    "data.hist('creatinine_phosphokinase', figsize=(18,6))"
   ]
  },
  {
   "cell_type": "code",
   "execution_count": 116,
   "id": "53092a9e",
   "metadata": {},
   "outputs": [
    {
     "ename": "SyntaxError",
     "evalue": "invalid syntax (<ipython-input-116-b0bc97ee5479>, line 2)",
     "output_type": "error",
     "traceback": [
      "\u001b[1;36m  File \u001b[1;32m\"<ipython-input-116-b0bc97ee5479>\"\u001b[1;36m, line \u001b[1;32m2\u001b[0m\n\u001b[1;33m    data['creatinine_phosphokinase'][data['creatinine_phosphokinase']<4000.sort_values())\u001b[0m\n\u001b[1;37m                                                                           ^\u001b[0m\n\u001b[1;31mSyntaxError\u001b[0m\u001b[1;31m:\u001b[0m invalid syntax\n"
     ]
    }
   ],
   "source": [
    "print(data['creatinine_phosphokinase'][data['creatinine_phosphokinase']>3000 and \n",
    "    data['creatinine_phosphokinase'][data['creatinine_phosphokinase']<4000.sort_values())"
   ]
  },
  {
   "cell_type": "code",
   "execution_count": 120,
   "id": "f3f6b8d9",
   "metadata": {},
   "outputs": [
    {
     "data": {
      "text/plain": [
       "52     3964\n",
       "171    3966\n",
       "Name: creatinine_phosphokinase, dtype: int64"
      ]
     },
     "execution_count": 120,
     "metadata": {},
     "output_type": "execute_result"
    }
   ],
   "source": [
    "data['creatinine_phosphokinase'][data['creatinine_phosphokinase'].between(3000,4000)]"
   ]
  },
  {
   "cell_type": "code",
   "execution_count": 121,
   "id": "3d6cf6b5",
   "metadata": {},
   "outputs": [
    {
     "data": {
      "text/plain": [
       "52     3964\n",
       "171    3966\n",
       "Name: creatinine_phosphokinase, dtype: int64"
      ]
     },
     "execution_count": 121,
     "metadata": {},
     "output_type": "execute_result"
    }
   ],
   "source": [
    "data['creatinine_phosphokinase'][data['creatinine_phosphokinase'].between(3000,4000, inclusive = True)]"
   ]
  },
  {
   "cell_type": "code",
   "execution_count": 124,
   "id": "66b299db",
   "metadata": {},
   "outputs": [
    {
     "data": {
      "text/plain": [
       "227    2794\n",
       "280    2695\n",
       "38     2656\n",
       "250    2522\n",
       "164    2442\n",
       "       ... \n",
       "86       47\n",
       "5        47\n",
       "75       47\n",
       "151      30\n",
       "31       23\n",
       "Name: creatinine_phosphokinase, Length: 292, dtype: int64"
      ]
     },
     "execution_count": 124,
     "metadata": {},
     "output_type": "execute_result"
    }
   ],
   "source": [
    "data['creatinine_phosphokinase'][data['creatinine_phosphokinase']<3000].sort_values(ascending=False)"
   ]
  },
  {
   "cell_type": "code",
   "execution_count": 131,
   "id": "105b8462",
   "metadata": {},
   "outputs": [
    {
     "name": "stderr",
     "output_type": "stream",
     "text": [
      "<ipython-input-131-1fc236bd4824>:1: SettingWithCopyWarning: \n",
      "A value is trying to be set on a copy of a slice from a DataFrame\n",
      "\n",
      "See the caveats in the documentation: https://pandas.pydata.org/pandas-docs/stable/user_guide/indexing.html#returning-a-view-versus-a-copy\n",
      "  data['creatinine_phosphokinase'][data['creatinine_phosphokinase']>3000] = 2794\n"
     ]
    }
   ],
   "source": [
    "data['creatinine_phosphokinase'][data['creatinine_phosphokinase']>3000] = 2794"
   ]
  },
  {
   "cell_type": "code",
   "execution_count": 132,
   "id": "d29f81a2",
   "metadata": {},
   "outputs": [
    {
     "data": {
      "text/plain": [
       "array([[<AxesSubplot:title={'center':'creatinine_phosphokinase'}>]],\n",
       "      dtype=object)"
      ]
     },
     "execution_count": 132,
     "metadata": {},
     "output_type": "execute_result"
    },
    {
     "data": {
      "image/png": "[encoded data removed]",
      "text/plain": [
       "<Figure size 1296x432 with 1 Axes>"
      ]
     },
     "metadata": {
      "needs_background": "light"
     },
     "output_type": "display_data"
    }
   ],
   "source": [
    "data.hist('creatinine_phosphokinase', figsize=(18,6))"
   ]
  },
  {
   "cell_type": "code",
   "execution_count": 133,
   "id": "f009626c",
   "metadata": {},
   "outputs": [
    {
     "data": {
      "text/plain": [
       "array([[<AxesSubplot:title={'center':'ejection_fraction'}>]], dtype=object)"
      ]
     },
     "execution_count": 133,
     "metadata": {},
     "output_type": "execute_result"
    },
    {
     "data": {
      "image/png": "[encoded data removed]",
      "text/plain": [
       "<Figure size 1296x432 with 1 Axes>"
      ]
     },
     "metadata": {
      "needs_background": "light"
     },
     "output_type": "display_data"
    }
   ],
   "source": [
    "data.hist('ejection_fraction', figsize=(18,6))"
   ]
  },
  {
   "cell_type": "code",
   "execution_count": 136,
   "id": "c4710c30",
   "metadata": {},
   "outputs": [
    {
     "data": {
      "text/plain": [
       "52     62\n",
       "211    62\n",
       "8      65\n",
       "217    70\n",
       "64     80\n",
       "Name: ejection_fraction, dtype: int64"
      ]
     },
     "execution_count": 136,
     "metadata": {},
     "output_type": "execute_result"
    }
   ],
   "source": [
    "data['ejection_fraction'][data['ejection_fraction']>60].sort_values()"
   ]
  },
  {
   "cell_type": "code",
   "execution_count": 137,
   "id": "3db654e3",
   "metadata": {},
   "outputs": [
    {
     "name": "stderr",
     "output_type": "stream",
     "text": [
      "<ipython-input-137-bce1470d82e5>:1: SettingWithCopyWarning: \n",
      "A value is trying to be set on a copy of a slice from a DataFrame\n",
      "\n",
      "See the caveats in the documentation: https://pandas.pydata.org/pandas-docs/stable/user_guide/indexing.html#returning-a-view-versus-a-copy\n",
      "  data['ejection_fraction'][data['ejection_fraction']>60]=60\n"
     ]
    }
   ],
   "source": [
    "data['ejection_fraction'][data['ejection_fraction']>60]=60"
   ]
  },
  {
   "cell_type": "code",
   "execution_count": 138,
   "id": "fda0a62d",
   "metadata": {},
   "outputs": [
    {
     "data": {
      "text/plain": [
       "array([[<AxesSubplot:title={'center':'ejection_fraction'}>]], dtype=object)"
      ]
     },
     "execution_count": 138,
     "metadata": {},
     "output_type": "execute_result"
    },
    {
     "data": {
      "image/png": "[encoded data removed]",
      "text/plain": [
       "<Figure size 1296x432 with 1 Axes>"
      ]
     },
     "metadata": {
      "needs_background": "light"
     },
     "output_type": "display_data"
    }
   ],
   "source": [
    "data.hist('ejection_fraction', figsize=(18,6))"
   ]
  },
  {
   "cell_type": "code",
   "execution_count": 139,
   "id": "7bb7287d",
   "metadata": {},
   "outputs": [
    {
     "data": {
      "text/plain": [
       "array([[<AxesSubplot:title={'center':'platelets'}>]], dtype=object)"
      ]
     },
     "execution_count": 139,
     "metadata": {},
     "output_type": "execute_result"
    },
    {
     "data": {
      "image/png": "[encoded data removed]",
      "text/plain": [
       "<Figure size 1296x432 with 1 Axes>"
      ]
     },
     "metadata": {
      "needs_background": "light"
     },
     "output_type": "display_data"
    }
   ],
   "source": [
    "data.hist('platelets', figsize=(18,6))"
   ]
  },
  {
   "cell_type": "code",
   "execution_count": 140,
   "id": "3a97dbba",
   "metadata": {},
   "outputs": [
    {
     "data": {
      "text/plain": [
       "47     451000.0\n",
       "279    451000.0\n",
       "7      454000.0\n",
       "55     461000.0\n",
       "212    481000.0\n",
       "69     497000.0\n",
       "224    504000.0\n",
       "117    507000.0\n",
       "240    533000.0\n",
       "287    543000.0\n",
       "105    621000.0\n",
       "296    742000.0\n",
       "109    850000.0\n",
       "Name: platelets, dtype: float64"
      ]
     },
     "execution_count": 140,
     "metadata": {},
     "output_type": "execute_result"
    }
   ],
   "source": [
    "data['platelets'][data['platelets']>450000].sort_values()"
   ]
  },
  {
   "cell_type": "code",
   "execution_count": 141,
   "id": "6a6c2198",
   "metadata": {},
   "outputs": [
    {
     "name": "stderr",
     "output_type": "stream",
     "text": [
      "<ipython-input-141-fd0e4d0650ad>:1: SettingWithCopyWarning: \n",
      "A value is trying to be set on a copy of a slice from a DataFrame\n",
      "\n",
      "See the caveats in the documentation: https://pandas.pydata.org/pandas-docs/stable/user_guide/indexing.html#returning-a-view-versus-a-copy\n",
      "  data['platelets'][data['platelets']>543000.0]= 543000.0\n"
     ]
    }
   ],
   "source": [
    "data['platelets'][data['platelets']>543000.0]= 543000.0"
   ]
  },
  {
   "cell_type": "code",
   "execution_count": 142,
   "id": "f1baf802",
   "metadata": {},
   "outputs": [
    {
     "data": {
      "text/plain": [
       "array([[<AxesSubplot:title={'center':'platelets'}>]], dtype=object)"
      ]
     },
     "execution_count": 142,
     "metadata": {},
     "output_type": "execute_result"
    },
    {
     "data": {
      "image/png": "[encoded data removed]",
      "text/plain": [
       "<Figure size 1296x432 with 1 Axes>"
      ]
     },
     "metadata": {
      "needs_background": "light"
     },
     "output_type": "display_data"
    }
   ],
   "source": [
    "data.hist('platelets', figsize=(18,6))"
   ]
  },
  {
   "cell_type": "code",
   "execution_count": 144,
   "id": "8f39a57a",
   "metadata": {},
   "outputs": [
    {
     "data": {
      "text/plain": [
       "array([[<AxesSubplot:title={'center':'serum_creatinine'}>]], dtype=object)"
      ]
     },
     "execution_count": 144,
     "metadata": {},
     "output_type": "execute_result"
    },
    {
     "data": {
      "image/png": "[encoded data removed]",
      "text/plain": [
       "<Figure size 1296x432 with 1 Axes>"
      ]
     },
     "metadata": {
      "needs_background": "light"
     },
     "output_type": "display_data"
    }
   ],
   "source": [
    "data.hist('serum_creatinine', figsize=(18,6))"
   ]
  },
  {
   "cell_type": "code",
   "execution_count": 145,
   "id": "3e19c0b1",
   "metadata": {},
   "outputs": [
    {
     "data": {
      "text/plain": [
       "48     4.4\n",
       "228    5.0\n",
       "28     5.8\n",
       "131    6.1\n",
       "52     6.8\n",
       "217    9.0\n",
       "9      9.4\n",
       "Name: serum_creatinine, dtype: float64"
      ]
     },
     "execution_count": 145,
     "metadata": {},
     "output_type": "execute_result"
    }
   ],
   "source": [
    "data['serum_creatinine'][data['serum_creatinine']>4].sort_values()"
   ]
  },
  {
   "cell_type": "code",
   "execution_count": 167,
   "id": "3a2f6233",
   "metadata": {},
   "outputs": [],
   "source": [
    "# data.columns\n",
    "continuous_features= ['age', 'creatinine_phosphokinase','ejection_fraction','platelets','serum_creatinine', 'serum_sodium','time']"
   ]
  },
  {
   "cell_type": "code",
   "execution_count": 169,
   "id": "1b4f18f7",
   "metadata": {},
   "outputs": [
    {
     "name": "stdout",
     "output_type": "stream",
     "text": [
      "q1:  0.9\n",
      "q3:  1.4\n",
      "IQR 0.4999999999999999\n",
      "age                         299\n",
      "creatinine_phosphokinase    299\n",
      "ejection_fraction           299\n",
      "platelets                   299\n",
      "serum_creatinine             29\n",
      "serum_sodium                299\n",
      "time                        299\n",
      "dtype: int64\n"
     ]
    }
   ],
   "source": [
    "q1= data['serum_creatinine'].quantile(0.25)\n",
    "print('q1: ',q1)\n",
    "\n",
    "q3= data['serum_creatinine'].quantile(0.75)\n",
    "\n",
    "print('q3: ',q3)\n",
    "\n",
    "IQR=q3-q1\n",
    "print('IQR', IQR)\n",
    "\n",
    "outliers_count= ((data[continuous_features]<(q1-1.5*IQR)) | (data[continuous_features]>(q3+1.5*IQR))).sum()\n",
    "print(outliers_count)"
   ]
  },
  {
   "cell_type": "code",
   "execution_count": 170,
   "id": "25e09ea0",
   "metadata": {},
   "outputs": [
    {
     "name": "stdout",
     "output_type": "stream",
     "text": [
      "AxesSubplot(0.125,0.125;0.775x0.755)\n"
     ]
    },
    {
     "data": {
      "image/png": "[encoded data removed]",
      "text/plain": [
       "<Figure size 576x288 with 1 Axes>"
      ]
     },
     "metadata": {
      "needs_background": "light"
     },
     "output_type": "display_data"
    }
   ],
   "source": [
    "print(data.boxplot(column='creatinine_phosphokinase', figsize=(8,4), vert=False))"
   ]
  },
  {
   "cell_type": "code",
   "execution_count": 184,
   "id": "20802d60",
   "metadata": {},
   "outputs": [],
   "source": [
    "outliers=[]\n",
    "def outlier_detect(data):\n",
    "    data = np.array(data).astype(float)\n",
    "    q1=np.percentile(data,25)\n",
    "    q3=np.percentile(data,75)\n",
    "    IQR=q3-q1\n",
    "    lower_bound=q1-1.5*IQR\n",
    "    upper_bound=q3+1.5*IQR\n",
    "    for i in data:\n",
    "        if (i<lower_bound or i>upper_bound):\n",
    "            outliers.append(i)\n",
    "        return outliers\n",
    "    "
   ]
  },
  {
   "cell_type": "code",
   "execution_count": 189,
   "id": "44256e27",
   "metadata": {},
   "outputs": [
    {
     "ename": "TypeError",
     "evalue": "list indices must be integers or slices, not list",
     "output_type": "error",
     "traceback": [
      "\u001b[1;31m---------------------------------------------------------------------------\u001b[0m",
      "\u001b[1;31mTypeError\u001b[0m                                 Traceback (most recent call last)",
      "\u001b[1;32m<ipython-input-189-7ff619f58a04>\u001b[0m in \u001b[0;36m<module>\u001b[1;34m\u001b[0m\n\u001b[0;32m     17\u001b[0m \u001b[1;33m\u001b[0m\u001b[0m\n\u001b[0;32m     18\u001b[0m \u001b[1;33m\u001b[0m\u001b[0m\n\u001b[1;32m---> 19\u001b[1;33m \u001b[0msample_outliers\u001b[0m \u001b[1;33m=\u001b[0m \u001b[0mdetect_outliers_iqr\u001b[0m\u001b[1;33m(\u001b[0m\u001b[0mdata\u001b[0m\u001b[1;33m[\u001b[0m\u001b[0mcontinuous_features\u001b[0m\u001b[1;33m]\u001b[0m\u001b[1;33m)\u001b[0m\u001b[1;33m\u001b[0m\u001b[1;33m\u001b[0m\u001b[0m\n\u001b[0m\u001b[0;32m     20\u001b[0m \u001b[0mprint\u001b[0m\u001b[1;33m(\u001b[0m\u001b[1;34m\"Outliers from IQR method: \"\u001b[0m\u001b[1;33m,\u001b[0m \u001b[0msample_outliers\u001b[0m\u001b[1;33m)\u001b[0m\u001b[1;33m\u001b[0m\u001b[1;33m\u001b[0m\u001b[0m\n",
      "\u001b[1;31mTypeError\u001b[0m: list indices must be integers or slices, not list"
     ]
    }
   ],
   "source": [
    "import numpy as np\n",
    "outliers = []\n",
    "def detect_outliers_iqr(data):\n",
    "    data = np.array(data).astype(float)\n",
    "    data=sorted(data)\n",
    "    q1 = np.percentile(data, 25)\n",
    "    q3 = np.percentile(data, 75)\n",
    "    # print(q1, q3)\n",
    "    IQR = q3-q1\n",
    "    lwr_bound = q1-(1.5*IQR)\n",
    "    upr_bound = q3+(1.5*IQR)\n",
    "    # print(lwr_bound, upr_bound)\n",
    "    for i in data: \n",
    "        if (i<lwr_bound or i>upr_bound):\n",
    "            outliers.append(i)\n",
    "    return outliers\n",
    "\n",
    "\n",
    "sample_outliers = detect_outliers_iqr(data[continuous_features])\n",
    "print(\"Outliers from IQR method: \", sample_outliers)"
   ]
  },
  {
   "cell_type": "code",
   "execution_count": 191,
   "id": "22fb7039",
   "metadata": {},
   "outputs": [
    {
     "data": {
      "text/plain": [
       "['age',\n",
       " 'creatinine_phosphokinase',\n",
       " 'ejection_fraction',\n",
       " 'platelets',\n",
       " 'serum_creatinine',\n",
       " 'serum_sodium',\n",
       " 'time']"
      ]
     },
     "execution_count": 191,
     "metadata": {},
     "output_type": "execute_result"
    }
   ],
   "source": [
    "continuous_features"
   ]
  },
  {
   "cell_type": "code",
   "execution_count": 200,
   "id": "4cfff866",
   "metadata": {},
   "outputs": [
    {
     "name": "stdout",
     "output_type": "stream",
     "text": [
      "Outliers from IQR method:  [1380.0, 1419.0, 1548.0, 1610.0, 1688.0, 1767.0, 1808.0, 1820.0, 1846.0, 1876.0, 1896.0, 2017.0, 2060.0, 2261.0, 2281.0, 2334.0, 2413.0, 2442.0, 2522.0, 2656.0, 2695.0, 2794.0, 3964.0, 3966.0, 4540.0, 5209.0, 5882.0, 7702.0, 7861.0]\n"
     ]
    }
   ],
   "source": [
    "import numpy as np\n",
    "\n",
    "outliers = []\n",
    "\n",
    "def detect_outliers_iqr(data):\n",
    "    data = np.array(data).astype(float)  # Convert data to numerical values\n",
    "    data = sorted(data)\n",
    "    q1 = np.percentile(data, 25)\n",
    "    q3 = np.percentile(data, 75)\n",
    "    IQR = q3 - q1\n",
    "    lwr_bound = q1 - (1.5 * IQR)\n",
    "    upr_bound = q3 + (1.5 * IQR)\n",
    "    for i in data:\n",
    "        if i < lwr_bound or i > upr_bound:\n",
    "            outliers.append(i)\n",
    "    return outliers\n",
    "\n",
    "# Example usage\n",
    "sample_outliers = detect_outliers_iqr(data['creatinine_phosphokinase'])\n",
    "print(\"Outliers from IQR method: \", sample_outliers)"
   ]
  },
  {
   "cell_type": "code",
   "execution_count": null,
   "id": "a1c3e2cb",
   "metadata": {},
   "outputs": [],
   "source": [
    "tenth_percentile = np.percentile(sample, 10)\n",
    "ninetieth_percentile = np.percentile(sample, 90)"
   ]
  },
  {
   "cell_type": "code",
   "execution_count": null,
   "id": "d0d3e048",
   "metadata": {},
   "outputs": [],
   "source": [
    "# These lines of code calculate the 10th and 90th percentiles of a dataset stored in the variable sample using \n",
    "# NumPys np.percentile() function. tenth_percentile = np.percentile(sample, 10): This line calculates the value below \n",
    "# which 10% of the data points fall. In other words, if you were to arrange the data points in ascending order, the \n",
    "# tenth_percentile value would be such that 10% of the data points are less than or equal to it.\n",
    "# ninetieth_percentile = np.percentile(sample, 90): This line calculates the value below which 90% of the data points fall. \n",
    "# Similarly, if you were to arrange the data points in ascending order, the ninetieth_percentile value would be such that \n",
    "# 90% of the data points are less than or equal to it.\n",
    "# These percentiles are useful for understanding the distribution of data, particularly for identifying extreme values \n",
    "# or understanding the spread of data within a certain range. They provide insights into how the data is distributed \n",
    "# across different portions of the dataset."
   ]
  },
  {
   "cell_type": "code",
   "execution_count": 204,
   "id": "77e8fd67",
   "metadata": {},
   "outputs": [
    {
     "name": "stdout",
     "output_type": "stream",
     "text": [
      "67.6\n"
     ]
    }
   ],
   "source": [
    "tenth_percentile=np.percentile(data['creatinine_phosphokinase'],10)\n",
    "print(tenth_percentile)"
   ]
  },
  {
   "cell_type": "code",
   "execution_count": null,
   "id": "7e2fd20a",
   "metadata": {},
   "outputs": [],
   "source": [
    "b = np.where(sample<tenth_percentile, tenth_percentile, sample)\n",
    "b = np.where(b>ninetieth_percentile, ninetieth_percentile, b)\n",
    "# print(\"Sample:\", sample)\n",
    "print(\"New array:\",b)"
   ]
  },
  {
   "cell_type": "code",
   "execution_count": null,
   "id": "214accaf",
   "metadata": {},
   "outputs": [],
   "source": []
  },
  {
   "cell_type": "code",
   "execution_count": null,
   "id": "0945a22f",
   "metadata": {},
   "outputs": [],
   "source": []
  }
 ],
 "metadata": {
  "kernelspec": {
   "display_name": "Python 3",
   "language": "python",
   "name": "python3"
  },
  "language_info": {
   "codemirror_mode": {
    "name": "ipython",
    "version": 3
   },
   "file_extension": ".py",
   "mimetype": "text/x-python",
   "name": "python",
   "nbconvert_exporter": "python",
   "pygments_lexer": "ipython3",
   "version": "3.8.8"
  }
 },
 "nbformat": 4,
 "nbformat_minor": 5
}
